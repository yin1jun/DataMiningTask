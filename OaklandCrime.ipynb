{
 "cells": [
  {
   "cell_type": "markdown",
   "metadata": {},
   "source": [
    "# 3 数据集Oakland Crime Statistics分析\n",
    "\n",
    "## 3.1 概述\n",
    "\n",
    "该数据集有从2011年到2016年的数据，共有10项属性标签，分别是：\n",
    "\n",
    "* Agency：机构\n",
    "* Create Time：立案时间\n",
    "* Location：案件位置\n",
    "* Area Id：区域ID\n",
    "* Beat：巡逻区域\n",
    "* Priority：案件优先级\n",
    "* Incident Type Id：事件类型ID\n",
    "* Incident Type Description：事件类型描述\n",
    "* Event Number：事件编号\n",
    "* Closed Time：结案时间\n",
    "\n",
    "## 3.2 导入&预览数据\n",
    "\n",
    "数据分析工具：\n",
    "\n",
    "* Numpy\n",
    "* Pandas\n",
    "\n",
    "可视化工具：\n",
    "\n",
    "* Matplotlib\n",
    "* Seaborn"
   ]
  },
  {
   "cell_type": "code",
   "execution_count": 8,
   "metadata": {
    "collapsed": false
   },
   "outputs": [],
   "source": [
    "import os\n",
    "import sys\n",
    "import math\n",
    "import pandas as pd\n",
    "import numpy as np\n",
    "import csv\n",
    "import json\n",
    "import pickle\n",
    "import matplotlib.pyplot as plt\n",
    "from scipy import stats\n",
    "from pandas.core import datetools\n",
    "import statsmodels.api as sm\n",
    "import time\n",
    "# 内嵌画图\n",
    "%matplotlib inline"
   ]
  },
  {
   "cell_type": "markdown",
   "metadata": {},
   "source": [
    "分别导入并预览前几条数据。数据位于 data/OaklandCrime/records-for-201X.csv 这几个CSV文件中，使用Pandas库中的read_csv()方法将CSV文件的内容加载到Pandas DataFrame()对象中。首先预览2011年的数据："
   ]
  },
  {
   "cell_type": "code",
   "execution_count": 9,
   "metadata": {
    "collapsed": false
   },
   "outputs": [
    {
     "data": {
      "text/html": [
       "<div>\n",
       "<style scoped>\n",
       "    .dataframe tbody tr th:only-of-type {\n",
       "        vertical-align: middle;\n",
       "    }\n",
       "\n",
       "    .dataframe tbody tr th {\n",
       "        vertical-align: top;\n",
       "    }\n",
       "\n",
       "    .dataframe thead th {\n",
       "        text-align: right;\n",
       "    }\n",
       "</style>\n",
       "<table border=\"1\" class=\"dataframe\">\n",
       "  <thead>\n",
       "    <tr style=\"text-align: right;\">\n",
       "      <th></th>\n",
       "      <th>Agency</th>\n",
       "      <th>Create Time</th>\n",
       "      <th>Location</th>\n",
       "      <th>Area Id</th>\n",
       "      <th>Beat</th>\n",
       "      <th>Priority</th>\n",
       "      <th>Incident Type Id</th>\n",
       "      <th>Incident Type Description</th>\n",
       "      <th>Event Number</th>\n",
       "      <th>Closed Time</th>\n",
       "    </tr>\n",
       "  </thead>\n",
       "  <tbody>\n",
       "    <tr>\n",
       "      <th>0</th>\n",
       "      <td>OP</td>\n",
       "      <td>2011-01-01T00:00:00.000</td>\n",
       "      <td>ST&amp;SAN PABLO AV</td>\n",
       "      <td>1.0</td>\n",
       "      <td>06X</td>\n",
       "      <td>1.0</td>\n",
       "      <td>PDOA</td>\n",
       "      <td>POSSIBLE DEAD PERSON</td>\n",
       "      <td>LOP110101000001</td>\n",
       "      <td>2011-01-01T00:28:17.000</td>\n",
       "    </tr>\n",
       "    <tr>\n",
       "      <th>1</th>\n",
       "      <td>OP</td>\n",
       "      <td>2011-01-01T00:01:11.000</td>\n",
       "      <td>ST&amp;HANNAH ST</td>\n",
       "      <td>1.0</td>\n",
       "      <td>07X</td>\n",
       "      <td>1.0</td>\n",
       "      <td>415GS</td>\n",
       "      <td>415 GUNSHOTS</td>\n",
       "      <td>LOP110101000002</td>\n",
       "      <td>2011-01-01T01:12:56.000</td>\n",
       "    </tr>\n",
       "    <tr>\n",
       "      <th>2</th>\n",
       "      <td>OP</td>\n",
       "      <td>2011-01-01T00:01:25.000</td>\n",
       "      <td>ST&amp;MARKET ST</td>\n",
       "      <td>1.0</td>\n",
       "      <td>10Y</td>\n",
       "      <td>2.0</td>\n",
       "      <td>415GS</td>\n",
       "      <td>415 GUNSHOTS</td>\n",
       "      <td>LOP110101000003</td>\n",
       "      <td>2011-01-01T00:07:20.000</td>\n",
       "    </tr>\n",
       "    <tr>\n",
       "      <th>3</th>\n",
       "      <td>OP</td>\n",
       "      <td>2011-01-01T00:01:35.000</td>\n",
       "      <td>PRENTISS ST</td>\n",
       "      <td>2.0</td>\n",
       "      <td>21Y</td>\n",
       "      <td>2.0</td>\n",
       "      <td>415GS</td>\n",
       "      <td>415 GUNSHOTS</td>\n",
       "      <td>LOP110101000005</td>\n",
       "      <td>2011-01-01T00:02:28.000</td>\n",
       "    </tr>\n",
       "    <tr>\n",
       "      <th>4</th>\n",
       "      <td>OP</td>\n",
       "      <td>2011-01-01T00:02:10.000</td>\n",
       "      <td>AV&amp;FOOTHILL BLVD</td>\n",
       "      <td>2.0</td>\n",
       "      <td>20X</td>\n",
       "      <td>1.0</td>\n",
       "      <td>415GS</td>\n",
       "      <td>415 GUNSHOTS</td>\n",
       "      <td>LOP110101000004</td>\n",
       "      <td>2011-01-01T00:50:04.000</td>\n",
       "    </tr>\n",
       "  </tbody>\n",
       "</table>\n",
       "</div>"
      ],
      "text/plain": [
       "  Agency              Create Time            Location  Area Id Beat  Priority  \\\n",
       "0     OP  2011-01-01T00:00:00.000     ST&SAN PABLO AV      1.0  06X       1.0   \n",
       "1     OP  2011-01-01T00:01:11.000       ST&HANNAH ST       1.0  07X       1.0   \n",
       "2     OP  2011-01-01T00:01:25.000       ST&MARKET ST       1.0  10Y       2.0   \n",
       "3     OP  2011-01-01T00:01:35.000        PRENTISS ST       2.0  21Y       2.0   \n",
       "4     OP  2011-01-01T00:02:10.000   AV&FOOTHILL BLVD       2.0  20X       1.0   \n",
       "\n",
       "  Incident Type Id Incident Type Description     Event Number  \\\n",
       "0             PDOA      POSSIBLE DEAD PERSON  LOP110101000001   \n",
       "1            415GS              415 GUNSHOTS  LOP110101000002   \n",
       "2            415GS              415 GUNSHOTS  LOP110101000003   \n",
       "3            415GS              415 GUNSHOTS  LOP110101000005   \n",
       "4            415GS              415 GUNSHOTS  LOP110101000004   \n",
       "\n",
       "               Closed Time  \n",
       "0  2011-01-01T00:28:17.000  \n",
       "1  2011-01-01T01:12:56.000  \n",
       "2  2011-01-01T00:07:20.000  \n",
       "3  2011-01-01T00:02:28.000  \n",
       "4  2011-01-01T00:50:04.000  "
      ]
     },
     "execution_count": 9,
     "metadata": {},
     "output_type": "execute_result"
    }
   ],
   "source": [
    "data1 = pd.read_csv('./data/OaklandCrime/records-for-2011.csv')\n",
    "data2 = pd.read_csv('./data/OaklandCrime/records-for-2012.csv')\n",
    "data3 = pd.read_csv('./data/OaklandCrime/records-for-2013.csv')\n",
    "data4 = pd.read_csv('./data/OaklandCrime/records-for-2014.csv')\n",
    "data5 = pd.read_csv('./data/OaklandCrime/records-for-2015.csv')\n",
    "data6 = pd.read_csv('./data/OaklandCrime/records-for-2016.csv')\n",
    "data1.head()"
   ]
  },
  {
   "cell_type": "code",
   "execution_count": 23,
   "metadata": {
    "collapsed": false
   },
   "outputs": [
    {
     "data": {
      "text/plain": [
       "(180016, 10)"
      ]
     },
     "execution_count": 23,
     "metadata": {},
     "output_type": "execute_result"
    }
   ],
   "source": [
    "data1.shape"
   ]
  },
  {
   "cell_type": "code",
   "execution_count": 24,
   "metadata": {
    "collapsed": false
   },
   "outputs": [
    {
     "data": {
      "text/plain": [
       "(187431, 11)"
      ]
     },
     "execution_count": 24,
     "metadata": {},
     "output_type": "execute_result"
    }
   ],
   "source": [
    "data2.shape"
   ]
  },
  {
   "cell_type": "code",
   "execution_count": 25,
   "metadata": {
    "collapsed": false
   },
   "outputs": [
    {
     "data": {
      "text/plain": [
       "(188052, 10)"
      ]
     },
     "execution_count": 25,
     "metadata": {},
     "output_type": "execute_result"
    }
   ],
   "source": [
    "data3.shape"
   ]
  },
  {
   "cell_type": "code",
   "execution_count": 27,
   "metadata": {
    "collapsed": false
   },
   "outputs": [
    {
     "data": {
      "text/plain": [
       "(187480, 11)"
      ]
     },
     "execution_count": 27,
     "metadata": {},
     "output_type": "execute_result"
    }
   ],
   "source": [
    "data4.shape"
   ]
  },
  {
   "cell_type": "code",
   "execution_count": 28,
   "metadata": {
    "collapsed": false
   },
   "outputs": [
    {
     "data": {
      "text/plain": [
       "(192581, 10)"
      ]
     },
     "execution_count": 28,
     "metadata": {},
     "output_type": "execute_result"
    }
   ],
   "source": [
    "data5.shape"
   ]
  },
  {
   "cell_type": "code",
   "execution_count": 29,
   "metadata": {
    "collapsed": false
   },
   "outputs": [
    {
     "data": {
      "text/plain": [
       "(110828, 10)"
      ]
     },
     "execution_count": 29,
     "metadata": {},
     "output_type": "execute_result"
    }
   ],
   "source": [
    "data6.shape"
   ]
  },
  {
   "cell_type": "code",
   "execution_count": 117,
   "metadata": {
    "collapsed": true
   },
   "outputs": [],
   "source": [
    "data_all=[data1,data2,data3,data4,data5,data6]"
   ]
  },
  {
   "cell_type": "code",
   "execution_count": 129,
   "metadata": {
    "collapsed": false
   },
   "outputs": [
    {
     "name": "stdout",
     "output_type": "stream",
     "text": [
      "['Agency', 'Create Time', 'Location', 'Area Id', 'Beat', 'Priority', 'Incident Type Id', 'Incident Type Description', 'Event Number', 'Closed Time']\n",
      "['Agency', 'Create Time', 'Area Id', 'Beat', 'Priority', 'Incident Type Id', 'Incident Type Description', 'Event Number', 'Closed Time', 'Location 1', 'Zip Codes']\n",
      "['Agency', 'Create Time', 'Location ', 'Area Id', 'Beat', 'Priority', 'Incident Type Id', 'Incident Type Description', 'Event Number', 'Closed Time']\n",
      "['Agency', 'Create Time', 'Area Id', 'Beat', 'Priority', 'Incident Type Id', 'Incident Type Description', 'Event Number', 'Closed Time', 'Location 1', 'Zip Codes']\n",
      "['Agency', 'Create Time', 'Location', 'Area Id', 'Beat', 'Priority', 'Incident Type Id', 'Incident Type Description', 'Event Number', 'Closed Time']\n",
      "['Agency', 'Create Time', 'Location', 'Area Id', 'Beat', 'Priority', 'Incident Type Id', 'Incident Type Description', 'Event Number', 'Closed Time']\n"
     ]
    }
   ],
   "source": [
    "cols1 = list(data1)\n",
    "cols2 = list(data2)\n",
    "cols3 = list(data3)\n",
    "cols4 = list(data4)\n",
    "cols5 = list(data5)\n",
    "cols6 = list(data6)\n",
    "cols_all = [cols1,cols2,cols3,cols4,cols5,cols6]\n",
    "print(cols1)\n",
    "print(cols2)\n",
    "print(cols3)\n",
    "print(cols4)\n",
    "print(cols5)\n",
    "print(cols6)"
   ]
  },
  {
   "cell_type": "markdown",
   "metadata": {},
   "source": [
    "可以从属性信息中看到，2012年和2014年多出了其他年份没有的属性Zip Codes，在具体分析中，为保证统一，将不对其进行考虑。"
   ]
  },
  {
   "cell_type": "markdown",
   "metadata": {},
   "source": [
    "## 3.3 数据摘要与可视化\n",
    "\n",
    "### 3.3.1 数据摘要\n",
    "\n",
    "#### 3.3.1.1 标称属性统计频数\n",
    "\n",
    "标称属性包括：Agency，Create Time，Location，Beat，Incident Type Id，Incident Type Description，Event Number，Closed Time\n",
    "\n",
    "对字符串类型的属性返回的结果描述：\n",
    "\n",
    "* count：列中值的总数\n",
    "* unique：列中唯一值的计数\n",
    "* top：列中重复次数最多的值\n",
    "* freq：列中顶部重复的次数"
   ]
  },
  {
   "cell_type": "code",
   "execution_count": 217,
   "metadata": {
    "collapsed": false
   },
   "outputs": [
    {
     "name": "stdout",
     "output_type": "stream",
     "text": [
      "OP    180015\n",
      "Name: Agency, dtype: int64\n",
      "------------------------------------------------------------\n",
      "2011-06-02T00:00:00.000    4\n",
      "2011-03-27T00:22:41.000    3\n",
      "2011-09-21T14:05:59.000    3\n",
      "2011-05-01T18:31:50.000    2\n",
      "2011-05-12T21:04:34.000    2\n",
      "                          ..\n",
      "2011-10-15T10:38:11.000    1\n",
      "2011-02-02T21:48:32.000    1\n",
      "2011-02-09T13:58:47.000    1\n",
      "2011-05-10T09:53:55.000    1\n",
      "2011-05-02T14:44:02.000    1\n",
      "Name: Create Time, Length: 179451, dtype: int64\n",
      "------------------------------------------------------------\n",
      " INTERNATIONAL BLVD        3866\n",
      " MACARTHUR BLVD            3129\n",
      " AV&INTERNATIONAL BLVD     3067\n",
      " BROADWAY                  2132\n",
      " FOOTHILL BLVD             1791\n",
      "                           ... \n",
      "FRUITVALE DAVIS ST            1\n",
      "43RD STANLEY AV               1\n",
      "70TH W MACARTHUR BLVD         1\n",
      "34TH EMBARCADERO WEST         1\n",
      "28TH CT&COLLEGE AV            1\n",
      "Name: Location, Length: 32505, dtype: int64\n",
      "------------------------------------------------------------\n",
      "1.0    79152\n",
      "2.0    67261\n",
      "3.0    32699\n",
      "Name: Area Id, dtype: int64\n",
      "------------------------------------------------------------\n",
      "04X     7410\n",
      "08X     6885\n",
      "26Y     5478\n",
      "30Y     5295\n",
      "06X     5119\n",
      "23X     5051\n",
      "30X     4956\n",
      "19X     4955\n",
      "34X     4673\n",
      "29X     4483\n",
      "20X     4287\n",
      "27Y     4159\n",
      "07X     4134\n",
      "31Y     4082\n",
      "25X     4022\n",
      "35X     3880\n",
      "33X     3849\n",
      "03X     3819\n",
      "32X     3711\n",
      "27X     3703\n",
      "09X     3630\n",
      "21Y     3435\n",
      "32Y     3125\n",
      "22X     3061\n",
      "26X     2978\n",
      "02Y     2970\n",
      "10X     2967\n",
      "14X     2733\n",
      "03Y     2726\n",
      "22Y     2664\n",
      "12Y     2651\n",
      "05X     2633\n",
      "02X     2614\n",
      "31X     2603\n",
      "21X     2593\n",
      "17Y     2582\n",
      "24Y     2575\n",
      "13Z     2546\n",
      "15X     2509\n",
      "24X     2459\n",
      "12X     2422\n",
      "10Y     2383\n",
      "01X     2210\n",
      "28X     2191\n",
      "17X     2133\n",
      "11X     2087\n",
      "13Y     2017\n",
      "35Y     1956\n",
      "31Z     1870\n",
      "18Y     1778\n",
      "16Y     1561\n",
      "14Y     1492\n",
      "25Y     1482\n",
      "13X     1122\n",
      "18X     1063\n",
      "16X      994\n",
      "05Y      710\n",
      "PDT2      20\n",
      "Name: Beat, dtype: int64\n",
      "------------------------------------------------------------\n",
      "2.0    143314\n",
      "1.0     36699\n",
      "0.0         2\n",
      "Name: Priority, dtype: int64\n",
      "------------------------------------------------------------\n",
      "933R     17348\n",
      "911H     12817\n",
      "SECCK    11393\n",
      "415      10752\n",
      "10851     7180\n",
      "         ...  \n",
      "243C         1\n",
      "970A         1\n",
      "666          1\n",
      "243B         1\n",
      "148_1        1\n",
      "Name: Incident Type Id, Length: 263, dtype: int64\n",
      "------------------------------------------------------------\n",
      "ALARM-RINGER            17348\n",
      "911 HANG-UP             12817\n",
      "SECURITY CHECK          11393\n",
      "STOLEN VEHICLE           7180\n",
      "415 UNKNOWN              6624\n",
      "                        ...  \n",
      "CONSPIRACY COURT ORD        1\n",
      "ASSAULT ON A POLICE         1\n",
      "EXTORTION                   1\n",
      "INJURE TELEPHONE/POW        1\n",
      "OBSTRUCTING JUSTICE-        1\n",
      "Name: Incident Type Description, Length: 265, dtype: int64\n",
      "------------------------------------------------------------\n",
      "LOP111216000789    1\n",
      "LOP111124000115    1\n",
      "LOP110305000062    1\n",
      "LOP110706000913    1\n",
      "LOP110922000912    1\n",
      "                  ..\n",
      "LOP111126000609    1\n",
      "LOP110111000539    1\n",
      "LOP110110000782    1\n",
      "LOP110710000025    1\n",
      "LOP110829000767    1\n",
      "Name: Event Number, Length: 180015, dtype: int64\n",
      "------------------------------------------------------------\n",
      "2011-03-04T21:56:33.000    2\n",
      "2011-12-19T15:28:03.000    2\n",
      "2011-11-12T00:41:40.000    2\n",
      "2011-03-24T20:36:06.000    2\n",
      "2011-11-12T13:48:27.000    2\n",
      "                          ..\n",
      "2011-06-11T13:13:19.000    1\n",
      "2011-11-30T04:04:57.000    1\n",
      "2011-05-06T17:01:16.000    1\n",
      "2011-10-22T02:03:28.000    1\n",
      "2011-09-07T19:55:54.000    1\n",
      "Name: Closed Time, Length: 179506, dtype: int64\n",
      "------------------------------------------------------------\n",
      "============================================================\n",
      "OP    187430\n",
      "Name: Agency, dtype: int64\n",
      "------------------------------------------------------------\n",
      "2012-06-26T00:00:00.000    8\n",
      "2012-05-07T00:00:00.000    7\n",
      "2012-12-02T00:00:00.000    3\n",
      "2012-04-02T00:00:00.000    3\n",
      "2012-06-30T00:00:00.000    3\n",
      "                          ..\n",
      "2012-03-19T18:09:56.000    1\n",
      "2012-02-13T14:20:55.000    1\n",
      "2012-01-04T14:55:02.000    1\n",
      "2012-07-28T21:20:01.000    1\n",
      "2012-01-03T16:11:05.000    1\n",
      "Name: Create Time, Length: 186801, dtype: int64\n",
      "------------------------------------------------------------\n",
      "1.0    101053\n",
      "2.0     84963\n",
      "Name: Area Id, dtype: int64\n",
      "------------------------------------------------------------\n",
      "04X     8088\n",
      "08X     6691\n",
      "30Y     5529\n",
      "26Y     5374\n",
      "23X     5301\n",
      "19X     5158\n",
      "30X     4988\n",
      "34X     4965\n",
      "20X     4682\n",
      "06X     4676\n",
      "29X     4606\n",
      "25X     4396\n",
      "03X     4380\n",
      "35X     4291\n",
      "07X     4235\n",
      "31Y     3975\n",
      "09X     3845\n",
      "32X     3836\n",
      "21Y     3822\n",
      "27Y     3701\n",
      "33X     3697\n",
      "27X     3685\n",
      "12Y     3344\n",
      "32Y     3328\n",
      "22X     3131\n",
      "14X     3070\n",
      "02Y     3043\n",
      "03Y     3009\n",
      "26X     2982\n",
      "10X     2961\n",
      "13Z     2946\n",
      "02X     2798\n",
      "10Y     2727\n",
      "22Y     2725\n",
      "24Y     2723\n",
      "05X     2681\n",
      "21X     2674\n",
      "15X     2671\n",
      "17Y     2635\n",
      "12X     2491\n",
      "24X     2483\n",
      "31X     2482\n",
      "28X     2321\n",
      "01X     2193\n",
      "11X     2165\n",
      "17X     2127\n",
      "35Y     1986\n",
      "13Y     1898\n",
      "31Z     1849\n",
      "18Y     1816\n",
      "16Y     1680\n",
      "14Y     1578\n",
      "25Y     1512\n",
      "18X     1224\n",
      "13X     1212\n",
      "16X     1197\n",
      "05Y      836\n",
      "PDT2      28\n",
      "Name: Beat, dtype: int64\n",
      "------------------------------------------------------------\n",
      "2.0    145504\n",
      "1.0     41926\n",
      "Name: Priority, dtype: int64\n",
      "------------------------------------------------------------\n",
      "933R      17216\n",
      "SECCK     11488\n",
      "415       11158\n",
      "911H      10585\n",
      "10851      8208\n",
      "          ...  \n",
      "285           1\n",
      "VINVER        1\n",
      "107           1\n",
      "243A          1\n",
      "12020         1\n",
      "Name: Incident Type Id, Length: 256, dtype: int64\n",
      "------------------------------------------------------------\n",
      "ALARM-RINGER            17216\n",
      "SECURITY CHECK          11488\n",
      "911 HANG-UP             10585\n",
      "STOLEN VEHICLE           8208\n",
      "415 UNKNOWN              6081\n",
      "                        ...  \n",
      "ASSAULT ON A POLICE         1\n",
      "POSSESSION/MANUFACTU        1\n",
      "ESCAPE DETENTION            1\n",
      "INCEST                      1\n",
      "INJURE TELEPHONE/POW        1\n",
      "Name: Incident Type Description, Length: 258, dtype: int64\n",
      "------------------------------------------------------------\n",
      "LOP120324000786    1\n",
      "LOP120217000984    1\n",
      "LOP120210001126    1\n",
      "LOP120729000808    1\n",
      "LOP120422000303    1\n",
      "                  ..\n",
      "LOP120516000031    1\n",
      "LOP120427000991    1\n",
      "LOP120801000774    1\n",
      "LOP120710000811    1\n",
      "LOP120709000505    1\n",
      "Name: Event Number, Length: 187430, dtype: int64\n",
      "------------------------------------------------------------\n",
      "2012-05-08T11:29:58.000    2\n",
      "2012-10-02T20:25:22.000    2\n",
      "2012-01-03T14:04:54.000    2\n",
      "2012-11-07T17:27:58.000    2\n",
      "2012-04-03T01:39:07.000    2\n",
      "                          ..\n",
      "2012-12-19T12:52:09.000    1\n",
      "2012-03-09T19:35:40.000    1\n",
      "2012-06-11T18:40:12.000    1\n",
      "2012-05-18T01:17:14.000    1\n",
      "2012-02-02T22:55:38.000    1\n",
      "Name: Closed Time, Length: 186874, dtype: int64\n",
      "------------------------------------------------------------\n",
      "{'human_address': '{\"address\": \"INTERNATIONAL BLVD\", \"city\": \"\", \"state\": \"\", \"zip\": \"\"}'}          3658\n",
      "{'human_address': '{\"address\": \"MACARTHUR BLVD\", \"city\": \"\", \"state\": \"\", \"zip\": \"\"}'}              3335\n",
      "{'human_address': '{\"address\": \"AV&INTERNATIONAL BLVD\", \"city\": \"\", \"state\": \"\", \"zip\": \"\"}'}       3193\n",
      "{'human_address': '{\"address\": \"BROADWAY\", \"city\": \"\", \"state\": \"\", \"zip\": \"\"}'}                    2167\n",
      "{'human_address': '{\"address\": \"FOOTHILL BLVD\", \"city\": \"\", \"state\": \"\", \"zip\": \"\"}'}               1649\n",
      "                                                                                                    ... \n",
      "{'human_address': '{\"address\": \"10TH BROOKLYN AV\", \"city\": \"\", \"state\": \"\", \"zip\": \"\"}'}               1\n",
      "{'human_address': '{\"address\": \"OAKLAND GRAND AV&WEST ST\", \"city\": \"\", \"state\": \"\", \"zip\": \"\"}'}       1\n",
      "{'human_address': '{\"address\": \"88TH SHAFTER AV\", \"city\": \"\", \"state\": \"\", \"zip\": \"\"}'}                1\n",
      "{'human_address': '{\"address\": \"98TH APRICOT ST\", \"city\": \"\", \"state\": \"\", \"zip\": \"\"}'}                1\n",
      "{'human_address': '{\"address\": \"ASILOMAR BIRDSALL AV\", \"city\": \"\", \"state\": \"\", \"zip\": \"\"}'}           1\n",
      "Name: Location 1, Length: 35312, dtype: int64\n",
      "------------------------------------------------------------\n",
      "4560.0     5\n",
      "1481.0     3\n",
      "11164.0    3\n",
      "4380.0     3\n",
      "4366.0     2\n",
      "          ..\n",
      "14892.0    1\n",
      "170.0      1\n",
      "15010.0    1\n",
      "5463.0     1\n",
      "2050.0     1\n",
      "Name: Zip Codes, Length: 150, dtype: int64\n",
      "------------------------------------------------------------\n",
      "============================================================\n",
      "OP    188051\n",
      "Name: Agency, dtype: int64\n",
      "------------------------------------------------------------\n",
      "2013-01-29T09:16:31.000    18\n",
      "2013-05-26T00:00:00.000     3\n",
      "2013-09-20T00:00:00.000     3\n",
      "2013-07-06T00:00:00.000     3\n",
      "2013-05-12T00:00:00.000     3\n",
      "                           ..\n",
      "2013-03-05T12:00:26.000     1\n",
      "2013-03-08T14:00:29.000     1\n",
      "2013-06-20T15:26:12.000     1\n",
      "2013-11-27T14:50:30.000     1\n",
      "2013-10-25T13:40:29.000     1\n",
      "Name: Create Time, Length: 187433, dtype: int64\n",
      "------------------------------------------------------------\n",
      " INTERNATIONAL BLVD           3647\n",
      " AV&INTERNATIONAL BLVD        3405\n",
      " MACARTHUR BLVD               3002\n",
      " BROADWAY                     2036\n",
      " FOOTHILL BLVD                1650\n",
      "                              ... \n",
      "59TH 55TH AV                     1\n",
      "BROMLEY ST&PERALTA ST            1\n",
      "CHAMPION THORNHILL DR            1\n",
      "18TH AV&SCOVILLE ST              1\n",
      "HAMPEL AV&KAPHAN AV              1\n",
      "Name: Location , Length: 36804, dtype: int64\n",
      "------------------------------------------------------------\n",
      "1.0    105216\n",
      "2.0     80578\n",
      "Name: Area Id, dtype: int64\n",
      "------------------------------------------------------------\n",
      "04X     7697\n",
      "08X     6993\n",
      "30X     5440\n",
      "30Y     5439\n",
      "23X     5279\n",
      "19X     5211\n",
      "26Y     5188\n",
      "34X     5059\n",
      "06X     4786\n",
      "20X     4565\n",
      "29X     4531\n",
      "25X     4530\n",
      "03X     4483\n",
      "07X     4416\n",
      "31Y     4304\n",
      "32X     4194\n",
      "35X     4053\n",
      "27Y     4026\n",
      "21Y     3938\n",
      "09X     3776\n",
      "27X     3774\n",
      "33X     3537\n",
      "02Y     3522\n",
      "12Y     3465\n",
      "32Y     3465\n",
      "22X     3095\n",
      "03Y     2899\n",
      "05X     2896\n",
      "14X     2881\n",
      "26X     2787\n",
      "02X     2713\n",
      "24X     2710\n",
      "10X     2702\n",
      "10Y     2641\n",
      "22Y     2614\n",
      "12X     2576\n",
      "24Y     2571\n",
      "17Y     2564\n",
      "15X     2482\n",
      "13Z     2383\n",
      "31X     2361\n",
      "01X     2309\n",
      "28X     2294\n",
      "21X     2289\n",
      "17X     2091\n",
      "31Z     2047\n",
      "11X     1964\n",
      "35Y     1950\n",
      "13Y     1826\n",
      "18Y     1817\n",
      "14Y     1794\n",
      "16Y     1720\n",
      "25Y     1537\n",
      "18X     1387\n",
      "16X     1255\n",
      "13X     1209\n",
      "05Y      821\n",
      "PDT2      18\n",
      "Name: Beat, dtype: int64\n",
      "------------------------------------------------------------\n",
      "2.0    144859\n",
      "1.0     43171\n",
      "0.0        21\n",
      "Name: Priority, dtype: int64\n",
      "------------------------------------------------------------\n",
      "933R     17859\n",
      "SECCK    12240\n",
      "415      11313\n",
      "10851     9469\n",
      "911H      8268\n",
      "         ...  \n",
      "290          1\n",
      "209          1\n",
      "372          1\n",
      "626_9        1\n",
      "243B         1\n",
      "Name: Incident Type Id, Length: 253, dtype: int64\n",
      "------------------------------------------------------------\n",
      "ALARM-RINGER            17859\n",
      "SECURITY CHECK          12240\n",
      "STOLEN VEHICLE           9469\n",
      "911 HANG-UP              8268\n",
      "DISTURBING THE PEACE     6553\n",
      "                        ...  \n",
      "KIDNAPPING FOR RANSO        1\n",
      "IDENTITY THEFT              1\n",
      "ASSSAULT                    1\n",
      "POSSESS WEAPON AT SC        1\n",
      "INCEST                      1\n",
      "Name: Incident Type Description, Length: 254, dtype: int64\n",
      "------------------------------------------------------------\n",
      "LOP131010000795    1\n",
      "LOP130414000302    1\n",
      "LOP130808000757    1\n",
      "LOP131108000773    1\n",
      "LOP130819000524    1\n",
      "                  ..\n",
      "LOP131024000642    1\n",
      "LOP130507000923    1\n",
      "LOP130925001174    1\n",
      "LOP130314000757    1\n",
      "LOP130922000373    1\n",
      "Name: Event Number, Length: 188051, dtype: int64\n",
      "------------------------------------------------------------\n",
      "2013-02-12T22:52:01.000    4\n",
      "2013-09-01T17:23:50.000    4\n",
      "2013-04-26T21:30:39.000    3\n",
      "2013-12-23T18:18:23.000    3\n",
      "2013-02-16T15:58:55.000    2\n",
      "                          ..\n",
      "2013-08-17T05:43:27.000    1\n",
      "2013-06-19T13:04:59.000    1\n",
      "2013-12-05T21:10:41.000    1\n",
      "2013-07-06T17:22:44.000    1\n",
      "2013-12-10T15:53:39.000    1\n",
      "Name: Closed Time, Length: 187487, dtype: int64\n",
      "------------------------------------------------------------\n",
      "============================================================\n",
      "OP    187480\n",
      "Name: Agency, dtype: int64\n",
      "------------------------------------------------------------\n",
      "2014-10-14T02:45:12.000    14\n",
      "2014-10-14T02:46:45.000    11\n",
      "2014-01-01T00:00:00.000     4\n",
      "2014-09-20T00:00:00.000     4\n",
      "2014-11-04T14:39:16.000     3\n",
      "                           ..\n",
      "2014-05-25T09:46:32.000     1\n",
      "2014-01-17T11:04:07.000     1\n",
      "2014-09-02T20:36:48.000     1\n",
      "2014-06-09T21:03:13.000     1\n",
      "2014-10-28T18:40:52.000     1\n",
      "Name: Create Time, Length: 186851, dtype: int64\n",
      "------------------------------------------------------------\n",
      "1.0    5031\n",
      "2.0    3898\n",
      "5.0     320\n",
      "4.0     236\n",
      "3.0     208\n",
      "Name: Area Id, dtype: int64\n",
      "------------------------------------------------------------\n",
      "04X     7868\n",
      "08X     6723\n",
      "30X     5539\n",
      "23X     5485\n",
      "30Y     5454\n",
      "26Y     5377\n",
      "19X     5290\n",
      "06X     4931\n",
      "34X     4865\n",
      "03X     4727\n",
      "27Y     4653\n",
      "29X     4645\n",
      "20X     4639\n",
      "07X     4617\n",
      "31Y     4541\n",
      "25X     4372\n",
      "35X     4240\n",
      "27X     3912\n",
      "32X     3833\n",
      "21Y     3784\n",
      "09X     3625\n",
      "32Y     3622\n",
      "02Y     3621\n",
      "33X     3561\n",
      "12Y     3214\n",
      "03Y     3212\n",
      "14X     2870\n",
      "26X     2843\n",
      "24X     2843\n",
      "02X     2819\n",
      "22X     2789\n",
      "24Y     2673\n",
      "10X     2566\n",
      "10Y     2537\n",
      "12X     2516\n",
      "21X     2502\n",
      "31X     2486\n",
      "17Y     2480\n",
      "05X     2442\n",
      "13Z     2415\n",
      "15X     2347\n",
      "01X     2320\n",
      "22Y     2297\n",
      "28X     2186\n",
      "11X     2092\n",
      "31Z     2022\n",
      "35Y     1860\n",
      "17X     1860\n",
      "14Y     1772\n",
      "13Y     1720\n",
      "18Y     1609\n",
      "16Y     1495\n",
      "25Y     1319\n",
      "13X     1211\n",
      "18X     1142\n",
      "16X     1035\n",
      "05Y      821\n",
      "PDT2      24\n",
      "Name: Beat, dtype: int64\n",
      "------------------------------------------------------------\n",
      "2    144707\n",
      "1     42773\n",
      "Name: Priority, dtype: int64\n",
      "------------------------------------------------------------\n",
      "933R      17799\n",
      "SECCK     13784\n",
      "415       11937\n",
      "911H       9647\n",
      "10851      8894\n",
      "          ...  \n",
      "148_5A        1\n",
      "484E          1\n",
      "A487          1\n",
      "3056          1\n",
      "524           1\n",
      "Name: Incident Type Id, Length: 257, dtype: int64\n",
      "------------------------------------------------------------\n",
      "ALARM-RINGER            17799\n",
      "SECURITY CHECK          13784\n",
      "911 HANG-UP              9647\n",
      "STOLEN VEHICLE           8894\n",
      "MENTALLY ILL             7002\n",
      "                        ...  \n",
      "FALSE REPORT OF CRIM        1\n",
      "INSFRASTRUCTURE SECU        1\n",
      "YELLOW ALERT AT THE         1\n",
      "VIOLATION OF PAROLE:        1\n",
      "REQUIRED TO REGISTER        1\n",
      "Name: Incident Type Description, Length: 257, dtype: int64\n",
      "------------------------------------------------------------\n",
      "LOP141114001069    1\n",
      "LOP140830000862    1\n",
      "LOP141211000980    1\n",
      "LOP140828000671    1\n",
      "LOP140508000828    1\n",
      "                  ..\n",
      "LOP140907000584    1\n",
      "LOP140130000233    1\n",
      "LOP141222000805    1\n",
      "LOP140528000786    1\n",
      "LOP140526000093    1\n",
      "Name: Event Number, Length: 187480, dtype: int64\n",
      "------------------------------------------------------------\n",
      "2014-06-04T16:31:09.000    3\n",
      "2014-06-20T01:44:34.000    3\n",
      "2014-04-16T23:24:34.000    2\n",
      "2014-11-14T11:22:48.000    2\n",
      "2014-12-06T03:35:12.000    2\n",
      "                          ..\n",
      "2014-11-24T08:37:19.000    1\n",
      "2014-07-27T18:57:53.000    1\n",
      "2014-07-30T16:17:42.000    1\n",
      "2014-09-22T10:40:07.000    1\n",
      "2014-01-11T00:39:55.000    1\n",
      "Name: Closed Time, Length: 186913, dtype: int64\n",
      "------------------------------------------------------------\n",
      "{'human_address': '{\"address\": \"INTERNATIONAL BLVD\", \"city\": \"\", \"state\": \"\", \"zip\": \"\"}'}                   3713\n",
      "{'human_address': '{\"address\": \"AV&INTERNATIONAL BLVD\", \"city\": \"\", \"state\": \"\", \"zip\": \"\"}'}                3290\n",
      "{'human_address': '{\"address\": \"MACARTHUR BLVD\", \"city\": \"\", \"state\": \"\", \"zip\": \"\"}'}                       2812\n",
      "{'human_address': '{\"address\": \"BROADWAY\", \"city\": \"\", \"state\": \"\", \"zip\": \"\"}'}                             1996\n",
      "{'human_address': '{\"address\": \"FOOTHILL BLVD\", \"city\": \"\", \"state\": \"\", \"zip\": \"\"}'}                        1774\n",
      "                                                                                                             ... \n",
      "{'human_address': '{\"address\": \"PABLO CORRIDOR\", \"city\": \"\", \"state\": \"\", \"zip\": \"\"}'}                          1\n",
      "{'human_address': '{\"address\": \"83RD HEGENBERGER RD\", \"city\": \"\", \"state\": \"\", \"zip\": \"\"}'}                     1\n",
      "{'human_address': '{\"address\": \"MYRTLE MACARTHUR BLVD&PIEDMONT AV\", \"city\": \"\", \"state\": \"\", \"zip\": \"\"}'}       1\n",
      "{'human_address': '{\"address\": \"37TH 35TH AV\", \"city\": \"\", \"state\": \"\", \"zip\": \"\"}'}                            1\n",
      "{'human_address': '{\"address\": \"73RD OAK ST\", \"city\": \"\", \"state\": \"\", \"zip\": \"\"}'}                             1\n",
      "Name: Location 1, Length: 35131, dtype: int64\n",
      "------------------------------------------------------------\n",
      "14519.0    5\n",
      "27099.0    3\n",
      "3790.0     3\n",
      "4560.0     3\n",
      "28988.0    2\n",
      "          ..\n",
      "5456.0     1\n",
      "29983.0    1\n",
      "29975.0    1\n",
      "1870.0     1\n",
      "24676.0    1\n",
      "Name: Zip Codes, Length: 160, dtype: int64\n",
      "------------------------------------------------------------\n",
      "============================================================\n",
      "OP    192581\n",
      "Name: Agency, dtype: int64\n",
      "------------------------------------------------------------\n",
      "2015-04-18T13:52:06.000    3\n",
      "2015-03-28T11:41:05.000    2\n",
      "2015-02-09T18:22:50.000    2\n",
      "2015-12-10T11:05:07.000    2\n",
      "2015-08-20T19:29:17.000    2\n",
      "                          ..\n",
      "2015-04-28T10:13:38.000    1\n",
      "2015-04-03T11:35:09.000    1\n",
      "2015-10-03T09:53:41.000    1\n",
      "2015-08-03T20:04:22.000    1\n",
      "2015-07-09T08:15:08.000    1\n",
      "Name: Create Time, Length: 191944, dtype: int64\n",
      "------------------------------------------------------------\n",
      " INTERNATIONAL BLVD           3695\n",
      " AV&INTERNATIONAL BLVD        3106\n",
      " MACARTHUR BLVD               3105\n",
      " BROADWAY                     2407\n",
      " FOOTHILL BLVD                1753\n",
      "                              ... \n",
      "82ND CAMPBELL ST                 1\n",
      "36TH SEMINARY AV                 1\n",
      "100TH N PICARDY DR               1\n",
      "SUTTER CLAREMONT AV              1\n",
      "24TH E 10TH ST                   1\n",
      "Name: Location, Length: 36515, dtype: int64\n",
      "------------------------------------------------------------\n",
      "P3     81629\n",
      "P1     73141\n",
      "P2     33423\n",
      "POU     3787\n",
      "PCW      595\n",
      "TEC        6\n",
      "Name: Area Id, dtype: int64\n",
      "------------------------------------------------------------\n",
      "04X     8048\n",
      "08X     6874\n",
      "30Y     5690\n",
      "19X     5564\n",
      "30X     5542\n",
      "23X     5492\n",
      "26Y     5449\n",
      "34X     5172\n",
      "06X     5056\n",
      "03X     4983\n",
      "07X     4910\n",
      "29X     4599\n",
      "31Y     4556\n",
      "25X     4409\n",
      "35X     4287\n",
      "20X     4284\n",
      "27Y     4242\n",
      "32X     3940\n",
      "27X     3899\n",
      "12Y     3868\n",
      "09X     3831\n",
      "33X     3790\n",
      "21Y     3574\n",
      "03Y     3512\n",
      "32Y     3456\n",
      "14X     3290\n",
      "02Y     3290\n",
      "22X     3207\n",
      "10Y     2937\n",
      "26X     2802\n",
      "24X     2733\n",
      "10X     2705\n",
      "28X     2579\n",
      "24Y     2558\n",
      "13Z     2555\n",
      "01X     2552\n",
      "17Y     2551\n",
      "31X     2535\n",
      "12X     2516\n",
      "02X     2515\n",
      "21X     2511\n",
      "05X     2464\n",
      "22Y     2456\n",
      "15X     2437\n",
      "35Y     2293\n",
      "11X     2186\n",
      "31Z     2127\n",
      "14Y     1920\n",
      "17X     1776\n",
      "13Y     1734\n",
      "18Y     1604\n",
      "16Y     1577\n",
      "25Y     1406\n",
      "18X     1263\n",
      "16X     1223\n",
      "13X     1117\n",
      "05Y      775\n",
      "PDT2      35\n",
      "Name: Beat, dtype: int64\n",
      "------------------------------------------------------------\n",
      "2    150162\n",
      "1     42418\n",
      "0         1\n",
      "Name: Priority, dtype: int64\n",
      "------------------------------------------------------------\n",
      "933R      18181\n",
      "SECCK     14809\n",
      "415       13677\n",
      "10851      8899\n",
      "911H       8529\n",
      "          ...  \n",
      "PHONE         1\n",
      "VICE          1\n",
      "MS            1\n",
      "626_9         1\n",
      "REDALT        1\n",
      "Name: Incident Type Id, Length: 259, dtype: int64\n",
      "------------------------------------------------------------\n",
      "ALARM-RINGER            18181\n",
      "SECURITY CHECK          14809\n",
      "STOLEN VEHICLE           8899\n",
      "911 HANG-UP              8529\n",
      "MENTALLY ILL             8465\n",
      "                        ...  \n",
      "ASSSAULT                    1\n",
      "IDENTITY THEFT              1\n",
      "TICKET SCALPING             1\n",
      "FIREARM AT PUBLIC SC        1\n",
      "FLOOD                       1\n",
      "Name: Incident Type Description, Length: 261, dtype: int64\n",
      "------------------------------------------------------------\n",
      "LOP150730000474    1\n",
      "LOP150502000259    1\n",
      "LOP150429000759    1\n",
      "LOP150429000806    1\n",
      "LOP150619000474    1\n",
      "                  ..\n",
      "LOP150516000043    1\n",
      "LOP150817001141    1\n",
      "LOP150430000900    1\n",
      "LOP151226000122    1\n",
      "LOP151210000952    1\n",
      "Name: Event Number, Length: 192581, dtype: int64\n",
      "------------------------------------------------------------\n",
      "2015-02-22T16:19:43.000    2\n",
      "2015-04-12T22:23:59.000    2\n",
      "2015-06-10T16:05:09.000    2\n",
      "2015-06-06T19:59:56.000    2\n",
      "2015-12-26T08:23:49.000    2\n",
      "                          ..\n",
      "2015-10-14T19:45:28.000    1\n",
      "2015-01-24T07:40:33.000    1\n",
      "2015-01-20T18:22:39.000    1\n",
      "2015-08-03T00:46:47.000    1\n",
      "2015-11-09T08:36:32.000    1\n",
      "Name: Closed Time, Length: 192006, dtype: int64\n",
      "------------------------------------------------------------\n",
      "============================================================\n",
      "OP    110827\n",
      "Name: Agency, dtype: int64\n",
      "------------------------------------------------------------\n",
      "2016-05-06T11:21:13.000    3\n",
      "2016-06-15T15:09:14.000    2\n",
      "2016-01-29T12:42:34.000    2\n",
      "2016-03-09T13:34:46.000    2\n",
      "2016-05-22T21:14:30.000    2\n",
      "                          ..\n",
      "2016-02-10T17:35:21.000    1\n",
      "2016-06-21T19:57:33.000    1\n",
      "2016-03-23T19:04:44.000    1\n",
      "2016-06-03T11:13:19.000    1\n",
      "2016-03-14T20:58:45.000    1\n",
      "Name: Create Time, Length: 110453, dtype: int64\n",
      "------------------------------------------------------------\n",
      " INTERNATIONAL BLVD           2156\n",
      " AV&INTERNATIONAL BLVD        1829\n",
      " MACARTHUR BLVD               1813\n",
      " BROADWAY                     1472\n",
      " 7TH ST                       1223\n",
      "                              ... \n",
      "15TH OUTLOOK AV                  1\n",
      "73RD 1ST AV                      1\n",
      "2ND AV&MONTE CRESTA AV           1\n",
      "76TH AV&HILLSIDE ST              1\n",
      "TRASK OAK GROVE AV               1\n",
      "Name: Location, Length: 24046, dtype: int64\n",
      "------------------------------------------------------------\n",
      "P3     47425\n",
      "P1     41419\n",
      "P2     19610\n",
      "POU     2173\n",
      "PCW      194\n",
      "TEC        4\n",
      "JLS        1\n",
      "WAG        1\n",
      "Name: Area Id, dtype: int64\n",
      "------------------------------------------------------------\n",
      "04X     4515\n",
      "08X     3931\n",
      "26Y     3511\n",
      "30Y     3473\n",
      "19X     3455\n",
      "30X     3416\n",
      "03X     3195\n",
      "23X     3076\n",
      "34X     2857\n",
      "07X     2831\n",
      "20X     2702\n",
      "29X     2646\n",
      "06X     2580\n",
      "03Y     2562\n",
      "27Y     2517\n",
      "25X     2467\n",
      "31Y     2460\n",
      "27X     2333\n",
      "35X     2328\n",
      "32X     2316\n",
      "33X     2276\n",
      "09X     2158\n",
      "21Y     2100\n",
      "32Y     2093\n",
      "12Y     1987\n",
      "14X     1832\n",
      "26X     1766\n",
      "02X     1746\n",
      "24X     1704\n",
      "02Y     1659\n",
      "10Y     1573\n",
      "10X     1557\n",
      "22X     1541\n",
      "17Y     1482\n",
      "21X     1479\n",
      "24Y     1454\n",
      "31X     1439\n",
      "22Y     1420\n",
      "13Z     1397\n",
      "15X     1393\n",
      "05X     1342\n",
      "01X     1304\n",
      "12X     1299\n",
      "31Z     1268\n",
      "28X     1261\n",
      "11X     1208\n",
      "35Y     1159\n",
      "18Y     1102\n",
      "14Y     1027\n",
      "17X      969\n",
      "13Y      952\n",
      "16Y      907\n",
      "25Y      739\n",
      "18X      721\n",
      "16X      708\n",
      "13X      630\n",
      "05Y      408\n",
      "PDT2      16\n",
      "Name: Beat, dtype: int64\n",
      "------------------------------------------------------------\n",
      "2.0    86272\n",
      "1.0    24555\n",
      "Name: Priority, dtype: int64\n",
      "------------------------------------------------------------\n",
      "933R     10094\n",
      "415       7883\n",
      "SECCK     7251\n",
      "10851     5308\n",
      "911H      5089\n",
      "         ...  \n",
      "300WI        1\n",
      "ABC          1\n",
      "955B         1\n",
      "OTC          1\n",
      "407          1\n",
      "Name: Incident Type Id, Length: 242, dtype: int64\n",
      "------------------------------------------------------------\n",
      "ALARM-RINGER            10094\n",
      "SECURITY CHECK           7251\n",
      "STOLEN VEHICLE           5308\n",
      "911 HANG-UP              5089\n",
      "MENTALLY ILL             4859\n",
      "                        ...  \n",
      "EASTBAY MUD                 1\n",
      "GRAND THEFT: DOG            1\n",
      "YELLOW ALERT AT THE         1\n",
      "ALCOHOL,BEVERAGE AND        1\n",
      "CHILD TAKEN INTO PRO        1\n",
      "Name: Incident Type Description, Length: 245, dtype: int64\n",
      "------------------------------------------------------------\n",
      "LOP160613000974    1\n",
      "LOP160704000709    1\n",
      "LOP160424000732    1\n",
      "LOP160202000716    1\n",
      "LOP160526000316    1\n",
      "                  ..\n",
      "LOP160406001213    1\n",
      "LOP160608000436    1\n",
      "LOP160608000016    1\n",
      "LOP160505000281    1\n",
      "LOP160706000538    1\n",
      "Name: Event Number, Length: 110827, dtype: int64\n",
      "------------------------------------------------------------\n",
      "2016-05-29T00:43:38.000    3\n",
      "2016-06-25T15:19:22.000    2\n",
      "2016-07-27T18:14:06.000    2\n",
      "2016-06-16T15:38:44.000    2\n",
      "2016-06-10T00:57:44.000    2\n",
      "                          ..\n",
      "2016-04-11T03:46:46.000    1\n",
      "2016-06-17T04:44:38.000    1\n",
      "2016-05-04T03:24:50.000    1\n",
      "2016-07-16T12:06:06.000    1\n",
      "2016-01-12T13:31:20.000    1\n",
      "Name: Closed Time, Length: 110451, dtype: int64\n",
      "------------------------------------------------------------\n",
      "============================================================\n"
     ]
    }
   ],
   "source": [
    "for data,cols in zip(data_all,cols_all):\n",
    "    for col in cols: \n",
    "        print(data[col].value_counts())\n",
    "        print('-' * 60)\n",
    "    print(\"=\" * 60)\n",
    "    "
   ]
  },
  {
   "cell_type": "markdown",
   "metadata": {},
   "source": [
    "** 各年份巡逻区域不同立案等级频数统计及可视化 **"
   ]
  },
  {
   "cell_type": "code",
   "execution_count": 18,
   "metadata": {
    "collapsed": false
   },
   "outputs": [
    {
     "name": "stdout",
     "output_type": "stream",
     "text": [
      "Year 2011:\n",
      "\n",
      "The Beats With the Most Reports (Priority 1, Decending Order): ['04X', '26Y', '08X', '06X', '34X'] \n",
      "The Beats With the Most Reports (Priority 2, Decending Order): ['04X', '08X', '30Y', '26Y', '19X'] \n",
      "Unique Beats: ['08X', '26Y', '06X', '19X', '04X', '30Y', '34X']\n",
      "Common Beats: ['08X', '26Y', '04X']\n",
      "****************************************************************************************************\n",
      "Year 2012:\n",
      "\n",
      "The Beats With the Most Reports (Priority 1, Decending Order): ['04X', '08X', '26Y', '34X', '30Y'] \n",
      "The Beats With the Most Reports (Priority 2, Decending Order): ['04X', '08X', '30Y', '19X', '23X'] \n",
      "Unique Beats: ['08X', '26Y', '23X', '19X', '04X', '30Y', '34X']\n",
      "Common Beats: ['08X', '30Y', '04X']\n",
      "****************************************************************************************************\n",
      "Year 2013:\n",
      "\n",
      "The Beats With the Most Reports (Priority 1, Decending Order): ['04X', '08X', '34X', '26Y', '30X'] \n",
      "The Beats With the Most Reports (Priority 2, Decending Order): ['04X', '08X', '30Y', '30X', '19X'] \n",
      "Unique Beats: ['08X', '26Y', '19X', '04X', '30X', '30Y', '34X']\n",
      "Common Beats: ['08X', '30X', '04X']\n",
      "****************************************************************************************************\n",
      "Year 2014:\n",
      "\n",
      "The Beats With the Most Reports (Priority 1, Decending Order): ['04X', '08X', '30Y', '26Y', '30X'] \n",
      "The Beats With the Most Reports (Priority 2, Decending Order): ['04X', '08X', '30X', '23X', '30Y'] \n",
      "Unique Beats: ['08X', '26Y', '23X', '04X', '30X', '30Y']\n",
      "Common Beats: ['08X', '30X', '30Y', '04X']\n",
      "****************************************************************************************************\n",
      "Year 2015:\n",
      "\n",
      "The Beats With the Most Reports (Priority 1, Decending Order): ['04X', '08X', '19X', '23X', '30X'] \n",
      "The Beats With the Most Reports (Priority 2, Decending Order): ['04X', '08X', '30Y', '30X', '19X'] \n",
      "Unique Beats: ['08X', '23X', '19X', '04X', '30X', '30Y']\n",
      "Common Beats: ['08X', '30X', '19X', '04X']\n",
      "****************************************************************************************************\n",
      "Year 2016:\n",
      "\n",
      "The Beats With the Most Reports (Priority 1, Decending Order): ['04X', '26Y', '30X', '30Y', '08X'] \n",
      "The Beats With the Most Reports (Priority 2, Decending Order): ['04X', '08X', '19X', '30Y', '26Y'] \n",
      "Unique Beats: ['08X', '26Y', '19X', '04X', '30X', '30Y']\n",
      "Common Beats: ['08X', '26Y', '30Y', '04X']\n",
      "****************************************************************************************************\n"
     ]
    },
    {
     "data": {
      "image/png": "[encoded data removed]",
      "text/plain": [
       "<Figure size 432x288 with 6 Axes>"
      ]
     },
     "metadata": {},
     "output_type": "display_data"
    }
   ],
   "source": [
    "fig, ax = plt.subplots(nrows=2, ncols=3)\n",
    "plt.subplots_adjust(left=0, right=2.5, top=3, bottom=1)\n",
    "i = 0\n",
    "for row in ax:\n",
    "    for col in row:\n",
    "        col.set_title(str(2011 + i))\n",
    "        #sns.countplot(data=crimes_list[i].loc[crimes_list[i]['Incident Type Id'].isin(nlargest[i])], x=\"Incident Type Id\", hue=\"Priority\", palette=\"Set1\", ax=col)\n",
    "        temp = crimes_list[i].groupby(by=[\"Beat\", \"Priority\"],sort=True, as_index=False).count().rename(index=str, columns={\"Create Time\": \"Count\"})[[\"Beat\", \"Priority\", \"Count\", \"time_of_the_day\"]]\n",
    "        beats_prio_1 = list(temp[temp[\"Priority\"] == 1].nlargest(5, \"Count\")[\"Beat\"].values)\n",
    "        beats_prio_2 = list(temp[temp[\"Priority\"] == 2].nlargest(5, \"Count\")[\"Beat\"].values)\n",
    "        print(\"Year \" + str(2011 +i ) +\":\\n\")\n",
    "        print(\"The Beats With the Most Reports (Priority 1, Decending Order): {} \\nThe Beats With the Most Reports (Priority 2, Decending Order): {} \\nUnique Beats: {}\".format(str(beats_prio_1), str(beats_prio_2), str(list(set(beats_prio_1)|set(beats_prio_2)))))\n",
    "        print(\"Common Beats: {}\".format(str(list(set(beats_prio_1) & set(beats_prio_2)))))\n",
    "        sns.barplot(data=temp[temp[\"Beat\"].isin(beats_prio_1 + beats_prio_2)], x=\"Beat\", y=\"Count\", hue=\"Priority\",palette=\"Set1\", ax=col)\n",
    "        print(\"*\" * 100)\n",
    "        i += 1"
   ]
  },
  {
   "cell_type": "markdown",
   "metadata": {},
   "source": [
    "图中明显可以看到，04X的报案数较多，证明此巡逻区域的治安情况比其他区域差；治安较好（报案数）区域是19X和23X。"
   ]
  },
  {
   "cell_type": "markdown",
   "metadata": {},
   "source": [
    "#### 3.3.1.2 数值属性计算五数概括和缺失值\n",
    "\n",
    "直接可以进行统计的数值属性为Priority（意义不大），可以间接进行五数概括的数值属性是Create Time属性的年份和时间，先对Priority属性返回的结果描述：\n",
    "\n",
    "* count：列中值的总数\n",
    "* mean：列中唯一值的计数\n",
    "* std：该列中重复次数最多的值\n",
    "* min：列中最小值\n",
    "* 25%：第一个四分位数的值\n",
    "* 50%：第二个四分位数的值\n",
    "* 75%：第三个四分位数的值\n",
    "* max：列中的最大值\n",
    "\n",
    "五数概括：最小值，Q1，中位数，Q3，最大值"
   ]
  },
  {
   "cell_type": "code",
   "execution_count": 146,
   "metadata": {
    "collapsed": false
   },
   "outputs": [
    {
     "name": "stdout",
     "output_type": "stream",
     "text": [
      "            Priority\n",
      "count  180015.000000\n",
      "mean        1.796111\n",
      "std         0.402916\n",
      "min         0.000000\n",
      "25%         2.000000\n",
      "50%         2.000000\n",
      "75%         2.000000\n",
      "max         2.000000\n",
      "            Priority\n",
      "count  187430.000000\n",
      "mean        1.776311\n",
      "std         0.416717\n",
      "min         1.000000\n",
      "25%         2.000000\n",
      "50%         2.000000\n",
      "75%         2.000000\n",
      "max         2.000000\n",
      "            Priority\n",
      "count  188051.000000\n",
      "mean        1.770206\n",
      "std         0.420967\n",
      "min         0.000000\n",
      "25%         2.000000\n",
      "50%         2.000000\n",
      "75%         2.000000\n",
      "max         2.000000\n",
      "            Priority\n",
      "count  187480.000000\n",
      "mean        1.771853\n",
      "std         0.419639\n",
      "min         1.000000\n",
      "25%         2.000000\n",
      "50%         2.000000\n",
      "75%         2.000000\n",
      "max         2.000000\n",
      "            Priority\n",
      "count  192581.000000\n",
      "mean        1.779729\n",
      "std         0.414443\n",
      "min         0.000000\n",
      "25%         2.000000\n",
      "50%         2.000000\n",
      "75%         2.000000\n",
      "max         2.000000\n",
      "            Priority\n",
      "count  110827.000000\n",
      "mean        1.778438\n",
      "std         0.415299\n",
      "min         1.000000\n",
      "25%         2.000000\n",
      "50%         2.000000\n",
      "75%         2.000000\n",
      "max         2.000000\n"
     ]
    }
   ],
   "source": [
    "number_data = ['Priority']\n",
    "for data in data_all:\n",
    "    print(data[number_data].describe())"
   ]
  },
  {
   "cell_type": "markdown",
   "metadata": {},
   "source": [
    "接下来对时间数据进行预处理，将时间换算成秒，并划分为几个时间段，并剔除数据中的空值："
   ]
  },
  {
   "cell_type": "code",
   "execution_count": 1,
   "metadata": {
    "collapsed": true
   },
   "outputs": [],
   "source": [
    "import seaborn as sns\n",
    "import ast\n",
    "import datetime as dt\n",
    "from dateutil import tz\n",
    "from dateutil import parser"
   ]
  },
  {
   "cell_type": "code",
   "execution_count": 2,
   "metadata": {
    "collapsed": true
   },
   "outputs": [],
   "source": [
    "intervals = (\n",
    "    ('weeks', 604800),\n",
    "    ('days', 86400),\n",
    "    ('hours', 3600),    # 60 * 60\n",
    "    ('minutes', 60),\n",
    "    ('seconds', 1),\n",
    "    )\n",
    "\n",
    "\n",
    "def get_nlargest_incident_id(n, df):\n",
    "    return df.groupby(by=\"Incident Type Id\",sort=True, as_index=False).count().nlargest(n, 'Create Time')[\"Incident Type Id\"].values\n",
    "def get_nlargest_area_id(n, df):\n",
    "    return df.groupby(by=\"Area Id\",sort=True, as_index=False).count().nlargest(n, 'Create Time')[\"Area Id\"].values\n",
    "def display_time(seconds, granularity=10):\n",
    "    result = []\n",
    "\n",
    "    for name, count in intervals:\n",
    "        value = seconds // count\n",
    "        if value:\n",
    "            seconds -= value * count\n",
    "            if value == 1:\n",
    "                name = name.rstrip('s')\n",
    "            result.append(\"{} {}\".format(value, name))\n",
    "    return ', '.join(result[:granularity])\n",
    "\n",
    "def map_x(x):\n",
    "    if x.hour < 6:\n",
    "        return \"00AM-6AM\"\n",
    "    if x.hour < 12 and x.hour > 6:\n",
    "        return \"6AM-12PM\"\n",
    "    if x.hour >= 12 and x.hour<18:\n",
    "        return \"12PM-6PM\"\n",
    "    if x.hour > 18:\n",
    "        return \"6PM-00AM\"\n",
    "    \n",
    "def prep_data(df):\n",
    "    df['Create Time'] = df['Create Time'].fillna(df['Closed Time'])\n",
    "    df['Closed Time'] = df['Closed Time'].fillna(df['Create Time'])\n",
    "    df[\"time_between_creation_and_closed_seconds\"] = df.apply(lambda x: abs((parser.parse(x[\"Closed Time\"]) - parser.parse(x[\"Create Time\"])).seconds), axis=1)\n",
    "    df[\"time_of_the_day\"] = df[\"Create Time\"].map(lambda x:map_x(parser.parse(x)))\n",
    "    df.replace(r'', np.nan, regex=True, inplace=True)\n",
    "    df[\"Area Id\"].fillna(-1, inplace=True)\n",
    "    df[\"Beat\"].fillna(\"Unknown\", inplace=True)\n",
    "    df[\"Priority\"].fillna(\"-1\", inplace=True)\n",
    "    df[\"Priority\"].astype(int)\n",
    "    df.drop([\"Agency\", \"Event Number\"], inplace=True, axis=1)\n",
    "    df[\"day_of_the_month\"] = df[\"Create Time\"].apply(lambda x: parser.parse(x).day)\n",
    "    df[\"day_of_the_week\"] = df[\"day_of_the_month\"].apply(lambda x: (x % 7) + 1)\n",
    "    df[\"month_of_the_year\"] = df[\"Create Time\"].apply(lambda x: parser.parse(x).month)\n",
    "    return df"
   ]
  },
  {
   "cell_type": "markdown",
   "metadata": {},
   "source": [
    "再进行五数概括的预处理，其中五数概括分别是：Minimum、Q1、Median、Q3、Maximum。"
   ]
  },
  {
   "cell_type": "code",
   "execution_count": 3,
   "metadata": {
    "collapsed": true
   },
   "outputs": [],
   "source": [
    "def fiveNumber(nums):\n",
    "    Minimum = min(nums)\n",
    "    Maximum = max(nums)\n",
    "    Q1 = np.percentile(nums, 25)\n",
    "    Median = np.median(nums)\n",
    "    Q3 = np.percentile(nums, 75)\n",
    "\n",
    "    IQR = Q3-Q1\n",
    "    lower_limit = Q1-1.5*IQR  # 下限值\n",
    "    upper_limit = Q3+1.5*IQR  # 上限值\n",
    "\n",
    "    return Minimum, Q1, Median, Q3, Maximum, lower_limit, upper_limit\n",
    "\n",
    "\n",
    "def printfiveNumber(fivenumber):\n",
    "    print(\"*\" * 40)\n",
    "    print(\"Min = {fivenumber[0]}\")\n",
    "    print(\"Q1  = {fivenumber[1]}\")\n",
    "    print(\"Median = {fivenumber[2]}\")\n",
    "    print(\"Q3 = {fivenumber[3]}\")\n",
    "    print(\"Max = {fivenumber[4]}\")\n",
    "    print(\"*\" * 40)"
   ]
  },
  {
   "cell_type": "code",
   "execution_count": 10,
   "metadata": {
    "collapsed": false
   },
   "outputs": [],
   "source": [
    "# 处理2011年数据\n",
    "crimes_2011 = data1\n",
    "crimes_2011.drop(index=[180015], inplace=True)\n",
    "crimes_2011 = prep_data(crimes_2011)\n",
    "crimes_2011.rename(index=str, columns={\"Location\": \"address\"}, inplace=True)\n",
    "crimes_2011[\"Priority\"].replace(0.0, 1.0, inplace=True)\n",
    "crimes_2011[\"Priority\"] = crimes_2011[\"Priority\"].astype(int)"
   ]
  },
  {
   "cell_type": "code",
   "execution_count": 11,
   "metadata": {
    "collapsed": false
   },
   "outputs": [],
   "source": [
    "# 处理2012年数据\n",
    "crimes_2012 = data2\n",
    "crimes_2012.dropna(thresh=9, inplace=True)\n",
    "crimes_2012 = prep_data(crimes_2012)\n",
    "crimes_2012.rename(index=str, columns={\"Location \": \"address\"}, inplace=True)\n",
    "crimes_2012[\"Area Id\"] = crimes_2012[\"Area Id\"].astype(int)\n",
    "crimes_2012[\"Priority\"].replace(0.0, 1.0, inplace=True)\n",
    "crimes_2012[\"Priority\"] = crimes_2012[\"Priority\"].astype(int)"
   ]
  },
  {
   "cell_type": "code",
   "execution_count": 12,
   "metadata": {
    "collapsed": true
   },
   "outputs": [],
   "source": [
    "# 处理2013年数据\n",
    "crimes_2013 = data3\n",
    "crimes_2013.dropna(thresh=9, inplace=True)\n",
    "crimes_2013 = prep_data(crimes_2013)\n",
    "crimes_2013.rename(index=str, columns={\"Location \": \"address\"}, inplace=True)\n",
    "crimes_2013[\"Area Id\"] = crimes_2013[\"Area Id\"].astype(int)\n",
    "crimes_2013[\"Priority\"].replace(0.0, 1.0, inplace=True)\n",
    "crimes_2013[\"Priority\"] = crimes_2013[\"Priority\"].astype(int)"
   ]
  },
  {
   "cell_type": "code",
   "execution_count": 13,
   "metadata": {
    "collapsed": true
   },
   "outputs": [],
   "source": [
    "# 处理2014年数据\n",
    "crimes_2014 = data4\n",
    "crimes_2014.dropna(thresh=9, inplace=True)\n",
    "crimes_2014 = prep_data(crimes_2014)\n",
    "crimes_2014.rename(index=str, columns={\"Location \": \"address\"}, inplace=True)\n",
    "crimes_2014[\"Area Id\"] = crimes_2013[\"Area Id\"].astype(int)\n",
    "crimes_2014[\"Priority\"].replace(0.0, 1.0, inplace=True)\n",
    "crimes_2014[\"Priority\"] = crimes_2013[\"Priority\"].astype(int)"
   ]
  },
  {
   "cell_type": "code",
   "execution_count": 14,
   "metadata": {
    "collapsed": true
   },
   "outputs": [],
   "source": [
    "# 处理2015年数据\n",
    "crimes_2015 = data5\n",
    "crimes_2015.dropna(thresh=9, inplace=True)\n",
    "crimes_2015 = prep_data(crimes_2015)\n",
    "crimes_2015.rename(index=str, columns={\"Location \": \"address\"}, inplace=True)\n",
    "crimes_2015[\"Area Id\"] = crimes_2013[\"Area Id\"].astype(int)\n",
    "crimes_2015[\"Priority\"].replace(0.0, 1.0, inplace=True)\n",
    "crimes_2015[\"Priority\"] = crimes_2013[\"Priority\"].astype(int)"
   ]
  },
  {
   "cell_type": "code",
   "execution_count": 15,
   "metadata": {
    "collapsed": true
   },
   "outputs": [],
   "source": [
    "# 处理2016年数据\n",
    "crimes_2016 = data6\n",
    "crimes_2016.dropna(thresh=9, inplace=True)\n",
    "crimes_2016 = prep_data(crimes_2016)\n",
    "crimes_2016.rename(index=str, columns={\"Location\": \"address\"}, inplace=True)\n",
    "crimes_2016[\"Priority\"] = crimes_2016[\"Priority\"].astype(int)"
   ]
  },
  {
   "cell_type": "code",
   "execution_count": 16,
   "metadata": {
    "collapsed": true
   },
   "outputs": [],
   "source": [
    "crimes_list = [crimes_2011, crimes_2012, crimes_2013, crimes_2014, crimes_2015, crimes_2016]"
   ]
  },
  {
   "cell_type": "code",
   "execution_count": 17,
   "metadata": {
    "collapsed": false
   },
   "outputs": [
    {
     "name": "stdout",
     "output_type": "stream",
     "text": [
      "五数概括\n",
      "****************************************\n",
      "2011time_between_creation_and_closed_seconds\n",
      "****************************************\n",
      "Min = {fivenumber[0]}\n",
      "Q1  = {fivenumber[1]}\n",
      "Median = {fivenumber[2]}\n",
      "Q3 = {fivenumber[3]}\n",
      "Max = {fivenumber[4]}\n",
      "****************************************\n",
      "2012time_between_creation_and_closed_seconds\n",
      "****************************************\n",
      "Min = {fivenumber[0]}\n",
      "Q1  = {fivenumber[1]}\n",
      "Median = {fivenumber[2]}\n",
      "Q3 = {fivenumber[3]}\n",
      "Max = {fivenumber[4]}\n",
      "****************************************\n",
      "2013time_between_creation_and_closed_seconds\n",
      "****************************************\n",
      "Min = {fivenumber[0]}\n",
      "Q1  = {fivenumber[1]}\n",
      "Median = {fivenumber[2]}\n",
      "Q3 = {fivenumber[3]}\n",
      "Max = {fivenumber[4]}\n",
      "****************************************\n",
      "2014time_between_creation_and_closed_seconds\n",
      "****************************************\n",
      "Min = {fivenumber[0]}\n",
      "Q1  = {fivenumber[1]}\n",
      "Median = {fivenumber[2]}\n",
      "Q3 = {fivenumber[3]}\n",
      "Max = {fivenumber[4]}\n",
      "****************************************\n",
      "2015time_between_creation_and_closed_seconds\n",
      "****************************************\n",
      "Min = {fivenumber[0]}\n",
      "Q1  = {fivenumber[1]}\n",
      "Median = {fivenumber[2]}\n",
      "Q3 = {fivenumber[3]}\n",
      "Max = {fivenumber[4]}\n",
      "****************************************\n",
      "2016time_between_creation_and_closed_seconds\n",
      "****************************************\n",
      "Min = {fivenumber[0]}\n",
      "Q1  = {fivenumber[1]}\n",
      "Median = {fivenumber[2]}\n",
      "Q3 = {fivenumber[3]}\n",
      "Max = {fivenumber[4]}\n",
      "****************************************\n"
     ]
    }
   ],
   "source": [
    "print(\"五数概括\")\n",
    "print(\"*\" * 40)\n",
    "for i, crime_year in enumerate(crimes_list):\n",
    "    five = fiveNumber(crime_year[crime_year[\"Priority\"] == 1][\"time_between_creation_and_closed_seconds\"])\n",
    "    print(str(2011+i)+\"time_between_creation_and_closed_seconds\")\n",
    "    printfiveNumber(five)"
   ]
  },
  {
   "cell_type": "markdown",
   "metadata": {},
   "source": [
    "### 3.3.2 数据可视化\n",
    "\n",
    "#### 3.3.2.1 案件处理时长随年份的变化盒图"
   ]
  },
  {
   "cell_type": "code",
   "execution_count": 19,
   "metadata": {
    "collapsed": false
   },
   "outputs": [
    {
     "data": {
      "text/plain": [
       "<Figure size 432x288 with 0 Axes>"
      ]
     },
     "metadata": {},
     "output_type": "display_data"
    },
    {
     "data": {
      "image/png": "[encoded data removed]",
      "text/plain": [
       "<Figure size 1152x576 with 1 Axes>"
      ]
     },
     "metadata": {},
     "output_type": "display_data"
    }
   ],
   "source": [
    "def box_plot(all_data):\n",
    "    fig = plt.figure(figsize=(16,8))\n",
    "    plt.boxplot(all_data,notch=False, sym='o',vert=True)\n",
    "    year_list = []\n",
    "    for i in range(2011,2017):\n",
    "        year_list.append(str(i))\n",
    "    plt.xticks([i for i in range(1,7)],year_list)\n",
    "    t = plt.title('Case Handling')\n",
    "    plt.show()\n",
    "    \n",
    "box = []\n",
    "for crime_year in crimes_list:\n",
    "    plt.subplots_adjust(left=0, right=2.5, top=3, bottom=1)\n",
    "    box.append(crime_year[\"time_between_creation_and_closed_seconds\"])\n",
    "box_plot(box)"
   ]
  },
  {
   "cell_type": "markdown",
   "metadata": {},
   "source": [
    "#### 3.3.2.2 各年份每月立案数量趋势柱状图"
   ]
  },
  {
   "cell_type": "code",
   "execution_count": 93,
   "metadata": {
    "collapsed": false,
    "scrolled": false
   },
   "outputs": [
    {
     "data": {
      "image/png": "[encoded data removed]",
      "text/plain": [
       "<Figure size 864x360 with 1 Axes>"
      ]
     },
     "metadata": {
      "needs_background": "light"
     },
     "output_type": "display_data"
    },
    {
     "data": {
      "image/png": "[encoded data removed]",
      "text/plain": [
       "<Figure size 864x360 with 1 Axes>"
      ]
     },
     "metadata": {
      "needs_background": "light"
     },
     "output_type": "display_data"
    },
    {
     "data": {
      "image/png": "[encoded data removed]",
      "text/plain": [
       "<Figure size 864x360 with 1 Axes>"
      ]
     },
     "metadata": {
      "needs_background": "light"
     },
     "output_type": "display_data"
    },
    {
     "data": {
      "image/png": "[encoded data removed]",
      "text/plain": [
       "<Figure size 864x360 with 1 Axes>"
      ]
     },
     "metadata": {
      "needs_background": "light"
     },
     "output_type": "display_data"
    },
    {
     "data": {
      "image/png": "[encoded data removed]",
      "text/plain": [
       "<Figure size 864x360 with 1 Axes>"
      ]
     },
     "metadata": {
      "needs_background": "light"
     },
     "output_type": "display_data"
    },
    {
     "data": {
      "image/png": "[encoded data removed]",
      "text/plain": [
       "<Figure size 864x360 with 1 Axes>"
      ]
     },
     "metadata": {
      "needs_background": "light"
     },
     "output_type": "display_data"
    }
   ],
   "source": [
    "t = 0\n",
    "mon = 0\n",
    "index = np.arange(12)\n",
    "k = 1\n",
    "year = 2011\n",
    "for data in data_all:\n",
    "    lis = data['Create Time']\n",
    "    lis = lis.dropna()\n",
    "    lis = lis.values\n",
    "    mon_count=np.zeros(12)\n",
    "    for t in lis:\n",
    "        mon = t[5:7]\n",
    "        mon_count[int(mon)-1] += 1\n",
    "    # print(mon_count)\n",
    "    plt.figure(figsize=(12,5))\n",
    "    plt.bar(index,mon_count, 0.5, label=\"mon_count\")\n",
    "    plt.xticks(index,('1','2','3','4','5','6','7','8','9','10','11','12'))\n",
    "    for a,b in zip(index,mon_count):  \n",
    "        plt.text(a, b+0.05, '%.0f' % b, ha='center', va= 'bottom',fontsize=11) \n",
    "    plt.xlabel(\"Month\")\n",
    "    plt.ylabel(\"Number\")  \n",
    "    plt.title(year)\n",
    "    year=year+1"
   ]
  },
  {
   "cell_type": "markdown",
   "metadata": {},
   "source": [
    "上图分别展示了不同年份每月的立案数量，基本都分布在1.5万起左右，且大多都多于1.5万起，同时，在2016年7月后存在着较多的缺失，这与数据集的收集时间有关。也可以明显观察出，在2月和11月的立案数量多低于其他月份。"
   ]
  },
  {
   "cell_type": "markdown",
   "metadata": {},
   "source": [
    "#### 3.3.2.3 各年份不同事件等级每天报案时间段分布图\n",
    "\n",
    "通过之前的数据预处理，将报案时间分为不同的时间段，可以较为方便地进行该可视化部分。"
   ]
  },
  {
   "cell_type": "code",
   "execution_count": 20,
   "metadata": {
    "collapsed": false
   },
   "outputs": [
    {
     "data": {
      "image/png": "[encoded data removed]",
      "text/plain": [
       "<Figure size 432x288 with 6 Axes>"
      ]
     },
     "metadata": {},
     "output_type": "display_data"
    }
   ],
   "source": [
    "fig, ax = plt.subplots(nrows=2, ncols=3)\n",
    "plt.subplots_adjust(left=0, right=2.5, top=3, bottom=1)\n",
    "i = 0\n",
    "for row in ax:\n",
    "    for col in row:\n",
    "        col.set_title(str(2011 + i))\n",
    "        sns.countplot(data=crimes_list[i], x=\"Priority\", hue=\"time_of_the_day\", palette=\"Set2\", ax=col)\n",
    "        i+=1"
   ]
  },
  {
   "cell_type": "markdown",
   "metadata": {},
   "source": [
    "上图直观地反映了不同优先级的案件，在每天的报案时间段以及数量的差异，显然2.0级的远多于1.0级的，同时，报案时间也较多分布在中午12点到下午6点之间；在其他时间段中，夜间报案数也更多一些。"
   ]
  },
  {
   "cell_type": "markdown",
   "metadata": {},
   "source": [
    "#### 3.3.2.4 各年份案件等级分布及盒图"
   ]
  },
  {
   "cell_type": "code",
   "execution_count": 157,
   "metadata": {
    "collapsed": false
   },
   "outputs": [
    {
     "data": {
      "image/png": "[encoded data removed]",
      "text/plain": [
       "<Figure size 432x288 with 1 Axes>"
      ]
     },
     "metadata": {
      "needs_background": "light"
     },
     "output_type": "display_data"
    },
    {
     "data": {
      "image/png": "[encoded data removed]",
      "text/plain": [
       "<Figure size 432x288 with 1 Axes>"
      ]
     },
     "metadata": {
      "needs_background": "light"
     },
     "output_type": "display_data"
    },
    {
     "data": {
      "image/png": "[encoded data removed]",
      "text/plain": [
       "<Figure size 432x288 with 1 Axes>"
      ]
     },
     "metadata": {
      "needs_background": "light"
     },
     "output_type": "display_data"
    },
    {
     "data": {
      "image/png": "[encoded data removed]",
      "text/plain": [
       "<Figure size 432x288 with 1 Axes>"
      ]
     },
     "metadata": {
      "needs_background": "light"
     },
     "output_type": "display_data"
    },
    {
     "data": {
      "image/png": "[encoded data removed]",
      "text/plain": [
       "<Figure size 432x288 with 1 Axes>"
      ]
     },
     "metadata": {
      "needs_background": "light"
     },
     "output_type": "display_data"
    },
    {
     "data": {
      "image/png": "[encoded data removed]",
      "text/plain": [
       "<Figure size 432x288 with 1 Axes>"
      ]
     },
     "metadata": {
      "needs_background": "light"
     },
     "output_type": "display_data"
    },
    {
     "data": {
      "image/png": "[encoded data removed]",
      "text/plain": [
       "<Figure size 432x288 with 1 Axes>"
      ]
     },
     "metadata": {
      "needs_background": "light"
     },
     "output_type": "display_data"
    },
    {
     "data": {
      "image/png": "[encoded data removed]",
      "text/plain": [
       "<Figure size 432x288 with 1 Axes>"
      ]
     },
     "metadata": {
      "needs_background": "light"
     },
     "output_type": "display_data"
    },
    {
     "data": {
      "image/png": "[encoded data removed]",
      "text/plain": [
       "<Figure size 432x288 with 1 Axes>"
      ]
     },
     "metadata": {
      "needs_background": "light"
     },
     "output_type": "display_data"
    },
    {
     "data": {
      "image/png": "[encoded data removed]",
      "text/plain": [
       "<Figure size 432x288 with 1 Axes>"
      ]
     },
     "metadata": {
      "needs_background": "light"
     },
     "output_type": "display_data"
    },
    {
     "data": {
      "image/png": "[encoded data removed]",
      "text/plain": [
       "<Figure size 432x288 with 1 Axes>"
      ]
     },
     "metadata": {
      "needs_background": "light"
     },
     "output_type": "display_data"
    }
   ],
   "source": [
    "for data in data_all:\n",
    "    data = data.dropna()\n",
    "    stats.probplot(data['Priority'],dist=\"norm\",plot=plt)\n",
    "    plt.show()\n",
    "for data in data_all:\n",
    "    data.boxplot(column=['Priority'])\n",
    "    plt.show()"
   ]
  },
  {
   "cell_type": "markdown",
   "metadata": {},
   "source": [
    "从图中可以明显看出，案件等级不服从正态分布，2.0为最低等级的案件，因为在生活中立案也是低等级案件多于高等级案件数，这符合生活常识的逻辑。"
   ]
  },
  {
   "cell_type": "markdown",
   "metadata": {},
   "source": [
    "#### 3.3.2.5 合并时间轴后统计2011到2016年每天的犯罪数"
   ]
  },
  {
   "cell_type": "code",
   "execution_count": 21,
   "metadata": {
    "collapsed": true
   },
   "outputs": [],
   "source": [
    "def Master():\n",
    "    setOf = ['./data/OaklandCrime/records-for-2011.csv','./data/OaklandCrime/records-for-2012.csv','./data/OaklandCrime/records-for-2013.csv',\n",
    "             './data/OaklandCrime/records-for-2014.csv','./data/OaklandCrime/records-for-2015.csv','./data/OaklandCrime/records-for-2016.csv']\n",
    "    \n",
    "    for x in range(len(setOf)):\n",
    "        temp = pd.read_csv(setOf[x])\n",
    "        temp['DATE'] = pd.to_datetime(temp['Create Time'],dayfirst=True)\n",
    "        temp['DATE'] = temp['DATE'].dt.date\n",
    "        temp.set_index('DATE',inplace=True)\n",
    "        temp.index = pd.to_datetime(temp.index,dayfirst=True)\n",
    "        temp['Count'] = 1\n",
    "        temp = temp[['Count']].resample(rule='D').sum()\n",
    "        if (x == 0):\n",
    "            Master = temp\n",
    "        Master = pd.concat([Master,temp])\n",
    "    return Master"
   ]
  },
  {
   "cell_type": "code",
   "execution_count": 22,
   "metadata": {
    "collapsed": true
   },
   "outputs": [],
   "source": [
    "df = Master()"
   ]
  },
  {
   "cell_type": "code",
   "execution_count": 23,
   "metadata": {
    "collapsed": false
   },
   "outputs": [
    {
     "data": {
      "text/plain": [
       "Text(0,0.5,'Number of Crimes per Day')"
      ]
     },
     "execution_count": 23,
     "metadata": {},
     "output_type": "execute_result"
    },
    {
     "data": {
      "image/png": "[encoded data removed]",
      "text/plain": [
       "<Figure size 1080x360 with 1 Axes>"
      ]
     },
     "metadata": {},
     "output_type": "display_data"
    }
   ],
   "source": [
    "df.plot(figsize=(15,5), color='#494e8f')\n",
    "plt.title('Crime Count')\n",
    "plt.ylabel('Number of Crimes per Day')"
   ]
  },
  {
   "cell_type": "markdown",
   "metadata": {},
   "source": [
    "可以观察到，这几年中2014、2015和2016年中存在立案数量极为突出的几个峰值，但案件数整体峰值较多的年份多在2011-2013年，这也反映了治安程度上一定的进步。"
   ]
  },
  {
   "cell_type": "markdown",
   "metadata": {},
   "source": [
    "## 3.4 数据缺失处理\n",
    "\n",
    "### 3.4.1 总览数据缺失\n",
    "\n",
    "查看每个列中缺失的总和，处理NaN和np.null的值。"
   ]
  },
  {
   "cell_type": "code",
   "execution_count": 131,
   "metadata": {
    "collapsed": false,
    "scrolled": true
   },
   "outputs": [
    {
     "name": "stdout",
     "output_type": "stream",
     "text": [
      "Agency                         1\n",
      "Create Time                    1\n",
      "Location                       0\n",
      "Area Id                      904\n",
      "Beat                         520\n",
      "Priority                       1\n",
      "Incident Type Id               1\n",
      "Incident Type Description      1\n",
      "Event Number                   1\n",
      "Closed Time                    7\n",
      "dtype: int64\n",
      "============================================================\n",
      "Agency                            1\n",
      "Create Time                       1\n",
      "Area Id                        1415\n",
      "Beat                            984\n",
      "Priority                          1\n",
      "Incident Type Id                  1\n",
      "Incident Type Description         1\n",
      "Event Number                      1\n",
      "Closed Time                      19\n",
      "Location 1                       70\n",
      "Zip Codes                    187256\n",
      "dtype: int64\n",
      "============================================================\n",
      "Agency                          1\n",
      "Create Time                     1\n",
      "Location                        0\n",
      "Area Id                      2258\n",
      "Beat                         1178\n",
      "Priority                        1\n",
      "Incident Type Id                1\n",
      "Incident Type Description       5\n",
      "Event Number                    1\n",
      "Closed Time                     2\n",
      "dtype: int64\n",
      "============================================================\n",
      "Agency                            0\n",
      "Create Time                       0\n",
      "Area Id                      177787\n",
      "Beat                           1217\n",
      "Priority                          0\n",
      "Incident Type Id                  0\n",
      "Incident Type Description       141\n",
      "Event Number                      0\n",
      "Closed Time                       0\n",
      "Location 1                       42\n",
      "Zip Codes                    187303\n",
      "dtype: int64\n",
      "============================================================\n",
      "Agency                          0\n",
      "Create Time                     0\n",
      "Location                        0\n",
      "Area Id                         0\n",
      "Beat                         1325\n",
      "Priority                        0\n",
      "Incident Type Id                0\n",
      "Incident Type Description     243\n",
      "Event Number                    0\n",
      "Closed Time                     0\n",
      "dtype: int64\n",
      "============================================================\n",
      "Agency                         1\n",
      "Create Time                    1\n",
      "Location                       0\n",
      "Area Id                        1\n",
      "Beat                         581\n",
      "Priority                       1\n",
      "Incident Type Id               1\n",
      "Incident Type Description      1\n",
      "Event Number                   1\n",
      "Closed Time                    1\n",
      "dtype: int64\n",
      "============================================================\n"
     ]
    }
   ],
   "source": [
    "for data,cols in zip(data_all,cols_all):\n",
    "    print(data.isnull()[cols].sum())\n",
    "    print(\"=\" * 60)"
   ]
  },
  {
   "cell_type": "markdown",
   "metadata": {},
   "source": [
    "主要缺失的为Area ID和Beat属性，缺失最多的年份为2014年，以下内容对该部分进行缺失处理。"
   ]
  },
  {
   "cell_type": "code",
   "execution_count": 212,
   "metadata": {
    "collapsed": false
   },
   "outputs": [
    {
     "name": "stdout",
     "output_type": "stream",
     "text": [
      "       Incident Type Id Incident Type Description\n",
      "180015              NaN                       NaN\n",
      "==================================================\n",
      "       Incident Type Id Incident Type Description\n",
      "187255              NaN                       NaN\n",
      "==================================================\n",
      "       Incident Type Id Incident Type Description\n",
      "178947              JGP                       NaN\n",
      "185820              JGP                       NaN\n",
      "186584              JGP                       NaN\n",
      "187409              JGP                       NaN\n",
      "188051              NaN                       NaN\n",
      "==================================================\n",
      "       Incident Type Id Incident Type Description\n",
      "2382                JGP                       NaN\n",
      "11137               JGP                       NaN\n",
      "13174               JGP                       NaN\n",
      "18605               JGP                       NaN\n",
      "37673               JGP                       NaN\n",
      "...                 ...                       ...\n",
      "182424              JGP                       NaN\n",
      "183100              JGP                       NaN\n",
      "184135              JGP                       NaN\n",
      "186580              JGP                       NaN\n",
      "187323              JGP                       NaN\n",
      "\n",
      "[141 rows x 2 columns]\n",
      "==================================================\n",
      "       Incident Type Id Incident Type Description\n",
      "1725                JGP                       NaN\n",
      "1756                JGP                       NaN\n",
      "2765                JGP                       NaN\n",
      "3230                JGP                       NaN\n",
      "3772                JGP                       NaN\n",
      "...                 ...                       ...\n",
      "187356              JGP                       NaN\n",
      "188118              JGP                       NaN\n",
      "189202              JGP                       NaN\n",
      "190735              JGP                       NaN\n",
      "191221              JGP                       NaN\n",
      "\n",
      "[243 rows x 2 columns]\n",
      "==================================================\n",
      "       Incident Type Id Incident Type Description\n",
      "110827              NaN                       NaN\n",
      "==================================================\n"
     ]
    }
   ],
   "source": [
    "for data in data_all:\n",
    "    data_ = data[['Incident Type Id','Incident Type Description']]\n",
    "    data_=data_[data_.isnull().T.any()]\n",
    "    print(data_)\n",
    "    print(\"=\" * 50)"
   ]
  },
  {
   "cell_type": "markdown",
   "metadata": {},
   "source": [
    "分析 Incident Type Id Incident 和 Type Description ，发现类型为JGP的案件其事件描述均为Nan，这可能说明JGP难以描述。\n",
    "\n",
    "### 3.4.2 数值数据的缺失处理\n",
    "\n",
    "每个年份的处理基本一致，此处以2011年为例来进行数据缺失处理。\n",
    "\n",
    "#### 3.4.2.1 剔除缺失部分"
   ]
  },
  {
   "cell_type": "code",
   "execution_count": 223,
   "metadata": {
    "collapsed": false
   },
   "outputs": [
    {
     "data": {
      "text/plain": [
       "<matplotlib.axes._subplots.AxesSubplot at 0x28503fcfec8>"
      ]
     },
     "execution_count": 223,
     "metadata": {},
     "output_type": "execute_result"
    },
    {
     "data": {
      "image/png": "[encoded data removed]",
      "text/plain": [
       "<Figure size 432x288 with 1 Axes>"
      ]
     },
     "metadata": {
      "needs_background": "light"
     },
     "output_type": "display_data"
    }
   ],
   "source": [
    "del_df = data1.dropna()\n",
    "del_df['Area Id'].hist(bins = 15)"
   ]
  },
  {
   "cell_type": "code",
   "execution_count": 224,
   "metadata": {
    "collapsed": false
   },
   "outputs": [
    {
     "data": {
      "text/plain": [
       "<matplotlib.axes._subplots.AxesSubplot at 0x285040c3d48>"
      ]
     },
     "execution_count": 224,
     "metadata": {},
     "output_type": "execute_result"
    },
    {
     "data": {
      "image/png": "[encoded data removed]",
      "text/plain": [
       "<Figure size 432x288 with 1 Axes>"
      ]
     },
     "metadata": {
      "needs_background": "light"
     },
     "output_type": "display_data"
    }
   ],
   "source": [
    "del_df['Beat'].hist(bins =70)"
   ]
  },
  {
   "cell_type": "markdown",
   "metadata": {},
   "source": [
    "#### 3.4.2.2 用最高频率值来填补缺失值\n",
    "\n",
    "使用经常报案的区域填充："
   ]
  },
  {
   "cell_type": "code",
   "execution_count": 176,
   "metadata": {
    "collapsed": false
   },
   "outputs": [
    {
     "name": "stdout",
     "output_type": "stream",
     "text": [
      "1.0    80056\n",
      "2.0    67261\n",
      "3.0    32699\n",
      "Name: Area Id, dtype: int64\n",
      "==============================\n",
      "04X     7930\n",
      "08X     6885\n",
      "26Y     5478\n",
      "30Y     5295\n",
      "06X     5119\n",
      "23X     5051\n",
      "30X     4956\n",
      "19X     4955\n",
      "34X     4673\n",
      "29X     4483\n",
      "20X     4287\n",
      "27Y     4159\n",
      "07X     4134\n",
      "31Y     4082\n",
      "25X     4022\n",
      "35X     3880\n",
      "33X     3849\n",
      "03X     3819\n",
      "32X     3711\n",
      "27X     3703\n",
      "09X     3630\n",
      "21Y     3435\n",
      "32Y     3125\n",
      "22X     3061\n",
      "26X     2978\n",
      "02Y     2970\n",
      "10X     2967\n",
      "14X     2733\n",
      "03Y     2726\n",
      "22Y     2664\n",
      "12Y     2651\n",
      "05X     2633\n",
      "02X     2614\n",
      "31X     2603\n",
      "21X     2593\n",
      "17Y     2582\n",
      "24Y     2575\n",
      "13Z     2546\n",
      "15X     2509\n",
      "24X     2459\n",
      "12X     2422\n",
      "10Y     2383\n",
      "01X     2210\n",
      "28X     2191\n",
      "17X     2133\n",
      "11X     2087\n",
      "13Y     2017\n",
      "35Y     1956\n",
      "31Z     1870\n",
      "18Y     1778\n",
      "16Y     1561\n",
      "14Y     1492\n",
      "25Y     1482\n",
      "13X     1122\n",
      "18X     1063\n",
      "16X      994\n",
      "05Y      710\n",
      "PDT2      20\n",
      "Name: Beat, dtype: int64\n"
     ]
    },
    {
     "data": {
      "image/png": "[encoded data removed]",
      "text/plain": [
       "<Figure size 432x288 with 1 Axes>"
      ]
     },
     "metadata": {
      "needs_background": "light"
     },
     "output_type": "display_data"
    },
    {
     "data": {
      "image/png": "[encoded data removed]",
      "text/plain": [
       "<Figure size 432x288 with 1 Axes>"
      ]
     },
     "metadata": {
      "needs_background": "light"
     },
     "output_type": "display_data"
    },
    {
     "name": "stdout",
     "output_type": "stream",
     "text": [
      "1.0    102468\n",
      "2.0     84963\n",
      "Name: Area Id, dtype: int64\n",
      "==============================\n",
      "04X     9072\n",
      "08X     6691\n",
      "30Y     5529\n",
      "26Y     5374\n",
      "23X     5301\n",
      "19X     5158\n",
      "30X     4988\n",
      "34X     4965\n",
      "20X     4682\n",
      "06X     4676\n",
      "29X     4606\n",
      "25X     4396\n",
      "03X     4380\n",
      "35X     4291\n",
      "07X     4235\n",
      "31Y     3975\n",
      "09X     3845\n",
      "32X     3836\n",
      "21Y     3822\n",
      "27Y     3701\n",
      "33X     3697\n",
      "27X     3685\n",
      "12Y     3344\n",
      "32Y     3328\n",
      "22X     3131\n",
      "14X     3070\n",
      "02Y     3043\n",
      "03Y     3009\n",
      "26X     2982\n",
      "10X     2961\n",
      "13Z     2946\n",
      "02X     2798\n",
      "10Y     2727\n",
      "22Y     2725\n",
      "24Y     2723\n",
      "05X     2681\n",
      "21X     2674\n",
      "15X     2671\n",
      "17Y     2635\n",
      "12X     2491\n",
      "24X     2483\n",
      "31X     2482\n",
      "28X     2321\n",
      "01X     2193\n",
      "11X     2165\n",
      "17X     2127\n",
      "35Y     1986\n",
      "13Y     1898\n",
      "31Z     1849\n",
      "18Y     1816\n",
      "16Y     1680\n",
      "14Y     1578\n",
      "25Y     1512\n",
      "18X     1224\n",
      "13X     1212\n",
      "16X     1197\n",
      "05Y      836\n",
      "PDT2      28\n",
      "Name: Beat, dtype: int64\n"
     ]
    },
    {
     "data": {
      "image/png": "[encoded data removed]",
      "text/plain": [
       "<Figure size 432x288 with 1 Axes>"
      ]
     },
     "metadata": {
      "needs_background": "light"
     },
     "output_type": "display_data"
    },
    {
     "data": {
      "image/png": "[encoded data removed]",
      "text/plain": [
       "<Figure size 432x288 with 1 Axes>"
      ]
     },
     "metadata": {
      "needs_background": "light"
     },
     "output_type": "display_data"
    },
    {
     "name": "stdout",
     "output_type": "stream",
     "text": [
      "1.0    107474\n",
      "2.0     80578\n",
      "Name: Area Id, dtype: int64\n",
      "==============================\n",
      "04X     8875\n",
      "08X     6993\n",
      "30X     5440\n",
      "30Y     5439\n",
      "23X     5279\n",
      "19X     5211\n",
      "26Y     5188\n",
      "34X     5059\n",
      "06X     4786\n",
      "20X     4565\n",
      "29X     4531\n",
      "25X     4530\n",
      "03X     4483\n",
      "07X     4416\n",
      "31Y     4304\n",
      "32X     4194\n",
      "35X     4053\n",
      "27Y     4026\n",
      "21Y     3938\n",
      "09X     3776\n",
      "27X     3774\n",
      "33X     3537\n",
      "02Y     3522\n",
      "12Y     3465\n",
      "32Y     3465\n",
      "22X     3095\n",
      "03Y     2899\n",
      "05X     2896\n",
      "14X     2881\n",
      "26X     2787\n",
      "02X     2713\n",
      "24X     2710\n",
      "10X     2702\n",
      "10Y     2641\n",
      "22Y     2614\n",
      "12X     2576\n",
      "24Y     2571\n",
      "17Y     2564\n",
      "15X     2482\n",
      "13Z     2383\n",
      "31X     2361\n",
      "01X     2309\n",
      "28X     2294\n",
      "21X     2289\n",
      "17X     2091\n",
      "31Z     2047\n",
      "11X     1964\n",
      "35Y     1950\n",
      "13Y     1826\n",
      "18Y     1817\n",
      "14Y     1794\n",
      "16Y     1720\n",
      "25Y     1537\n",
      "18X     1387\n",
      "16X     1255\n",
      "13X     1209\n",
      "05Y      821\n",
      "PDT2      18\n",
      "Name: Beat, dtype: int64\n"
     ]
    },
    {
     "data": {
      "image/png": "[encoded data removed]",
      "text/plain": [
       "<Figure size 432x288 with 1 Axes>"
      ]
     },
     "metadata": {
      "needs_background": "light"
     },
     "output_type": "display_data"
    },
    {
     "data": {
      "image/png": "[encoded data removed]",
      "text/plain": [
       "<Figure size 432x288 with 1 Axes>"
      ]
     },
     "metadata": {
      "needs_background": "light"
     },
     "output_type": "display_data"
    },
    {
     "name": "stdout",
     "output_type": "stream",
     "text": [
      "1.0    182818\n",
      "2.0      3898\n",
      "5.0       320\n",
      "4.0       236\n",
      "3.0       208\n",
      "Name: Area Id, dtype: int64\n",
      "==============================\n",
      "04X     9085\n",
      "08X     6723\n",
      "30X     5539\n",
      "23X     5485\n",
      "30Y     5454\n",
      "26Y     5377\n",
      "19X     5290\n",
      "06X     4931\n",
      "34X     4865\n",
      "03X     4727\n",
      "27Y     4653\n",
      "29X     4645\n",
      "20X     4639\n",
      "07X     4617\n",
      "31Y     4541\n",
      "25X     4372\n",
      "35X     4240\n",
      "27X     3912\n",
      "32X     3833\n",
      "21Y     3784\n",
      "09X     3625\n",
      "32Y     3622\n",
      "02Y     3621\n",
      "33X     3561\n",
      "12Y     3214\n",
      "03Y     3212\n",
      "14X     2870\n",
      "26X     2843\n",
      "24X     2843\n",
      "02X     2819\n",
      "22X     2789\n",
      "24Y     2673\n",
      "10X     2566\n",
      "10Y     2537\n",
      "12X     2516\n",
      "21X     2502\n",
      "31X     2486\n",
      "17Y     2480\n",
      "05X     2442\n",
      "13Z     2415\n",
      "15X     2347\n",
      "01X     2320\n",
      "22Y     2297\n",
      "28X     2186\n",
      "11X     2092\n",
      "31Z     2022\n",
      "35Y     1860\n",
      "17X     1860\n",
      "14Y     1772\n",
      "13Y     1720\n",
      "18Y     1609\n",
      "16Y     1495\n",
      "25Y     1319\n",
      "13X     1211\n",
      "18X     1142\n",
      "16X     1035\n",
      "05Y      821\n",
      "PDT2      24\n",
      "Name: Beat, dtype: int64\n"
     ]
    },
    {
     "data": {
      "image/png": "[encoded data removed]",
      "text/plain": [
       "<Figure size 432x288 with 1 Axes>"
      ]
     },
     "metadata": {
      "needs_background": "light"
     },
     "output_type": "display_data"
    },
    {
     "data": {
      "image/png": "[encoded data removed]",
      "text/plain": [
       "<Figure size 432x288 with 1 Axes>"
      ]
     },
     "metadata": {
      "needs_background": "light"
     },
     "output_type": "display_data"
    },
    {
     "name": "stdout",
     "output_type": "stream",
     "text": [
      "P3     81629\n",
      "P1     73141\n",
      "P2     33423\n",
      "POU     3787\n",
      "PCW      595\n",
      "TEC        6\n",
      "Name: Area Id, dtype: int64\n",
      "==============================\n",
      "04X     9373\n",
      "08X     6874\n",
      "30Y     5690\n",
      "19X     5564\n",
      "30X     5542\n",
      "23X     5492\n",
      "26Y     5449\n",
      "34X     5172\n",
      "06X     5056\n",
      "03X     4983\n",
      "07X     4910\n",
      "29X     4599\n",
      "31Y     4556\n",
      "25X     4409\n",
      "35X     4287\n",
      "20X     4284\n",
      "27Y     4242\n",
      "32X     3940\n",
      "27X     3899\n",
      "12Y     3868\n",
      "09X     3831\n",
      "33X     3790\n",
      "21Y     3574\n",
      "03Y     3512\n",
      "32Y     3456\n",
      "14X     3290\n",
      "02Y     3290\n",
      "22X     3207\n",
      "10Y     2937\n",
      "26X     2802\n",
      "24X     2733\n",
      "10X     2705\n",
      "28X     2579\n",
      "24Y     2558\n",
      "13Z     2555\n",
      "01X     2552\n",
      "17Y     2551\n",
      "31X     2535\n",
      "12X     2516\n",
      "02X     2515\n",
      "21X     2511\n",
      "05X     2464\n",
      "22Y     2456\n",
      "15X     2437\n",
      "35Y     2293\n",
      "11X     2186\n",
      "31Z     2127\n",
      "14Y     1920\n",
      "17X     1776\n",
      "13Y     1734\n",
      "18Y     1604\n",
      "16Y     1577\n",
      "25Y     1406\n",
      "18X     1263\n",
      "16X     1223\n",
      "13X     1117\n",
      "05Y      775\n",
      "PDT2      35\n",
      "Name: Beat, dtype: int64\n"
     ]
    },
    {
     "data": {
      "image/png": "[encoded data removed]",
      "text/plain": [
       "<Figure size 432x288 with 1 Axes>"
      ]
     },
     "metadata": {
      "needs_background": "light"
     },
     "output_type": "display_data"
    },
    {
     "data": {
      "image/png": "[encoded data removed]",
      "text/plain": [
       "<Figure size 432x288 with 1 Axes>"
      ]
     },
     "metadata": {
      "needs_background": "light"
     },
     "output_type": "display_data"
    },
    {
     "name": "stdout",
     "output_type": "stream",
     "text": [
      "P3     47426\n",
      "P1     41419\n",
      "P2     19610\n",
      "POU     2173\n",
      "PCW      194\n",
      "TEC        4\n",
      "JLS        1\n",
      "WAG        1\n",
      "Name: Area Id, dtype: int64\n",
      "==============================\n",
      "04X     5096\n",
      "08X     3931\n",
      "26Y     3511\n",
      "30Y     3473\n",
      "19X     3455\n",
      "30X     3416\n",
      "03X     3195\n",
      "23X     3076\n",
      "34X     2857\n",
      "07X     2831\n",
      "20X     2702\n",
      "29X     2646\n",
      "06X     2580\n",
      "03Y     2562\n",
      "27Y     2517\n",
      "25X     2467\n",
      "31Y     2460\n",
      "27X     2333\n",
      "35X     2328\n",
      "32X     2316\n",
      "33X     2276\n",
      "09X     2158\n",
      "21Y     2100\n",
      "32Y     2093\n",
      "12Y     1987\n",
      "14X     1832\n",
      "26X     1766\n",
      "02X     1746\n",
      "24X     1704\n",
      "02Y     1659\n",
      "10Y     1573\n",
      "10X     1557\n",
      "22X     1541\n",
      "17Y     1482\n",
      "21X     1479\n",
      "24Y     1454\n",
      "31X     1439\n",
      "22Y     1420\n",
      "13Z     1397\n",
      "15X     1393\n",
      "05X     1342\n",
      "01X     1304\n",
      "12X     1299\n",
      "31Z     1268\n",
      "28X     1261\n",
      "11X     1208\n",
      "35Y     1159\n",
      "18Y     1102\n",
      "14Y     1027\n",
      "17X      969\n",
      "13Y      952\n",
      "16Y      907\n",
      "25Y      739\n",
      "18X      721\n",
      "16X      708\n",
      "13X      630\n",
      "05Y      408\n",
      "PDT2      16\n",
      "Name: Beat, dtype: int64\n"
     ]
    },
    {
     "data": {
      "image/png": "[encoded data removed]",
      "text/plain": [
       "<Figure size 432x288 with 1 Axes>"
      ]
     },
     "metadata": {
      "needs_background": "light"
     },
     "output_type": "display_data"
    },
    {
     "data": {
      "image/png": "[encoded data removed]",
      "text/plain": [
       "<Figure size 432x288 with 1 Axes>"
      ]
     },
     "metadata": {
      "needs_background": "light"
     },
     "output_type": "display_data"
    }
   ],
   "source": [
    "for data in data_all:\n",
    "    fill_max = data.fillna({'Area Id': data['Area Id'].mode().item(), 'Beat': data['Beat'].mode().item()})\n",
    "    print(fill_max['Area Id'].value_counts())\n",
    "    print(\"=\" * 30)\n",
    "    print(fill_max['Beat'].value_counts())\n",
    "    plt.subplot(2,1,1)\n",
    "    fill_max['Area Id'].hist(bins = 15)\n",
    "    plt.show()\n",
    "    plt.subplot(2,1,2)\n",
    "    fill_max['Beat'].hist(bins =70)\n",
    "    plt.show()\n"
   ]
  },
  {
   "cell_type": "markdown",
   "metadata": {},
   "source": [
    "#### 3.4.2.3 通过属性的相关关系来填补缺失值\n",
    "\n",
    "第一步，计算属性间的相关系数。"
   ]
  },
  {
   "cell_type": "code",
   "execution_count": 159,
   "metadata": {
    "collapsed": false
   },
   "outputs": [
    {
     "name": "stdout",
     "output_type": "stream",
     "text": [
      "           Area Id  Priority\n",
      "Area Id   1.000000 -0.023366\n",
      "Priority -0.023366  1.000000\n",
      "            Area Id  Priority  Zip Codes\n",
      "Area Id    1.000000 -0.038554   0.023045\n",
      "Priority  -0.038554  1.000000   0.010370\n",
      "Zip Codes  0.023045  0.010370   1.000000\n",
      "           Area Id  Priority\n",
      "Area Id   1.000000 -0.027769\n",
      "Priority -0.027769  1.000000\n",
      "            Area Id  Priority  Zip Codes\n",
      "Area Id    1.000000 -0.025323        NaN\n",
      "Priority  -0.025323  1.000000   0.003855\n",
      "Zip Codes       NaN  0.003855   1.000000\n",
      "          Priority\n",
      "Priority       1.0\n",
      "          Priority\n",
      "Priority       1.0\n"
     ]
    }
   ],
   "source": [
    "for data in data_all:\n",
    "    x = data.corr()\n",
    "    print(x)"
   ]
  },
  {
   "cell_type": "markdown",
   "metadata": {},
   "source": [
    "可以观察到Area Id和Priority的相关关系很小，基本不相关，综合案件位置和案件区域，它们之间可能存在着一定的关系，所以计划利用Location和Area Id的相关关系填补缺失值。"
   ]
  },
  {
   "cell_type": "code",
   "execution_count": 205,
   "metadata": {
    "collapsed": false
   },
   "outputs": [
    {
     "name": "stdout",
     "output_type": "stream",
     "text": [
      "252\n"
     ]
    }
   ],
   "source": [
    "loc_area = {}\n",
    "\n",
    "P = data1.dropna()\n",
    "loc = P['Location']\n",
    "area= P['Area Id']\n",
    "loc = loc.values\n",
    "area = area.values\n",
    "for l,a in zip(loc,area):\n",
    "    loc_area[l] = a\n",
    "\n",
    "data_1 = data1[['Location','Area Id']]\n",
    "\n",
    "for i in range(len(data_1)):\n",
    "    # strr = data_4['Area Id'][i]\n",
    "    if np.isnan(data_1['Area Id'][i]):\n",
    "        a = data_1['Location'][i]\n",
    "        if a in loc_area:\n",
    "            th = loc_area[a]\n",
    "            data_1.loc[i, 'Area Id'] = th  \n",
    "print(data_1.isnull()['Area Id'].sum())"
   ]
  },
  {
   "cell_type": "code",
   "execution_count": 222,
   "metadata": {
    "collapsed": false
   },
   "outputs": [
    {
     "data": {
      "text/plain": [
       "Text(0.5, 1.0, '2011')"
      ]
     },
     "execution_count": 222,
     "metadata": {},
     "output_type": "execute_result"
    },
    {
     "data": {
      "image/png": "[encoded data removed]",
      "text/plain": [
       "<Figure size 864x360 with 1 Axes>"
      ]
     },
     "metadata": {
      "needs_background": "light"
     },
     "output_type": "display_data"
    }
   ],
   "source": [
    "\n",
    "index = np.arange(5)\n",
    "lis = data_1['Area Id']\n",
    "lis = lis.dropna()\n",
    "lis = lis.values\n",
    "Area_count=np.zeros(5)\n",
    "for t in lis:\n",
    "    Area_count[int(t)-1] += 1\n",
    "plt.figure(figsize=(12,5))\n",
    "plt.bar(index,Area_count, 0.5, label=\"Area_count\")\n",
    "plt.xticks(index,('1.0','2.0','3.0','4.0','5.0'))\n",
    "for a,b in zip(index,Area_count):\n",
    "    plt.text(a, b+0.05, '%.0f' % b, ha='center', va= 'bottom',fontsize=11) \n",
    "plt.xlabel(\"Area ID\")\n",
    "plt.ylabel(\"Number\")  \n",
    "plt.title(2011)"
   ]
  },
  {
   "cell_type": "markdown",
   "metadata": {},
   "source": [
    "和填充之前的图进行对比可以了解到，每个区域的案件数量都有所增长，这说明根据Location填补了一些缺失数据，但是仍然有252个尚未填补，这可能需要根据其他年份的数据进行填充，或者案件位置过于特殊，还不存在Area ID。\n",
    "\n",
    "#### 3.4.2.4 通过数据对象之间的相似性来填补缺失值\n",
    "\n",
    "根据Beat的相似性，来计算填补缺失的Area Id："
   ]
  },
  {
   "cell_type": "code",
   "execution_count": 227,
   "metadata": {
    "collapsed": false
   },
   "outputs": [
    {
     "name": "stdout",
     "output_type": "stream",
     "text": [
      "904\n"
     ]
    }
   ],
   "source": [
    "Beat_area = {}\n",
    "\n",
    "P = data1.dropna()\n",
    "beat = P['Beat']\n",
    "area= P['Area Id']\n",
    "beat = beat.values\n",
    "area = area.values\n",
    "for b,a in zip(beat,area):\n",
    "    Beat_area[l] = a\n",
    "\n",
    "data_1 = data1[['Beat','Area Id']]\n",
    "\n",
    "for i in range(len(data_1)):\n",
    "    # strr = data_4['Area Id'][i]\n",
    "    if np.isnan(data_1['Area Id'][i]):\n",
    "        a = data_1['Beat'][i]\n",
    "        if a in Beat_area:\n",
    "            th = Beat_area[a]\n",
    "            data_1.loc[i, 'Area Id'] = th  \n",
    "print(data_1.isnull()['Area Id'].sum())"
   ]
  },
  {
   "cell_type": "markdown",
   "metadata": {},
   "source": [
    "由于缺失的值只占很少的部分，所以对于频数分布来说并没有什么变化。"
   ]
  }
 ],
 "metadata": {
  "kernelspec": {
   "display_name": "Python [default]",
   "language": "python",
   "name": "python3"
  },
  "language_info": {
   "codemirror_mode": {
    "name": "ipython",
    "version": 3
   },
   "file_extension": ".py",
   "mimetype": "text/x-python",
   "name": "python",
   "nbconvert_exporter": "python",
   "pygments_lexer": "ipython3",
   "version": "3.5.6"
  }
 },
 "nbformat": 4,
 "nbformat_minor": 4
}
