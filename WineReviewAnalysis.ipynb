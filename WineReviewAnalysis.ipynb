{
 "cells": [
  {
   "cell_type": "markdown",
   "metadata": {},
   "source": [
    "# 3 数据集Wine Reviews分析\n",
    "\n",
    "## 3.1 概述\n",
    "\n",
    "在数据集中采用更新版本v2进行分析，该数据集共有129971条数据，13项属性标签，分别是：\n",
    "\n",
    "* country：葡萄酒产出国\n",
    "* description：侍酒师对葡萄酒风味的描述\n",
    "* designation：葡萄园（酿酒厂指定的葡萄来源）\n",
    "* points：《Wine Enthusiast Magazine》对葡萄酒的评分（1-100分）\n",
    "* price：一瓶酒的价格\n",
    "* province：葡萄酒来自的省或州\n",
    "* region_1：省或州的葡萄种植产区\n",
    "* region_2：葡萄种植产区内更特定的划分区域\n",
    "* taster_name：品酒师姓名\n",
    "* taster_twitter_handle：品酒师的Twitter账号\n",
    "* title：葡萄酒评论的标题\n",
    "* variety：葡萄品种\n",
    "* winery：酿酒厂"
   ]
  },
  {
   "cell_type": "markdown",
   "metadata": {
    "collapsed": true
   },
   "source": [
    "## 3.2 导入&预览数据\n",
    "\n",
    "数据分析工具：\n",
    "\n",
    "* Numpy\n",
    "* Pandas\n",
    "\n",
    "可视化工具：\n",
    "\n",
    "* Matplotlib"
   ]
  },
  {
   "cell_type": "code",
   "execution_count": 1,
   "metadata": {
    "collapsed": false
   },
   "outputs": [],
   "source": [
    "# 导入要引的包\n",
    "import os\n",
    "import sys\n",
    "import math\n",
    "import pandas as pd\n",
    "import numpy as np\n",
    "import csv\n",
    "import json\n",
    "import pickle\n",
    "import matplotlib.pyplot as plt\n",
    "# 内嵌画图\n",
    "%matplotlib inline"
   ]
  },
  {
   "cell_type": "markdown",
   "metadata": {
    "collapsed": true
   },
   "source": [
    "导入并预览前几条数据。数据位于 data/WineReviews/winemag-data-130k-v2.csv 这个CSV文件中，使用Pandas库中的read_csv()方法将CSV文件的内容加载到Pandas DataFrame()对象中。"
   ]
  },
  {
   "cell_type": "code",
   "execution_count": 2,
   "metadata": {
    "collapsed": false
   },
   "outputs": [
    {
     "data": {
      "text/html": [
       "<div>\n",
       "<style scoped>\n",
       "    .dataframe tbody tr th:only-of-type {\n",
       "        vertical-align: middle;\n",
       "    }\n",
       "\n",
       "    .dataframe tbody tr th {\n",
       "        vertical-align: top;\n",
       "    }\n",
       "\n",
       "    .dataframe thead th {\n",
       "        text-align: right;\n",
       "    }\n",
       "</style>\n",
       "<table border=\"1\" class=\"dataframe\">\n",
       "  <thead>\n",
       "    <tr style=\"text-align: right;\">\n",
       "      <th></th>\n",
       "      <th>country</th>\n",
       "      <th>description</th>\n",
       "      <th>designation</th>\n",
       "      <th>points</th>\n",
       "      <th>price</th>\n",
       "      <th>province</th>\n",
       "      <th>region_1</th>\n",
       "      <th>region_2</th>\n",
       "      <th>taster_name</th>\n",
       "      <th>taster_twitter_handle</th>\n",
       "      <th>title</th>\n",
       "      <th>variety</th>\n",
       "      <th>winery</th>\n",
       "    </tr>\n",
       "  </thead>\n",
       "  <tbody>\n",
       "    <tr>\n",
       "      <th>0</th>\n",
       "      <td>Italy</td>\n",
       "      <td>Aromas include tropical fruit, broom, brimston...</td>\n",
       "      <td>Vulkà Bianco</td>\n",
       "      <td>87</td>\n",
       "      <td>NaN</td>\n",
       "      <td>Sicily &amp; Sardinia</td>\n",
       "      <td>Etna</td>\n",
       "      <td>NaN</td>\n",
       "      <td>Kerin O’Keefe</td>\n",
       "      <td>@kerinokeefe</td>\n",
       "      <td>Nicosia 2013 Vulkà Bianco  (Etna)</td>\n",
       "      <td>White Blend</td>\n",
       "      <td>Nicosia</td>\n",
       "    </tr>\n",
       "    <tr>\n",
       "      <th>1</th>\n",
       "      <td>Portugal</td>\n",
       "      <td>This is ripe and fruity, a wine that is smooth...</td>\n",
       "      <td>Avidagos</td>\n",
       "      <td>87</td>\n",
       "      <td>15.0</td>\n",
       "      <td>Douro</td>\n",
       "      <td>NaN</td>\n",
       "      <td>NaN</td>\n",
       "      <td>Roger Voss</td>\n",
       "      <td>@vossroger</td>\n",
       "      <td>Quinta dos Avidagos 2011 Avidagos Red (Douro)</td>\n",
       "      <td>Portuguese Red</td>\n",
       "      <td>Quinta dos Avidagos</td>\n",
       "    </tr>\n",
       "    <tr>\n",
       "      <th>2</th>\n",
       "      <td>US</td>\n",
       "      <td>Tart and snappy, the flavors of lime flesh and...</td>\n",
       "      <td>NaN</td>\n",
       "      <td>87</td>\n",
       "      <td>14.0</td>\n",
       "      <td>Oregon</td>\n",
       "      <td>Willamette Valley</td>\n",
       "      <td>Willamette Valley</td>\n",
       "      <td>Paul Gregutt</td>\n",
       "      <td>@paulgwine</td>\n",
       "      <td>Rainstorm 2013 Pinot Gris (Willamette Valley)</td>\n",
       "      <td>Pinot Gris</td>\n",
       "      <td>Rainstorm</td>\n",
       "    </tr>\n",
       "    <tr>\n",
       "      <th>3</th>\n",
       "      <td>US</td>\n",
       "      <td>Pineapple rind, lemon pith and orange blossom ...</td>\n",
       "      <td>Reserve Late Harvest</td>\n",
       "      <td>87</td>\n",
       "      <td>13.0</td>\n",
       "      <td>Michigan</td>\n",
       "      <td>Lake Michigan Shore</td>\n",
       "      <td>NaN</td>\n",
       "      <td>Alexander Peartree</td>\n",
       "      <td>NaN</td>\n",
       "      <td>St. Julian 2013 Reserve Late Harvest Riesling ...</td>\n",
       "      <td>Riesling</td>\n",
       "      <td>St. Julian</td>\n",
       "    </tr>\n",
       "    <tr>\n",
       "      <th>4</th>\n",
       "      <td>US</td>\n",
       "      <td>Much like the regular bottling from 2012, this...</td>\n",
       "      <td>Vintner's Reserve Wild Child Block</td>\n",
       "      <td>87</td>\n",
       "      <td>65.0</td>\n",
       "      <td>Oregon</td>\n",
       "      <td>Willamette Valley</td>\n",
       "      <td>Willamette Valley</td>\n",
       "      <td>Paul Gregutt</td>\n",
       "      <td>@paulgwine</td>\n",
       "      <td>Sweet Cheeks 2012 Vintner's Reserve Wild Child...</td>\n",
       "      <td>Pinot Noir</td>\n",
       "      <td>Sweet Cheeks</td>\n",
       "    </tr>\n",
       "  </tbody>\n",
       "</table>\n",
       "</div>"
      ],
      "text/plain": [
       "    country                                        description  \\\n",
       "0     Italy  Aromas include tropical fruit, broom, brimston...   \n",
       "1  Portugal  This is ripe and fruity, a wine that is smooth...   \n",
       "2        US  Tart and snappy, the flavors of lime flesh and...   \n",
       "3        US  Pineapple rind, lemon pith and orange blossom ...   \n",
       "4        US  Much like the regular bottling from 2012, this...   \n",
       "\n",
       "                          designation  points  price           province  \\\n",
       "0                        Vulkà Bianco      87    NaN  Sicily & Sardinia   \n",
       "1                            Avidagos      87   15.0              Douro   \n",
       "2                                 NaN      87   14.0             Oregon   \n",
       "3                Reserve Late Harvest      87   13.0           Michigan   \n",
       "4  Vintner's Reserve Wild Child Block      87   65.0             Oregon   \n",
       "\n",
       "              region_1           region_2         taster_name  \\\n",
       "0                 Etna                NaN       Kerin O’Keefe   \n",
       "1                  NaN                NaN          Roger Voss   \n",
       "2    Willamette Valley  Willamette Valley        Paul Gregutt   \n",
       "3  Lake Michigan Shore                NaN  Alexander Peartree   \n",
       "4    Willamette Valley  Willamette Valley        Paul Gregutt   \n",
       "\n",
       "  taster_twitter_handle                                              title  \\\n",
       "0          @kerinokeefe                  Nicosia 2013 Vulkà Bianco  (Etna)   \n",
       "1            @vossroger      Quinta dos Avidagos 2011 Avidagos Red (Douro)   \n",
       "2           @paulgwine       Rainstorm 2013 Pinot Gris (Willamette Valley)   \n",
       "3                   NaN  St. Julian 2013 Reserve Late Harvest Riesling ...   \n",
       "4           @paulgwine   Sweet Cheeks 2012 Vintner's Reserve Wild Child...   \n",
       "\n",
       "          variety               winery  \n",
       "0     White Blend              Nicosia  \n",
       "1  Portuguese Red  Quinta dos Avidagos  \n",
       "2      Pinot Gris            Rainstorm  \n",
       "3        Riesling           St. Julian  \n",
       "4      Pinot Noir         Sweet Cheeks  "
      ]
     },
     "execution_count": 2,
     "metadata": {},
     "output_type": "execute_result"
    }
   ],
   "source": [
    "wine_data = pd.read_csv('.\\data\\WineReviews\\winemag-data-130k-v2.csv', sep=\",\", index_col = 0)\n",
    "wine_data.head(5)"
   ]
  },
  {
   "cell_type": "markdown",
   "metadata": {
    "collapsed": true
   },
   "source": [
    "查询数据记录的大小，显示由已加载数据的行、列组成的元组。"
   ]
  },
  {
   "cell_type": "code",
   "execution_count": 3,
   "metadata": {
    "collapsed": false
   },
   "outputs": [
    {
     "data": {
      "text/plain": [
       "(129971, 13)"
      ]
     },
     "execution_count": 3,
     "metadata": {},
     "output_type": "execute_result"
    }
   ],
   "source": [
    "# dataFrame shape\n",
    "wine_data.shape"
   ]
  },
  {
   "cell_type": "markdown",
   "metadata": {},
   "source": [
    "### 3.2.1 数据类型统计\n",
    "\n",
    "统计内容：列名 | 计数 | 空值 | 数据类型"
   ]
  },
  {
   "cell_type": "code",
   "execution_count": 4,
   "metadata": {
    "collapsed": false
   },
   "outputs": [
    {
     "name": "stdout",
     "output_type": "stream",
     "text": [
      "<class 'pandas.core.frame.DataFrame'>\n",
      "Int64Index: 129971 entries, 0 to 129970\n",
      "Data columns (total 13 columns):\n",
      "country                  129908 non-null object\n",
      "description              129971 non-null object\n",
      "designation              92506 non-null object\n",
      "points                   129971 non-null int64\n",
      "price                    120975 non-null float64\n",
      "province                 129908 non-null object\n",
      "region_1                 108724 non-null object\n",
      "region_2                 50511 non-null object\n",
      "taster_name              103727 non-null object\n",
      "taster_twitter_handle    98758 non-null object\n",
      "title                    129971 non-null object\n",
      "variety                  129970 non-null object\n",
      "winery                   129971 non-null object\n",
      "dtypes: float64(1), int64(1), object(11)\n",
      "memory usage: 13.9+ MB\n"
     ]
    }
   ],
   "source": [
    "wine_data.info()"
   ]
  },
  {
   "cell_type": "markdown",
   "metadata": {
    "collapsed": true
   },
   "source": [
    "查看具有空值的属性统计，允许Designation, Region_1, Region_2, Taster_name, Taster_twitter_handle有空值，但之后应当处理丢失的Prices和Country记录。"
   ]
  },
  {
   "cell_type": "markdown",
   "metadata": {},
   "source": [
    "## 3.3 数据摘要与可视化\n",
    "\n",
    "### 3.3.1 数据摘要\n",
    "\n",
    "#### 3.3.1.1 标称属性统计频数\n",
    "\n",
    "标称属性包括：Country，Designation，Province，Region_1，Region_2，Taster_name，Taster_twitter_handle，Variety，Winery"
   ]
  },
  {
   "cell_type": "markdown",
   "metadata": {},
   "source": [
    "对字符串类型的属性返回的结果描述：\n",
    "\n",
    "* count：列中值的总数\n",
    "* unique：列中唯一值的计数\n",
    "* top：列中重复次数最多的值\n",
    "* freq：列中顶部重复的次数"
   ]
  },
  {
   "cell_type": "code",
   "execution_count": 5,
   "metadata": {
    "collapsed": false
   },
   "outputs": [
    {
     "data": {
      "text/plain": [
       "count     129908\n",
       "unique        43\n",
       "top           US\n",
       "freq       54504\n",
       "Name: country, dtype: object"
      ]
     },
     "execution_count": 5,
     "metadata": {},
     "output_type": "execute_result"
    }
   ],
   "source": [
    "wine_data[\"country\"].describe()"
   ]
  },
  {
   "cell_type": "code",
   "execution_count": 6,
   "metadata": {
    "collapsed": false
   },
   "outputs": [
    {
     "data": {
      "text/plain": [
       "count       92506\n",
       "unique      37979\n",
       "top       Reserve\n",
       "freq         2009\n",
       "Name: designation, dtype: object"
      ]
     },
     "execution_count": 6,
     "metadata": {},
     "output_type": "execute_result"
    }
   ],
   "source": [
    "wine_data[\"designation\"].describe()"
   ]
  },
  {
   "cell_type": "code",
   "execution_count": 7,
   "metadata": {
    "collapsed": false
   },
   "outputs": [
    {
     "data": {
      "text/plain": [
       "count         129908\n",
       "unique           425\n",
       "top       California\n",
       "freq           36247\n",
       "Name: province, dtype: object"
      ]
     },
     "execution_count": 7,
     "metadata": {},
     "output_type": "execute_result"
    }
   ],
   "source": [
    "wine_data[\"province\"].describe()"
   ]
  },
  {
   "cell_type": "code",
   "execution_count": 8,
   "metadata": {
    "collapsed": false
   },
   "outputs": [
    {
     "data": {
      "text/plain": [
       "count          108724\n",
       "unique           1229\n",
       "top       Napa Valley\n",
       "freq             4480\n",
       "Name: region_1, dtype: object"
      ]
     },
     "execution_count": 8,
     "metadata": {},
     "output_type": "execute_result"
    }
   ],
   "source": [
    "wine_data[\"region_1\"].describe()"
   ]
  },
  {
   "cell_type": "code",
   "execution_count": 9,
   "metadata": {
    "collapsed": false
   },
   "outputs": [
    {
     "data": {
      "text/plain": [
       "count             50511\n",
       "unique               17\n",
       "top       Central Coast\n",
       "freq              11065\n",
       "Name: region_2, dtype: object"
      ]
     },
     "execution_count": 9,
     "metadata": {},
     "output_type": "execute_result"
    }
   ],
   "source": [
    "wine_data[\"region_2\"].describe()"
   ]
  },
  {
   "cell_type": "code",
   "execution_count": 10,
   "metadata": {
    "collapsed": false
   },
   "outputs": [
    {
     "data": {
      "text/plain": [
       "count         103727\n",
       "unique            19\n",
       "top       Roger Voss\n",
       "freq           25514\n",
       "Name: taster_name, dtype: object"
      ]
     },
     "execution_count": 10,
     "metadata": {},
     "output_type": "execute_result"
    }
   ],
   "source": [
    "wine_data[\"taster_name\"].describe()"
   ]
  },
  {
   "cell_type": "code",
   "execution_count": 11,
   "metadata": {
    "collapsed": false
   },
   "outputs": [
    {
     "data": {
      "text/plain": [
       "count          98758\n",
       "unique            15\n",
       "top       @vossroger\n",
       "freq           25514\n",
       "Name: taster_twitter_handle, dtype: object"
      ]
     },
     "execution_count": 11,
     "metadata": {},
     "output_type": "execute_result"
    }
   ],
   "source": [
    "wine_data[\"taster_twitter_handle\"].describe()"
   ]
  },
  {
   "cell_type": "code",
   "execution_count": 12,
   "metadata": {
    "collapsed": false
   },
   "outputs": [
    {
     "data": {
      "text/plain": [
       "count                                                129971\n",
       "unique                                               118840\n",
       "top       Gloria Ferrer NV Sonoma Brut Sparkling (Sonoma...\n",
       "freq                                                     11\n",
       "Name: title, dtype: object"
      ]
     },
     "execution_count": 12,
     "metadata": {},
     "output_type": "execute_result"
    }
   ],
   "source": [
    "wine_data[\"title\"].describe()"
   ]
  },
  {
   "cell_type": "code",
   "execution_count": 13,
   "metadata": {
    "collapsed": false
   },
   "outputs": [
    {
     "data": {
      "text/plain": [
       "count         129970\n",
       "unique           707\n",
       "top       Pinot Noir\n",
       "freq           13272\n",
       "Name: variety, dtype: object"
      ]
     },
     "execution_count": 13,
     "metadata": {},
     "output_type": "execute_result"
    }
   ],
   "source": [
    "wine_data[\"variety\"].describe()"
   ]
  },
  {
   "cell_type": "code",
   "execution_count": 14,
   "metadata": {
    "collapsed": false
   },
   "outputs": [
    {
     "data": {
      "text/plain": [
       "count                 129971\n",
       "unique                 16757\n",
       "top       Wines & Winemakers\n",
       "freq                     222\n",
       "Name: winery, dtype: object"
      ]
     },
     "execution_count": 14,
     "metadata": {},
     "output_type": "execute_result"
    }
   ],
   "source": [
    "wine_data[\"winery\"].describe()"
   ]
  },
  {
   "cell_type": "markdown",
   "metadata": {},
   "source": [
    "给出每个可能取值的频数，各属性之间以下划线隔开。"
   ]
  },
  {
   "cell_type": "code",
   "execution_count": 15,
   "metadata": {
    "collapsed": false
   },
   "outputs": [
    {
     "name": "stdout",
     "output_type": "stream",
     "text": [
      "US                        54504\n",
      "France                    22093\n",
      "Italy                     19540\n",
      "Spain                      6645\n",
      "Portugal                   5691\n",
      "Chile                      4472\n",
      "Argentina                  3800\n",
      "Austria                    3345\n",
      "Australia                  2329\n",
      "Germany                    2165\n",
      "New Zealand                1419\n",
      "South Africa               1401\n",
      "Israel                      505\n",
      "Greece                      466\n",
      "Canada                      257\n",
      "Hungary                     146\n",
      "Bulgaria                    141\n",
      "Romania                     120\n",
      "Uruguay                     109\n",
      "Turkey                       90\n",
      "Slovenia                     87\n",
      "Georgia                      86\n",
      "England                      74\n",
      "Croatia                      73\n",
      "Mexico                       70\n",
      "Moldova                      59\n",
      "Brazil                       52\n",
      "Lebanon                      35\n",
      "Morocco                      28\n",
      "Peru                         16\n",
      "Ukraine                      14\n",
      "Macedonia                    12\n",
      "Serbia                       12\n",
      "Czech Republic               12\n",
      "Cyprus                       11\n",
      "India                         9\n",
      "Switzerland                   7\n",
      "Luxembourg                    6\n",
      "Armenia                       2\n",
      "Bosnia and Herzegovina        2\n",
      "Slovakia                      1\n",
      "China                         1\n",
      "Egypt                         1\n",
      "Name: country, dtype: int64\n",
      "------------------------------------------------------------\n",
      "Reserve                                                  2009\n",
      "Estate                                                   1322\n",
      "Reserva                                                  1259\n",
      "Riserva                                                   698\n",
      "Estate Grown                                              621\n",
      "Brut                                                      513\n",
      "Dry                                                       413\n",
      "Barrel sample                                             375\n",
      "Crianza                                                   343\n",
      "Estate Bottled                                            342\n",
      "Vieilles Vignes                                           308\n",
      "Brut Rosé                                                 276\n",
      "Gran Reserva                                              261\n",
      "Barrel Sample                                             252\n",
      "Tradition                                                 238\n",
      "Old Vine                                                  221\n",
      "Extra Dry                                                 204\n",
      "Rosé of                                                   172\n",
      "Rosé                                                      166\n",
      "Réserve                                                   153\n",
      "Single Vineyard                                           131\n",
      "Vintage                                                   128\n",
      "Estate Reserve                                            125\n",
      "Bien Nacido Vineyard                                      120\n",
      "Late Harvest                                              112\n",
      "Classic                                                   111\n",
      "Unoaked                                                   110\n",
      "Barrel Select                                             106\n",
      "Late Bottled Vintage                                       99\n",
      "Blanc de Blancs Brut                                       96\n",
      "                                                         ... \n",
      "Red-On-Red                                                  1\n",
      "Napanook Vyd                                                1\n",
      "V Estate                                                    1\n",
      "Presents Bianco                                             1\n",
      "Lerchenberg                                                 1\n",
      "Spatlëse Trocken                                            1\n",
      "Grande Cuvée Hubert de Boüard                               1\n",
      "Touriga Nacional-Merlot                                     1\n",
      "Petit Vallons                                               1\n",
      "Tradition Extra Brut                                        1\n",
      "Edición Limitada Gran Reserva de Los Andes                  1\n",
      "Nik Weis Schodener Saarfeilser Marienberg Grosse Lage       1\n",
      "Geyerumriss                                                 1\n",
      "Bin Select 513                                              1\n",
      "Domaine Long-Depaquit Vaudésirs Grand Cru                   1\n",
      "Grésy                                                       1\n",
      "Synergy Classic                                             1\n",
      "The Full Nelson                                             1\n",
      "Ried Bruck Federspiel                                       1\n",
      "Richmond Vineyard                                           1\n",
      "M Trignon                                                   1\n",
      "Apollo's Folly Rosé of                                      1\n",
      "Ayni                                                        1\n",
      "Mangan Malbec-Petit Verdot-Merlot                           1\n",
      "Selection Federspiel                                        1\n",
      "Emeri Sparkling Sauvignon Blanc                             1\n",
      "Samuele                                                     1\n",
      "Riserva Tempo                                               1\n",
      "Estate Reserve Honor Roll                                   1\n",
      "Séchet Premier Cru                                          1\n",
      "Name: designation, Length: 37979, dtype: int64\n",
      "------------------------------------------------------------\n",
      "California             36247\n",
      "Washington              8639\n",
      "Bordeaux                5941\n",
      "Tuscany                 5897\n",
      "Oregon                  5373\n",
      "Burgundy                3980\n",
      "Northern Spain          3851\n",
      "Piedmont                3729\n",
      "Mendoza Province        3264\n",
      "Veneto                  2716\n",
      "New York                2688\n",
      "Alsace                  2440\n",
      "Northeastern Italy      2138\n",
      "Loire Valley            1856\n",
      "Sicily & Sardinia       1797\n",
      "Champagne               1613\n",
      "Southwest France        1503\n",
      "Southern Italy          1349\n",
      "South Australia         1349\n",
      "Provence                1346\n",
      "Douro                   1281\n",
      "Central Italy           1233\n",
      "Catalonia               1164\n",
      "Rhône Valley            1081\n",
      "Beaujolais              1044\n",
      "Mosel                   1039\n",
      "Alentejano               937\n",
      "Colchagua Valley         830\n",
      "Marlborough              798\n",
      "Virginia                 777\n",
      "                       ...  \n",
      "China                      1\n",
      "Pocerina                   1\n",
      "Markopoulo                 1\n",
      "Ceres Plateau              1\n",
      "Monemvasia                 1\n",
      "Muscat of Patras           1\n",
      "Elazığ-Diyarbakir          1\n",
      "Serra do Sudeste           1\n",
      "Dolenjska                  1\n",
      "Corinthia                  1\n",
      "Piekenierskloof            1\n",
      "Vinho da Mesa              1\n",
      "Paardeberg                 1\n",
      "Arcadia                    1\n",
      "Breede River Valley        1\n",
      "Thraki                     1\n",
      "Central Greece             1\n",
      "Dealurile Hușilor          1\n",
      "Kentucky                   1\n",
      "Beotia                     1\n",
      "Croatia                    1\n",
      "Kathikas                   1\n",
      "Cape Agulhas               1\n",
      "Egypt                      1\n",
      "Table wine                 1\n",
      "Dingač                     1\n",
      "Rhode Island               1\n",
      "Canada Other               1\n",
      "Vlootenburg                1\n",
      "Urla-Thrace                1\n",
      "Name: province, Length: 425, dtype: int64\n",
      "------------------------------------------------------------\n",
      "Napa Valley                                          4480\n",
      "Columbia Valley (WA)                                 4124\n",
      "Russian River Valley                                 3091\n",
      "California                                           2629\n",
      "Paso Robles                                          2350\n",
      "Mendoza                                              2301\n",
      "Willamette Valley                                    2301\n",
      "Alsace                                               2163\n",
      "Champagne                                            1613\n",
      "Barolo                                               1599\n",
      "Finger Lakes                                         1565\n",
      "Sonoma Coast                                         1474\n",
      "Brunello di Montalcino                               1470\n",
      "Rioja                                                1469\n",
      "Sonoma County                                        1246\n",
      "Toscana                                              1197\n",
      "Walla Walla Valley (WA)                              1066\n",
      "Chianti Classico                                     1062\n",
      "Santa Barbara County                                 1000\n",
      "Carneros                                              999\n",
      "Yakima Valley                                         997\n",
      "Sta. Rita Hills                                       975\n",
      "Dry Creek Valley                                      939\n",
      "Sicilia                                               925\n",
      "Côtes de Provence                                     859\n",
      "Santa Ynez Valley                                     812\n",
      "Santa Lucia Highlands                                 806\n",
      "Lodi                                                  803\n",
      "Barbaresco                                            794\n",
      "Alexander Valley                                      784\n",
      "                                                     ... \n",
      "Sonoma-Napa-Lake                                        1\n",
      "Coteaux d'Ancenis                                       1\n",
      "Chignin-Bergeron                                        1\n",
      "Saint-Chinian-Roquebrun                                 1\n",
      "Vin de Pays de Montferrand                              1\n",
      "Henty                                                   1\n",
      "Southern Highlands                                      1\n",
      "Corton Perrières                                        1\n",
      "Medrano                                                 1\n",
      "Tarantino                                               1\n",
      "Langhorne Creek-Limestone Coast                         1\n",
      "Gippsland                                               1\n",
      "Mitterberg                                              1\n",
      "Côtes du Roussillon Villages Caramany                   1\n",
      "Sonoma-Mendocino                                        1\n",
      "Vino de la Tierra Ribera del Gállego-Cinco Villas       1\n",
      "Monterey-San Luis Obispo-Santa Barbara                  1\n",
      "Corton Grèves                                           1\n",
      "Cabernet de Saumur                                      1\n",
      "Arribes del Duero                                       1\n",
      "Moulis                                                  1\n",
      "Sonoma-Santa Barbara-Mendocino                          1\n",
      "Clare Valley-Eden Valley                                1\n",
      "Custoza Superiore                                       1\n",
      "Gutturnio Classico Superiore                            1\n",
      "Monterey County-Napa County                             1\n",
      "Coda di Volpe d'Irpinia                                 1\n",
      "Sonoma County-Santa Barbara County                      1\n",
      "Moscato di Pantelleria                                  1\n",
      "San Martino della Battaglia                             1\n",
      "Name: region_1, Length: 1229, dtype: int64\n",
      "------------------------------------------------------------\n",
      "Central Coast        11065\n",
      "Sonoma                9028\n",
      "Columbia Valley       8103\n",
      "Napa                  6814\n",
      "Willamette Valley     3423\n",
      "California Other      2663\n",
      "Finger Lakes          1777\n",
      "Sierra Foothills      1462\n",
      "Napa-Sonoma           1169\n",
      "Central Valley        1062\n",
      "Southern Oregon        917\n",
      "Oregon Other           727\n",
      "Long Island            680\n",
      "North Coast            584\n",
      "Washington Other       534\n",
      "South Coast            272\n",
      "New York Other         231\n",
      "Name: region_2, dtype: int64\n",
      "------------------------------------------------------------\n",
      "Roger Voss            25514\n",
      "Michael Schachner     15134\n",
      "Kerin O’Keefe         10776\n",
      "Virginie Boone         9537\n",
      "Paul Gregutt           9532\n",
      "Matt Kettmann          6332\n",
      "Joe Czerwinski         5147\n",
      "Sean P. Sullivan       4966\n",
      "Anna Lee C. Iijima     4415\n",
      "Jim Gordon             4177\n",
      "Anne Krebiehl MW       3685\n",
      "Lauren Buzzeo          1835\n",
      "Susan Kostrzewa        1085\n",
      "Mike DeSimone           514\n",
      "Jeff Jenssen            491\n",
      "Alexander Peartree      415\n",
      "Carrie Dykes            139\n",
      "Fiona Adams              27\n",
      "Christina Pickard         6\n",
      "Name: taster_name, dtype: int64\n",
      "------------------------------------------------------------\n",
      "@vossroger          25514\n",
      "@wineschach         15134\n",
      "@kerinokeefe        10776\n",
      "@vboone              9537\n",
      "@paulgwine           9532\n",
      "@mattkettmann        6332\n",
      "@JoeCz               5147\n",
      "@wawinereport        4966\n",
      "@gordone_cellars     4177\n",
      "@AnneInVino          3685\n",
      "@laurbuzz            1835\n",
      "@suskostrzewa        1085\n",
      "@worldwineguys       1005\n",
      "@bkfiona               27\n",
      "@winewchristina         6\n",
      "Name: taster_twitter_handle, dtype: int64\n",
      "------------------------------------------------------------\n",
      "Pinot Noir                        13272\n",
      "Chardonnay                        11753\n",
      "Cabernet Sauvignon                 9472\n",
      "Red Blend                          8946\n",
      "Bordeaux-style Red Blend           6915\n",
      "Riesling                           5189\n",
      "Sauvignon Blanc                    4967\n",
      "Syrah                              4142\n",
      "Rosé                               3564\n",
      "Merlot                             3102\n",
      "Nebbiolo                           2804\n",
      "Zinfandel                          2714\n",
      "Sangiovese                         2707\n",
      "Malbec                             2652\n",
      "Portuguese Red                     2466\n",
      "White Blend                        2360\n",
      "Sparkling Blend                    2153\n",
      "Tempranillo                        1810\n",
      "Rhône-style Red Blend              1471\n",
      "Pinot Gris                         1455\n",
      "Champagne Blend                    1396\n",
      "Cabernet Franc                     1353\n",
      "Grüner Veltliner                   1345\n",
      "Portuguese White                   1159\n",
      "Bordeaux-style White Blend         1066\n",
      "Pinot Grigio                       1052\n",
      "Gamay                              1025\n",
      "Gewürztraminer                     1012\n",
      "Viognier                            996\n",
      "Shiraz                              836\n",
      "                                  ...  \n",
      "Orangetraube                          1\n",
      "Tintilia                              1\n",
      "Merlot-Grenache                       1\n",
      "Ramisco                               1\n",
      "Misket                                1\n",
      "Moschofilero-Chardonnay               1\n",
      "Folle Blanche                         1\n",
      "Ryzlink Rýnský                        1\n",
      "Macabeo-Moscatel                      1\n",
      "Silvaner-Traminer                     1\n",
      "Parraleta                             1\n",
      "Doña Blanca                           1\n",
      "Vidadillo                             1\n",
      "Picapoll                              1\n",
      "Chardonel                             1\n",
      "Sauvignon Blanc-Sauvignon Gris        1\n",
      "Terrantez                             1\n",
      "Favorita                              1\n",
      "Pinot Blanc-Viognier                  1\n",
      "Tsolikouri                            1\n",
      "Cabernet-Malbec                       1\n",
      "Vital                                 1\n",
      "Prunelard                             1\n",
      "Molinara                              1\n",
      "Albanello                             1\n",
      "Espadeiro                             1\n",
      "Cococciola                            1\n",
      "Centesimino                           1\n",
      "Tinta Negra Mole                      1\n",
      "Blatina                               1\n",
      "Name: variety, Length: 707, dtype: int64\n",
      "------------------------------------------------------------\n",
      "Wines & Winemakers            222\n",
      "Testarossa                    218\n",
      "DFJ Vinhos                    215\n",
      "Williams Selyem               211\n",
      "Louis Latour                  199\n",
      "Georges Duboeuf               196\n",
      "Chateau Ste. Michelle         194\n",
      "Concha y Toro                 164\n",
      "Columbia Crest                159\n",
      "Kendall-Jackson               130\n",
      "Siduri                        126\n",
      "Gary Farrell                  125\n",
      "Lynmar                        118\n",
      "Albert Bichot                 117\n",
      "Montes                        117\n",
      "Casa Santos Lima              113\n",
      "Undurraga                     113\n",
      "Trapiche                      113\n",
      "Jean-Luc and Paul Aegerter    113\n",
      "Robert Mondavi                112\n",
      "Santa Ema                     112\n",
      "Chanson Père et Fils          109\n",
      "Fess Parker                   108\n",
      "V. Sattui                     107\n",
      "Iron Horse                    106\n",
      "Foxen                         105\n",
      "Louis Jadot                   104\n",
      "Chehalem                      102\n",
      "Maryhill                      102\n",
      "Feudi di San Gregorio         102\n",
      "                             ... \n",
      "Viberti Giovanni                1\n",
      "Herding Cats                    1\n",
      "Château La Bourrée              1\n",
      "Snake and Herring               1\n",
      "Reinhold Haart                  1\n",
      "Andrus                          1\n",
      "Varda                           1\n",
      "Viña Pargua                     1\n",
      "Kunin                           1\n",
      "Marko                           1\n",
      "Firefall                        1\n",
      "Celler Bartolomé                1\n",
      "Belmondo                        1\n",
      "Le Petit Cheval                 1\n",
      "Schermeister                    1\n",
      "Domaine Royal de Jarras         1\n",
      "Château Magneau                 1\n",
      "Ernst Triebaumer                1\n",
      "Château Haut Nadeau             1\n",
      "Hudson Shah                     1\n",
      "Château Saint Baulery           1\n",
      "Lone Canary                     1\n",
      "Anterra                         1\n",
      "Château la Gurgue               1\n",
      "Horned Toad                     1\n",
      "Tara Bella                      1\n",
      "Château Gautoul                 1\n",
      "Le Ginestre                     1\n",
      "Abiouness                       1\n",
      "Manookian                       1\n",
      "Name: winery, Length: 16757, dtype: int64\n",
      "------------------------------------------------------------\n"
     ]
    }
   ],
   "source": [
    "# 总览\n",
    "nom_attribute = ['country','designation','province','region_1','region_2','taster_name','taster_twitter_handle','variety','winery']\n",
    "for tmp in nom_attribute:\n",
    "    print(wine_data[tmp].value_counts())\n",
    "    print('-' * 60)"
   ]
  },
  {
   "cell_type": "markdown",
   "metadata": {},
   "source": [
    "从以上内容可以关注到，在该数据集中：\n",
    "\n",
    "* 葡萄酒产出地中，美国加州占了很大比重。（这有悖于法国和意大利是葡萄酒天堂的常识，也许是因为美国人收集了很多国内的数据集）\n",
    "* 出现最多的酿酒厂名为Wines & Winemakers\n",
    "* 品酒最多的品酒师名为Roger Voss，他的Twitter账号是@vossroger"
   ]
  },
  {
   "cell_type": "markdown",
   "metadata": {},
   "source": [
    "#### 3.3.1.2 数值属性计算五数概括和缺失值\n",
    "\n",
    "数值属性有：Points和Price，对数值类型的属性返回的结果描述：\n",
    "\n",
    "* count：列中值的总数\n",
    "* mean：列中唯一值的计数\n",
    "* std：该列中重复次数最多的值\n",
    "* min：列中最小值\n",
    "* 25%：第一个四分位数的值\n",
    "* 50%：第二个四分位数的值\n",
    "* 75%：第三个四分位数的值\n",
    "* max：列中的最大值"
   ]
  },
  {
   "cell_type": "code",
   "execution_count": 16,
   "metadata": {
    "collapsed": false
   },
   "outputs": [
    {
     "data": {
      "text/plain": [
       "count    129971.000000\n",
       "mean         88.447138\n",
       "std           3.039730\n",
       "min          80.000000\n",
       "25%          86.000000\n",
       "50%          88.000000\n",
       "75%          91.000000\n",
       "max         100.000000\n",
       "Name: points, dtype: float64"
      ]
     },
     "execution_count": 16,
     "metadata": {},
     "output_type": "execute_result"
    }
   ],
   "source": [
    "wine_data[\"points\"].describe()"
   ]
  },
  {
   "cell_type": "code",
   "execution_count": 17,
   "metadata": {
    "collapsed": false
   },
   "outputs": [
    {
     "data": {
      "text/plain": [
       "count    120975.000000\n",
       "mean         35.363389\n",
       "std          41.022218\n",
       "min           4.000000\n",
       "25%          17.000000\n",
       "50%          25.000000\n",
       "75%          42.000000\n",
       "max        3300.000000\n",
       "Name: price, dtype: float64"
      ]
     },
     "execution_count": 17,
     "metadata": {},
     "output_type": "execute_result"
    }
   ],
   "source": [
    "wine_data[\"price\"].describe()"
   ]
  },
  {
   "cell_type": "markdown",
   "metadata": {
    "collapsed": true
   },
   "source": [
    "数值数据包括：Points，Price；五数概括分别如下：\n",
    "* Points：最大值100，最小值80，Q1值86，中位数88，Q3值91\n",
    "* Price：最大值3300，最小值4，Q1值17，中位数25，Q3值42"
   ]
  },
  {
   "cell_type": "markdown",
   "metadata": {
    "collapsed": true
   },
   "source": [
    "### 3.3.2 数据可视化"
   ]
  },
  {
   "cell_type": "markdown",
   "metadata": {
    "collapsed": true
   },
   "source": [
    "首先对于Points属性进行可视化，检查数据分布和离群点。"
   ]
  },
  {
   "cell_type": "code",
   "execution_count": 18,
   "metadata": {
    "collapsed": false
   },
   "outputs": [
    {
     "name": "stderr",
     "output_type": "stream",
     "text": [
      "D:\\tools\\Anaconda\\lib\\site-packages\\ipykernel\\__main__.py:2: FutureWarning: The pandas.core.datetools module is deprecated and will be removed in a future version. Please use the pandas.tseries module instead.\n",
      "  from ipykernel import kernelapp as app\n"
     ]
    }
   ],
   "source": [
    "from scipy import stats\n",
    "from pandas.core import datetools\n",
    "from ipykernel import kernelapp as app\n",
    "import statsmodels.api as sm"
   ]
  },
  {
   "cell_type": "code",
   "execution_count": 19,
   "metadata": {
    "collapsed": false
   },
   "outputs": [
    {
     "data": {
      "image/png": "[encoded data removed]",
      "text/plain": [
       "<Figure size 432x288 with 1 Axes>"
      ]
     },
     "metadata": {},
     "output_type": "display_data"
    },
    {
     "data": {
      "image/png": "[encoded data removed]",
      "text/plain": [
       "<Figure size 432x288 with 1 Axes>"
      ]
     },
     "metadata": {},
     "output_type": "display_data"
    },
    {
     "data": {
      "text/plain": [
       "<matplotlib.axes._subplots.AxesSubplot at 0x2ae111110f0>"
      ]
     },
     "execution_count": 19,
     "metadata": {},
     "output_type": "execute_result"
    },
    {
     "data": {
      "image/png": "[encoded data removed]",
      "text/plain": [
       "<Figure size 432x288 with 1 Axes>"
      ]
     },
     "metadata": {},
     "output_type": "display_data"
    }
   ],
   "source": [
    "wine_data['points'].hist()\n",
    "\n",
    "points = wine_data['points'].dropna()\n",
    "points = points.apply(lambda x: x + np.random.normal())\n",
    "\n",
    "fig = plt.figure()\n",
    "res = stats.probplot(points, plot=plt)\n",
    "plt.show()\n",
    "\n",
    "wine_data.boxplot(column=['points'])"
   ]
  },
  {
   "cell_type": "markdown",
   "metadata": {
    "collapsed": true
   },
   "source": [
    "发现有较少的离群点，拟合时基本符合正态分布。\n",
    "\n",
    "其次再对于Price属性进行可视化。"
   ]
  },
  {
   "cell_type": "code",
   "execution_count": 20,
   "metadata": {
    "collapsed": false
   },
   "outputs": [
    {
     "data": {
      "image/png": "[encoded data removed]",
      "text/plain": [
       "<Figure size 432x288 with 1 Axes>"
      ]
     },
     "metadata": {},
     "output_type": "display_data"
    },
    {
     "data": {
      "image/png": "[encoded data removed]",
      "text/plain": [
       "<Figure size 432x288 with 1 Axes>"
      ]
     },
     "metadata": {},
     "output_type": "display_data"
    },
    {
     "data": {
      "text/plain": [
       "<matplotlib.axes._subplots.AxesSubplot at 0x2ae11136438>"
      ]
     },
     "execution_count": 20,
     "metadata": {},
     "output_type": "execute_result"
    },
    {
     "data": {
      "image/png": "[encoded data removed]",
      "text/plain": [
       "<Figure size 432x288 with 1 Axes>"
      ]
     },
     "metadata": {},
     "output_type": "display_data"
    }
   ],
   "source": [
    "wine_data['price'].hist()\n",
    "\n",
    "price = wine_data['price'].dropna()\n",
    "price = price.apply(lambda x: x + np.random.normal())\n",
    "\n",
    "fig = plt.figure()\n",
    "res = stats.probplot(price, plot=plt)\n",
    "plt.show()\n",
    "\n",
    "wine_data.boxplot(column=['price'])"
   ]
  },
  {
   "cell_type": "markdown",
   "metadata": {},
   "source": [
    "从图中可以观察到，酒的价格多集中在低价区域，存在着较多的离群点，但仍基本符合正态分布。"
   ]
  },
  {
   "cell_type": "markdown",
   "metadata": {},
   "source": [
    "接下来可以绘图查看每个国家的葡萄酒均价："
   ]
  },
  {
   "cell_type": "code",
   "execution_count": 21,
   "metadata": {
    "collapsed": false
   },
   "outputs": [
    {
     "data": {
      "image/png": "[encoded data removed]",
      "text/plain": [
       "<Figure size 1008x432 with 1 Axes>"
      ]
     },
     "metadata": {},
     "output_type": "display_data"
    }
   ],
   "source": [
    "fig, ax = plt.subplots(figsize=(14, 6))\n",
    "\n",
    "wine_data.groupby(wine_data['country'])['price'].mean().plot.bar()\n",
    "mean_price = wine_data[\"price\"].mean(0)\n",
    "wine_data[\"price\"].fillna(mean_price)\n",
    "\n",
    "ax.set_xlabel('Country')\n",
    "ax.set_ylabel('Mean Price')\n",
    "\n",
    "ax.set_title(\"Mean Price per Country\")\n",
    "ax.legend(bbox_to_anchor=(1, 1), loc=2, title='Price')\n",
    "\n",
    "fig.tight_layout()"
   ]
  },
  {
   "cell_type": "markdown",
   "metadata": {
    "collapsed": true
   },
   "source": [
    "## 3.4 数据缺失处理\n",
    "\n",
    "### 3.4.1 总览数据缺失\n",
    "\n",
    "接下来处理NaN和np.null的值，且计算缺失的百分比。\n",
    "\n",
    "首先，查看列的缺失数据。（存在缺失为True）"
   ]
  },
  {
   "cell_type": "code",
   "execution_count": 22,
   "metadata": {
    "collapsed": false,
    "scrolled": true
   },
   "outputs": [
    {
     "data": {
      "text/plain": [
       "country                   True\n",
       "description              False\n",
       "designation               True\n",
       "points                   False\n",
       "price                     True\n",
       "province                  True\n",
       "region_1                  True\n",
       "region_2                  True\n",
       "taster_name               True\n",
       "taster_twitter_handle     True\n",
       "title                    False\n",
       "variety                   True\n",
       "winery                   False\n",
       "dtype: bool"
      ]
     },
     "execution_count": 22,
     "metadata": {},
     "output_type": "execute_result"
    }
   ],
   "source": [
    "wine_data.isnull().any()"
   ]
  },
  {
   "cell_type": "markdown",
   "metadata": {
    "collapsed": true
   },
   "source": [
    "以下这些列存在数据缺失：\n",
    "\n",
    "* country\n",
    "* designation\n",
    "* price\n",
    "* province\n",
    "* region_1\n",
    "* region_2\n",
    "* taster_name\n",
    "* taster_twitter_handle\n",
    "* variety\n",
    "\n",
    "接下来观察每个列中缺失值的总和。"
   ]
  },
  {
   "cell_type": "code",
   "execution_count": 23,
   "metadata": {
    "collapsed": false
   },
   "outputs": [
    {
     "data": {
      "text/plain": [
       "country                     63\n",
       "description                  0\n",
       "designation              37465\n",
       "points                       0\n",
       "price                     8996\n",
       "province                    63\n",
       "region_1                 21247\n",
       "region_2                 79460\n",
       "taster_name              26244\n",
       "taster_twitter_handle    31213\n",
       "title                        0\n",
       "variety                      1\n",
       "winery                       0\n",
       "dtype: int64"
      ]
     },
     "execution_count": 23,
     "metadata": {},
     "output_type": "execute_result"
    }
   ],
   "source": [
    "wine_data.isnull().sum()"
   ]
  },
  {
   "cell_type": "markdown",
   "metadata": {
    "collapsed": true
   },
   "source": [
    "在这些列中，需要处理丢失的Country和Price记录，其他的列可以允许存在缺失值。"
   ]
  },
  {
   "cell_type": "markdown",
   "metadata": {},
   "source": [
    "### 3.4.2 数值数据的缺失处理\n",
    "\n",
    "删除Points缺失值前的数据可视化"
   ]
  },
  {
   "cell_type": "code",
   "execution_count": 24,
   "metadata": {
    "collapsed": false
   },
   "outputs": [
    {
     "data": {
      "text/plain": [
       "<matplotlib.axes._subplots.AxesSubplot at 0x2ae0e805630>"
      ]
     },
     "execution_count": 24,
     "metadata": {},
     "output_type": "execute_result"
    },
    {
     "data": {
      "image/png": "[encoded data removed]",
      "text/plain": [
       "<Figure size 432x288 with 1 Axes>"
      ]
     },
     "metadata": {},
     "output_type": "display_data"
    }
   ],
   "source": [
    "wine_data['points'].hist()"
   ]
  },
  {
   "cell_type": "markdown",
   "metadata": {},
   "source": [
    "删除Price缺失值前的数据可视化"
   ]
  },
  {
   "cell_type": "code",
   "execution_count": 25,
   "metadata": {
    "collapsed": false
   },
   "outputs": [
    {
     "data": {
      "text/plain": [
       "<matplotlib.axes._subplots.AxesSubplot at 0x2ae11261e80>"
      ]
     },
     "execution_count": 25,
     "metadata": {},
     "output_type": "execute_result"
    },
    {
     "data": {
      "image/png": "[encoded data removed]",
      "text/plain": [
       "<Figure size 432x288 with 1 Axes>"
      ]
     },
     "metadata": {},
     "output_type": "display_data"
    }
   ],
   "source": [
    "wine_data['price'].hist()"
   ]
  },
  {
   "cell_type": "markdown",
   "metadata": {},
   "source": [
    "#### 3.4.2.1 剔除缺失部分"
   ]
  },
  {
   "cell_type": "code",
   "execution_count": 26,
   "metadata": {
    "collapsed": true
   },
   "outputs": [],
   "source": [
    "del_wine = wine_data.dropna()"
   ]
  },
  {
   "cell_type": "markdown",
   "metadata": {},
   "source": [
    "删除Points缺失值后的数据可视化"
   ]
  },
  {
   "cell_type": "code",
   "execution_count": 27,
   "metadata": {
    "collapsed": false
   },
   "outputs": [
    {
     "data": {
      "text/plain": [
       "<matplotlib.axes._subplots.AxesSubplot at 0x2ae1129b358>"
      ]
     },
     "execution_count": 27,
     "metadata": {},
     "output_type": "execute_result"
    },
    {
     "data": {
      "image/png": "[encoded data removed]",
      "text/plain": [
       "<Figure size 432x288 with 1 Axes>"
      ]
     },
     "metadata": {},
     "output_type": "display_data"
    }
   ],
   "source": [
    "del_wine['points'].hist()"
   ]
  },
  {
   "cell_type": "markdown",
   "metadata": {},
   "source": [
    "删除Price缺失值后的数据可视化"
   ]
  },
  {
   "cell_type": "code",
   "execution_count": 28,
   "metadata": {
    "collapsed": false
   },
   "outputs": [
    {
     "data": {
      "text/plain": [
       "<matplotlib.axes._subplots.AxesSubplot at 0x2ae112e0f28>"
      ]
     },
     "execution_count": 28,
     "metadata": {},
     "output_type": "execute_result"
    },
    {
     "data": {
      "image/png": "[encoded data removed]",
      "text/plain": [
       "<Figure size 432x288 with 1 Axes>"
      ]
     },
     "metadata": {},
     "output_type": "display_data"
    }
   ],
   "source": [
    "del_wine['price'].hist()"
   ]
  },
  {
   "cell_type": "markdown",
   "metadata": {},
   "source": [
    "#### 3.4.2.2 用最高频率值来填补缺失值"
   ]
  },
  {
   "cell_type": "code",
   "execution_count": 29,
   "metadata": {
    "collapsed": true
   },
   "outputs": [],
   "source": [
    "fill_data = wine_data.fillna({'points': wine_data['points'].mode().item(), 'price': wine_data['price'].mode().item()})"
   ]
  },
  {
   "cell_type": "markdown",
   "metadata": {},
   "source": [
    "填充Price缺失值后的数据可视化"
   ]
  },
  {
   "cell_type": "code",
   "execution_count": 30,
   "metadata": {
    "collapsed": false
   },
   "outputs": [
    {
     "data": {
      "text/plain": [
       "<matplotlib.axes._subplots.AxesSubplot at 0x2ae108a88d0>"
      ]
     },
     "execution_count": 30,
     "metadata": {},
     "output_type": "execute_result"
    },
    {
     "data": {
      "image/png": "[encoded data removed]",
      "text/plain": [
       "<Figure size 432x288 with 1 Axes>"
      ]
     },
     "metadata": {},
     "output_type": "display_data"
    }
   ],
   "source": [
    "fill_data['points'].hist()"
   ]
  },
  {
   "cell_type": "code",
   "execution_count": 31,
   "metadata": {
    "collapsed": false
   },
   "outputs": [
    {
     "data": {
      "text/plain": [
       "<matplotlib.axes._subplots.AxesSubplot at 0x2ae110fca90>"
      ]
     },
     "execution_count": 31,
     "metadata": {},
     "output_type": "execute_result"
    },
    {
     "data": {
      "image/png": "[encoded data removed]",
      "text/plain": [
       "<Figure size 432x288 with 1 Axes>"
      ]
     },
     "metadata": {},
     "output_type": "display_data"
    }
   ],
   "source": [
    "fill_data['price'].hist()"
   ]
  },
  {
   "cell_type": "markdown",
   "metadata": {},
   "source": [
    "#### 3.4.2.3 通过属性的相关关系来填补缺失值\n",
    "\n",
    "第一步，计算属性间的相关系数。"
   ]
  },
  {
   "cell_type": "code",
   "execution_count": 32,
   "metadata": {
    "collapsed": false
   },
   "outputs": [
    {
     "name": "stdout",
     "output_type": "stream",
     "text": [
      "          points     price\n",
      "points  1.000000  0.416167\n",
      "price   0.416167  1.000000\n"
     ]
    }
   ],
   "source": [
    "x = wine_data.corr()\n",
    "print(x)"
   ]
  },
  {
   "cell_type": "markdown",
   "metadata": {},
   "source": [
    "Points没有缺失数据，可根据已有的Points和Price数据，得到它们的回归方程，利用回归方程计算缺失值。"
   ]
  },
  {
   "cell_type": "code",
   "execution_count": 33,
   "metadata": {
    "collapsed": false
   },
   "outputs": [
    {
     "data": {
      "text/plain": [
       "array([[<matplotlib.axes._subplots.AxesSubplot object at 0x000002AE108E7160>,\n",
       "        <matplotlib.axes._subplots.AxesSubplot object at 0x000002AE108FA6D8>]],\n",
       "      dtype=object)"
      ]
     },
     "execution_count": 33,
     "metadata": {},
     "output_type": "execute_result"
    },
    {
     "data": {
      "image/png": "[encoded data removed]",
      "text/plain": [
       "<Figure size 432x288 with 2 Axes>"
      ]
     },
     "metadata": {},
     "output_type": "display_data"
    }
   ],
   "source": [
    "points = wine_data['points']\n",
    "price = wine_data['price']\n",
    "model = sm.OLS(price,points).fit()\n",
    "new_data = wine_data\n",
    "for i in range(len(new_data)):\n",
    "    if(np.isnan(new_data['price'][i])):\n",
    "        new_data.loc[i,'price'] = model.predict(new_data['points'][i])\n",
    "number_data = ['points','price']\n",
    "new_data.hist()"
   ]
  },
  {
   "cell_type": "code",
   "execution_count": 34,
   "metadata": {
    "collapsed": false
   },
   "outputs": [
    {
     "data": {
      "text/html": [
       "<div>\n",
       "<style scoped>\n",
       "    .dataframe tbody tr th:only-of-type {\n",
       "        vertical-align: middle;\n",
       "    }\n",
       "\n",
       "    .dataframe tbody tr th {\n",
       "        vertical-align: top;\n",
       "    }\n",
       "\n",
       "    .dataframe thead th {\n",
       "        text-align: right;\n",
       "    }\n",
       "</style>\n",
       "<table border=\"1\" class=\"dataframe\">\n",
       "  <thead>\n",
       "    <tr style=\"text-align: right;\">\n",
       "      <th></th>\n",
       "      <th>points</th>\n",
       "      <th>price</th>\n",
       "    </tr>\n",
       "  </thead>\n",
       "  <tbody>\n",
       "    <tr>\n",
       "      <th>count</th>\n",
       "      <td>129971.000000</td>\n",
       "      <td>120975.000000</td>\n",
       "    </tr>\n",
       "    <tr>\n",
       "      <th>mean</th>\n",
       "      <td>88.447138</td>\n",
       "      <td>35.363389</td>\n",
       "    </tr>\n",
       "    <tr>\n",
       "      <th>std</th>\n",
       "      <td>3.039730</td>\n",
       "      <td>41.022218</td>\n",
       "    </tr>\n",
       "    <tr>\n",
       "      <th>min</th>\n",
       "      <td>80.000000</td>\n",
       "      <td>4.000000</td>\n",
       "    </tr>\n",
       "    <tr>\n",
       "      <th>25%</th>\n",
       "      <td>86.000000</td>\n",
       "      <td>17.000000</td>\n",
       "    </tr>\n",
       "    <tr>\n",
       "      <th>50%</th>\n",
       "      <td>88.000000</td>\n",
       "      <td>25.000000</td>\n",
       "    </tr>\n",
       "    <tr>\n",
       "      <th>75%</th>\n",
       "      <td>91.000000</td>\n",
       "      <td>42.000000</td>\n",
       "    </tr>\n",
       "    <tr>\n",
       "      <th>max</th>\n",
       "      <td>100.000000</td>\n",
       "      <td>3300.000000</td>\n",
       "    </tr>\n",
       "  </tbody>\n",
       "</table>\n",
       "</div>"
      ],
      "text/plain": [
       "              points          price\n",
       "count  129971.000000  120975.000000\n",
       "mean       88.447138      35.363389\n",
       "std         3.039730      41.022218\n",
       "min        80.000000       4.000000\n",
       "25%        86.000000      17.000000\n",
       "50%        88.000000      25.000000\n",
       "75%        91.000000      42.000000\n",
       "max       100.000000    3300.000000"
      ]
     },
     "execution_count": 34,
     "metadata": {},
     "output_type": "execute_result"
    }
   ],
   "source": [
    "new_data[number_data].describe()"
   ]
  },
  {
   "cell_type": "markdown",
   "metadata": {},
   "source": [
    "利用属性相关关系填充后，Price的均值和标准差发生了细微的变化。"
   ]
  },
  {
   "cell_type": "markdown",
   "metadata": {},
   "source": [
    "#### 3.4.2.4 通过数据对象之间的相似性来填补缺失值\n",
    "\n",
    "根据对象之间Points的相似性，来填充缺失的Price："
   ]
  },
  {
   "cell_type": "code",
   "execution_count": 35,
   "metadata": {
    "collapsed": false
   },
   "outputs": [
    {
     "name": "stderr",
     "output_type": "stream",
     "text": [
      "D:\\tools\\Anaconda\\lib\\site-packages\\pandas\\core\\indexing.py:543: SettingWithCopyWarning: \n",
      "A value is trying to be set on a copy of a slice from a DataFrame.\n",
      "Try using .loc[row_indexer,col_indexer] = value instead\n",
      "\n",
      "See the caveats in the documentation: http://pandas.pydata.org/pandas-docs/stable/indexing.html#indexing-view-versus-copy\n",
      "  self.obj[item] = s\n"
     ]
    }
   ],
   "source": [
    "sim_data = wine_data[['price','points']]\n",
    "p = {}\n",
    "for row in sim_data.iterrows():\n",
    "    if p.get(row[1]['points'], None):\n",
    "        if not np.isnan(row[1]['price']):\n",
    "            p[row[1]['points']][0] += row[1]['price']\n",
    "            p[row[1]['points']][1] += 1\n",
    "    else:\n",
    "        if not np.isnan(row[1]['price']):\n",
    "            p[row[1]['points']] = [row[1]['price'], 1]\n",
    "for k in p.keys():\n",
    "    p[k][0] = round(p[k][0] / p[k][1], 4)\n",
    "for i in range(len(sim_data['price'])):\n",
    "    if (np.isnan(sim_data['price'][i])):\n",
    "        da = p[sim_data.loc[i, 'points']][0]\n",
    "        sim_data.loc[i, 'price']  = da"
   ]
  },
  {
   "cell_type": "code",
   "execution_count": 36,
   "metadata": {
    "collapsed": false,
    "scrolled": true
   },
   "outputs": [
    {
     "data": {
      "text/html": [
       "<div>\n",
       "<style scoped>\n",
       "    .dataframe tbody tr th:only-of-type {\n",
       "        vertical-align: middle;\n",
       "    }\n",
       "\n",
       "    .dataframe tbody tr th {\n",
       "        vertical-align: top;\n",
       "    }\n",
       "\n",
       "    .dataframe thead th {\n",
       "        text-align: right;\n",
       "    }\n",
       "</style>\n",
       "<table border=\"1\" class=\"dataframe\">\n",
       "  <thead>\n",
       "    <tr style=\"text-align: right;\">\n",
       "      <th></th>\n",
       "      <th>points</th>\n",
       "      <th>price</th>\n",
       "    </tr>\n",
       "  </thead>\n",
       "  <tbody>\n",
       "    <tr>\n",
       "      <th>count</th>\n",
       "      <td>129971.000000</td>\n",
       "      <td>129971.000000</td>\n",
       "    </tr>\n",
       "    <tr>\n",
       "      <th>mean</th>\n",
       "      <td>88.447138</td>\n",
       "      <td>35.490964</td>\n",
       "    </tr>\n",
       "    <tr>\n",
       "      <th>std</th>\n",
       "      <td>3.039730</td>\n",
       "      <td>40.022681</td>\n",
       "    </tr>\n",
       "    <tr>\n",
       "      <th>min</th>\n",
       "      <td>80.000000</td>\n",
       "      <td>4.000000</td>\n",
       "    </tr>\n",
       "    <tr>\n",
       "      <th>25%</th>\n",
       "      <td>86.000000</td>\n",
       "      <td>18.000000</td>\n",
       "    </tr>\n",
       "    <tr>\n",
       "      <th>50%</th>\n",
       "      <td>88.000000</td>\n",
       "      <td>26.000000</td>\n",
       "    </tr>\n",
       "    <tr>\n",
       "      <th>75%</th>\n",
       "      <td>91.000000</td>\n",
       "      <td>42.000000</td>\n",
       "    </tr>\n",
       "    <tr>\n",
       "      <th>max</th>\n",
       "      <td>100.000000</td>\n",
       "      <td>3300.000000</td>\n",
       "    </tr>\n",
       "  </tbody>\n",
       "</table>\n",
       "</div>"
      ],
      "text/plain": [
       "              points          price\n",
       "count  129971.000000  129971.000000\n",
       "mean       88.447138      35.490964\n",
       "std         3.039730      40.022681\n",
       "min        80.000000       4.000000\n",
       "25%        86.000000      18.000000\n",
       "50%        88.000000      26.000000\n",
       "75%        91.000000      42.000000\n",
       "max       100.000000    3300.000000"
      ]
     },
     "execution_count": 36,
     "metadata": {},
     "output_type": "execute_result"
    }
   ],
   "source": [
    "number_data = ['points','price']\n",
    "sim_data[number_data].describe()"
   ]
  },
  {
   "cell_type": "markdown",
   "metadata": {},
   "source": [
    "可以观察到，在填充后，数值数据Price的标准差、均值、Q1和中位数发生了变化。"
   ]
  },
  {
   "cell_type": "markdown",
   "metadata": {
    "collapsed": true
   },
   "source": [
    "### 3.4.3 部分标称数据的缺失处理\n",
    "\n",
    "进行Country的缺失处理，由于缺失的Country记录只占了很小一部分，所以剔除缺少Country值的63条记录，不会影响结果。"
   ]
  },
  {
   "cell_type": "code",
   "execution_count": 37,
   "metadata": {
    "collapsed": false
   },
   "outputs": [
    {
     "data": {
      "text/html": [
       "<div>\n",
       "<style scoped>\n",
       "    .dataframe tbody tr th:only-of-type {\n",
       "        vertical-align: middle;\n",
       "    }\n",
       "\n",
       "    .dataframe tbody tr th {\n",
       "        vertical-align: top;\n",
       "    }\n",
       "\n",
       "    .dataframe thead th {\n",
       "        text-align: right;\n",
       "    }\n",
       "</style>\n",
       "<table border=\"1\" class=\"dataframe\">\n",
       "  <thead>\n",
       "    <tr style=\"text-align: right;\">\n",
       "      <th></th>\n",
       "      <th>country</th>\n",
       "      <th>description</th>\n",
       "      <th>designation</th>\n",
       "      <th>points</th>\n",
       "      <th>price</th>\n",
       "      <th>province</th>\n",
       "      <th>region_1</th>\n",
       "      <th>region_2</th>\n",
       "      <th>taster_name</th>\n",
       "      <th>taster_twitter_handle</th>\n",
       "      <th>title</th>\n",
       "      <th>variety</th>\n",
       "      <th>winery</th>\n",
       "    </tr>\n",
       "  </thead>\n",
       "  <tbody>\n",
       "    <tr>\n",
       "      <th>913</th>\n",
       "      <td>NaN</td>\n",
       "      <td>Amber in color, this wine has aromas of peach ...</td>\n",
       "      <td>Asureti Valley</td>\n",
       "      <td>87</td>\n",
       "      <td>30.0</td>\n",
       "      <td>NaN</td>\n",
       "      <td>NaN</td>\n",
       "      <td>NaN</td>\n",
       "      <td>Mike DeSimone</td>\n",
       "      <td>@worldwineguys</td>\n",
       "      <td>Gotsa Family Wines 2014 Asureti Valley Chinuri</td>\n",
       "      <td>Chinuri</td>\n",
       "      <td>Gotsa Family Wines</td>\n",
       "    </tr>\n",
       "    <tr>\n",
       "      <th>3131</th>\n",
       "      <td>NaN</td>\n",
       "      <td>Soft, fruity and juicy, this is a pleasant, si...</td>\n",
       "      <td>Partager</td>\n",
       "      <td>83</td>\n",
       "      <td>NaN</td>\n",
       "      <td>NaN</td>\n",
       "      <td>NaN</td>\n",
       "      <td>NaN</td>\n",
       "      <td>Roger Voss</td>\n",
       "      <td>@vossroger</td>\n",
       "      <td>Barton &amp; Guestier NV Partager Red</td>\n",
       "      <td>Red Blend</td>\n",
       "      <td>Barton &amp; Guestier</td>\n",
       "    </tr>\n",
       "    <tr>\n",
       "      <th>4243</th>\n",
       "      <td>NaN</td>\n",
       "      <td>Violet-red in color, this semisweet wine has a...</td>\n",
       "      <td>Red Naturally Semi-Sweet</td>\n",
       "      <td>88</td>\n",
       "      <td>18.0</td>\n",
       "      <td>NaN</td>\n",
       "      <td>NaN</td>\n",
       "      <td>NaN</td>\n",
       "      <td>Mike DeSimone</td>\n",
       "      <td>@worldwineguys</td>\n",
       "      <td>Kakhetia Traditional Winemaking 2012 Red Natur...</td>\n",
       "      <td>Ojaleshi</td>\n",
       "      <td>Kakhetia Traditional Winemaking</td>\n",
       "    </tr>\n",
       "    <tr>\n",
       "      <th>9509</th>\n",
       "      <td>NaN</td>\n",
       "      <td>This mouthwatering blend starts with a nose of...</td>\n",
       "      <td>Theopetra Malagouzia-Assyrtiko</td>\n",
       "      <td>92</td>\n",
       "      <td>28.0</td>\n",
       "      <td>NaN</td>\n",
       "      <td>NaN</td>\n",
       "      <td>NaN</td>\n",
       "      <td>Susan Kostrzewa</td>\n",
       "      <td>@suskostrzewa</td>\n",
       "      <td>Tsililis 2015 Theopetra Malagouzia-Assyrtiko W...</td>\n",
       "      <td>White Blend</td>\n",
       "      <td>Tsililis</td>\n",
       "    </tr>\n",
       "    <tr>\n",
       "      <th>9750</th>\n",
       "      <td>NaN</td>\n",
       "      <td>This orange-style wine has a cloudy yellow-gol...</td>\n",
       "      <td>Orange Nikolaevo Vineyard</td>\n",
       "      <td>89</td>\n",
       "      <td>28.0</td>\n",
       "      <td>NaN</td>\n",
       "      <td>NaN</td>\n",
       "      <td>NaN</td>\n",
       "      <td>Jeff Jenssen</td>\n",
       "      <td>@worldwineguys</td>\n",
       "      <td>Ross-idi 2015 Orange Nikolaevo Vineyard Chardo...</td>\n",
       "      <td>Chardonnay</td>\n",
       "      <td>Ross-idi</td>\n",
       "    </tr>\n",
       "    <tr>\n",
       "      <th>11150</th>\n",
       "      <td>NaN</td>\n",
       "      <td>A blend of 85% Melnik, 10% Grenache Noir and 5...</td>\n",
       "      <td>NaN</td>\n",
       "      <td>89</td>\n",
       "      <td>20.0</td>\n",
       "      <td>NaN</td>\n",
       "      <td>NaN</td>\n",
       "      <td>NaN</td>\n",
       "      <td>Jeff Jenssen</td>\n",
       "      <td>@worldwineguys</td>\n",
       "      <td>Orbelus 2013 Melnik</td>\n",
       "      <td>Melnik</td>\n",
       "      <td>Orbelus</td>\n",
       "    </tr>\n",
       "    <tr>\n",
       "      <th>11348</th>\n",
       "      <td>NaN</td>\n",
       "      <td>Light and fruity, this is a wine that has some...</td>\n",
       "      <td>Partager</td>\n",
       "      <td>82</td>\n",
       "      <td>NaN</td>\n",
       "      <td>NaN</td>\n",
       "      <td>NaN</td>\n",
       "      <td>NaN</td>\n",
       "      <td>Roger Voss</td>\n",
       "      <td>@vossroger</td>\n",
       "      <td>Barton &amp; Guestier NV Partager White</td>\n",
       "      <td>White Blend</td>\n",
       "      <td>Barton &amp; Guestier</td>\n",
       "    </tr>\n",
       "    <tr>\n",
       "      <th>14030</th>\n",
       "      <td>NaN</td>\n",
       "      <td>This Furmint, grown in marl soils, has aromas ...</td>\n",
       "      <td>Márga</td>\n",
       "      <td>88</td>\n",
       "      <td>25.0</td>\n",
       "      <td>NaN</td>\n",
       "      <td>NaN</td>\n",
       "      <td>NaN</td>\n",
       "      <td>Jeff Jenssen</td>\n",
       "      <td>@worldwineguys</td>\n",
       "      <td>St. Donat 2013 Márga White</td>\n",
       "      <td>White Blend</td>\n",
       "      <td>St. Donat</td>\n",
       "    </tr>\n",
       "    <tr>\n",
       "      <th>16000</th>\n",
       "      <td>NaN</td>\n",
       "      <td>Jumpy, jammy aromas of foxy black fruits are s...</td>\n",
       "      <td>Valle de los Manantiales Vineyard</td>\n",
       "      <td>86</td>\n",
       "      <td>40.0</td>\n",
       "      <td>NaN</td>\n",
       "      <td>NaN</td>\n",
       "      <td>NaN</td>\n",
       "      <td>Michael Schachner</td>\n",
       "      <td>@wineschach</td>\n",
       "      <td>Familia Deicas 2015 Valle de los Manantiales V...</td>\n",
       "      <td>Tannat</td>\n",
       "      <td>Familia Deicas</td>\n",
       "    </tr>\n",
       "    <tr>\n",
       "      <th>16749</th>\n",
       "      <td>NaN</td>\n",
       "      <td>Winemaker: Bartho Eksteen. This wooded Sauvy s...</td>\n",
       "      <td>Cape Winemakers Guild Vloekskoot Wooded</td>\n",
       "      <td>91</td>\n",
       "      <td>NaN</td>\n",
       "      <td>NaN</td>\n",
       "      <td>NaN</td>\n",
       "      <td>NaN</td>\n",
       "      <td>Lauren Buzzeo</td>\n",
       "      <td>@laurbuzz</td>\n",
       "      <td>Bartho Eksteen 2016 Cape Winemakers Guild Vloe...</td>\n",
       "      <td>Sauvignon Blanc</td>\n",
       "      <td>Bartho Eksteen</td>\n",
       "    </tr>\n",
       "    <tr>\n",
       "      <th>18075</th>\n",
       "      <td>NaN</td>\n",
       "      <td>Delicate white flowers and a spin of lemon pee...</td>\n",
       "      <td>Askitikos</td>\n",
       "      <td>90</td>\n",
       "      <td>17.0</td>\n",
       "      <td>NaN</td>\n",
       "      <td>NaN</td>\n",
       "      <td>NaN</td>\n",
       "      <td>Susan Kostrzewa</td>\n",
       "      <td>@suskostrzewa</td>\n",
       "      <td>Tsililis 2015 Askitikos Assyrtiko</td>\n",
       "      <td>Assyrtiko</td>\n",
       "      <td>Tsililis</td>\n",
       "    </tr>\n",
       "    <tr>\n",
       "      <th>26485</th>\n",
       "      <td>NaN</td>\n",
       "      <td>This wine has aromas of black berry, dried red...</td>\n",
       "      <td>NaN</td>\n",
       "      <td>87</td>\n",
       "      <td>13.0</td>\n",
       "      <td>NaN</td>\n",
       "      <td>NaN</td>\n",
       "      <td>NaN</td>\n",
       "      <td>Jeff Jenssen</td>\n",
       "      <td>@worldwineguys</td>\n",
       "      <td>Stone Castle 2013 Shiraz</td>\n",
       "      <td>Shiraz</td>\n",
       "      <td>Stone Castle</td>\n",
       "    </tr>\n",
       "    <tr>\n",
       "      <th>26486</th>\n",
       "      <td>NaN</td>\n",
       "      <td>Aromas of green apple and white flowers prepar...</td>\n",
       "      <td>NaN</td>\n",
       "      <td>87</td>\n",
       "      <td>14.0</td>\n",
       "      <td>NaN</td>\n",
       "      <td>NaN</td>\n",
       "      <td>NaN</td>\n",
       "      <td>Mike DeSimone</td>\n",
       "      <td>@worldwineguys</td>\n",
       "      <td>Teliani Valley 2015 Tsolikouri</td>\n",
       "      <td>Tsolikouri</td>\n",
       "      <td>Teliani Valley</td>\n",
       "    </tr>\n",
       "    <tr>\n",
       "      <th>26489</th>\n",
       "      <td>NaN</td>\n",
       "      <td>Balanced aromas of green herbs and citrus zest...</td>\n",
       "      <td>Aliwen Reserva</td>\n",
       "      <td>87</td>\n",
       "      <td>12.0</td>\n",
       "      <td>NaN</td>\n",
       "      <td>NaN</td>\n",
       "      <td>NaN</td>\n",
       "      <td>Michael Schachner</td>\n",
       "      <td>@wineschach</td>\n",
       "      <td>Undurraga 2016 Aliwen Reserva Sauvignon Blanc</td>\n",
       "      <td>Sauvignon Blanc</td>\n",
       "      <td>Undurraga</td>\n",
       "    </tr>\n",
       "    <tr>\n",
       "      <th>27822</th>\n",
       "      <td>NaN</td>\n",
       "      <td>This is a reasonably rich, concentrated exampl...</td>\n",
       "      <td>NaN</td>\n",
       "      <td>86</td>\n",
       "      <td>19.0</td>\n",
       "      <td>NaN</td>\n",
       "      <td>NaN</td>\n",
       "      <td>NaN</td>\n",
       "      <td>Joe Czerwinski</td>\n",
       "      <td>@JoeCz</td>\n",
       "      <td>Mt. Beautiful 2014 Pinot Gris</td>\n",
       "      <td>Pinot Gris</td>\n",
       "      <td>Mt. Beautiful</td>\n",
       "    </tr>\n",
       "    <tr>\n",
       "      <th>36112</th>\n",
       "      <td>NaN</td>\n",
       "      <td>An interesting blend of indigenous Bulgarian a...</td>\n",
       "      <td>Hrumki Melnik 55 Mourvèdre Marselan</td>\n",
       "      <td>89</td>\n",
       "      <td>25.0</td>\n",
       "      <td>NaN</td>\n",
       "      <td>NaN</td>\n",
       "      <td>NaN</td>\n",
       "      <td>Jeff Jenssen</td>\n",
       "      <td>@worldwineguys</td>\n",
       "      <td>Orbelus 2012 Hrumki Melnik 55 Mourvèdre Marsel...</td>\n",
       "      <td>Red Blend</td>\n",
       "      <td>Orbelus</td>\n",
       "    </tr>\n",
       "    <tr>\n",
       "      <th>38240</th>\n",
       "      <td>NaN</td>\n",
       "      <td>Subdued citrus and pear notes on the nose find...</td>\n",
       "      <td>Steirische Klassik</td>\n",
       "      <td>89</td>\n",
       "      <td>24.0</td>\n",
       "      <td>NaN</td>\n",
       "      <td>NaN</td>\n",
       "      <td>NaN</td>\n",
       "      <td>Anne Krebiehl MW</td>\n",
       "      <td>@AnneInVino</td>\n",
       "      <td>Neumeister 2015 Steirische Klassik Grauburgunder</td>\n",
       "      <td>Grauburgunder</td>\n",
       "      <td>Neumeister</td>\n",
       "    </tr>\n",
       "    <tr>\n",
       "      <th>38898</th>\n",
       "      <td>NaN</td>\n",
       "      <td>Scents of clover, stem, green herb and red cur...</td>\n",
       "      <td>Wismer-Parke Vineyard</td>\n",
       "      <td>89</td>\n",
       "      <td>34.0</td>\n",
       "      <td>NaN</td>\n",
       "      <td>NaN</td>\n",
       "      <td>NaN</td>\n",
       "      <td>Paul Gregutt</td>\n",
       "      <td>@paulgwine</td>\n",
       "      <td>Bachelder 2014 Wismer-Parke Vineyard Pinot Noir</td>\n",
       "      <td>Pinot Noir</td>\n",
       "      <td>Bachelder</td>\n",
       "    </tr>\n",
       "    <tr>\n",
       "      <th>44674</th>\n",
       "      <td>NaN</td>\n",
       "      <td>Crisp apple freshness almost tips into full ci...</td>\n",
       "      <td>Steirische Klassik</td>\n",
       "      <td>91</td>\n",
       "      <td>25.0</td>\n",
       "      <td>NaN</td>\n",
       "      <td>NaN</td>\n",
       "      <td>NaN</td>\n",
       "      <td>Anne Krebiehl MW</td>\n",
       "      <td>@AnneInVino</td>\n",
       "      <td>Neumeister 2016 Steirische Klassik Grauburgunder</td>\n",
       "      <td>Grauburgunder</td>\n",
       "      <td>Neumeister</td>\n",
       "    </tr>\n",
       "    <tr>\n",
       "      <th>44850</th>\n",
       "      <td>NaN</td>\n",
       "      <td>This blend of Gamay and Prokupe has aromas of ...</td>\n",
       "      <td>Amphora</td>\n",
       "      <td>84</td>\n",
       "      <td>6.0</td>\n",
       "      <td>NaN</td>\n",
       "      <td>NaN</td>\n",
       "      <td>NaN</td>\n",
       "      <td>Jeff Jenssen</td>\n",
       "      <td>@worldwineguys</td>\n",
       "      <td>Stone Castle 2014 Amphora Red</td>\n",
       "      <td>Red Blend</td>\n",
       "      <td>Stone Castle</td>\n",
       "    </tr>\n",
       "    <tr>\n",
       "      <th>44851</th>\n",
       "      <td>NaN</td>\n",
       "      <td>This wine has aromas of honeysuckle and lemon ...</td>\n",
       "      <td>Royal</td>\n",
       "      <td>84</td>\n",
       "      <td>6.0</td>\n",
       "      <td>NaN</td>\n",
       "      <td>NaN</td>\n",
       "      <td>NaN</td>\n",
       "      <td>Jeff Jenssen</td>\n",
       "      <td>@worldwineguys</td>\n",
       "      <td>Stone Castle 2015 Royal Riesling</td>\n",
       "      <td>Riesling</td>\n",
       "      <td>Stone Castle</td>\n",
       "    </tr>\n",
       "    <tr>\n",
       "      <th>45247</th>\n",
       "      <td>NaN</td>\n",
       "      <td>Just a whiff of citrus shows on the restrained...</td>\n",
       "      <td>Steirische Klassik</td>\n",
       "      <td>89</td>\n",
       "      <td>25.0</td>\n",
       "      <td>NaN</td>\n",
       "      <td>NaN</td>\n",
       "      <td>NaN</td>\n",
       "      <td>Anne Krebiehl MW</td>\n",
       "      <td>@AnneInVino</td>\n",
       "      <td>Neumeister 2016 Steirische Klassik Sauvignon B...</td>\n",
       "      <td>Sauvignon Blanc</td>\n",
       "      <td>Neumeister</td>\n",
       "    </tr>\n",
       "    <tr>\n",
       "      <th>45402</th>\n",
       "      <td>NaN</td>\n",
       "      <td>Basic cherry aromas turn more earthy and soupy...</td>\n",
       "      <td>Reserva Estate Bottled</td>\n",
       "      <td>85</td>\n",
       "      <td>12.0</td>\n",
       "      <td>NaN</td>\n",
       "      <td>NaN</td>\n",
       "      <td>NaN</td>\n",
       "      <td>Michael Schachner</td>\n",
       "      <td>@wineschach</td>\n",
       "      <td>Chilcas 2015 Reserva Estate Bottled Pinot Noir</td>\n",
       "      <td>Pinot Noir</td>\n",
       "      <td>Chilcas</td>\n",
       "    </tr>\n",
       "    <tr>\n",
       "      <th>46352</th>\n",
       "      <td>NaN</td>\n",
       "      <td>A dark color and rich, jammy, baked aromas of ...</td>\n",
       "      <td>Catalina</td>\n",
       "      <td>91</td>\n",
       "      <td>50.0</td>\n",
       "      <td>NaN</td>\n",
       "      <td>NaN</td>\n",
       "      <td>NaN</td>\n",
       "      <td>Michael Schachner</td>\n",
       "      <td>@wineschach</td>\n",
       "      <td>Santa Ema 2014 Catalina Red</td>\n",
       "      <td>Red Blend</td>\n",
       "      <td>Santa Ema</td>\n",
       "    </tr>\n",
       "    <tr>\n",
       "      <th>49425</th>\n",
       "      <td>NaN</td>\n",
       "      <td>This blend is comprised of 55% Merlot, 21% Cab...</td>\n",
       "      <td>Getika Made With Organic Grapes</td>\n",
       "      <td>88</td>\n",
       "      <td>28.0</td>\n",
       "      <td>NaN</td>\n",
       "      <td>NaN</td>\n",
       "      <td>NaN</td>\n",
       "      <td>Jeff Jenssen</td>\n",
       "      <td>@worldwineguys</td>\n",
       "      <td>Orbelus 2011 Getika Made With Organic Grapes Red</td>\n",
       "      <td>Red Blend</td>\n",
       "      <td>Orbelus</td>\n",
       "    </tr>\n",
       "    <tr>\n",
       "      <th>49426</th>\n",
       "      <td>NaN</td>\n",
       "      <td>Enticing aromas of blueberry syrup open this b...</td>\n",
       "      <td>Getika Made With Organic Grapes</td>\n",
       "      <td>88</td>\n",
       "      <td>28.0</td>\n",
       "      <td>NaN</td>\n",
       "      <td>NaN</td>\n",
       "      <td>NaN</td>\n",
       "      <td>Jeff Jenssen</td>\n",
       "      <td>@worldwineguys</td>\n",
       "      <td>Orbelus 2012 Getika Made With Organic Grapes Red</td>\n",
       "      <td>Red Blend</td>\n",
       "      <td>Orbelus</td>\n",
       "    </tr>\n",
       "    <tr>\n",
       "      <th>49427</th>\n",
       "      <td>NaN</td>\n",
       "      <td>This dark-garnet wine has aromas of eucalyptus...</td>\n",
       "      <td>Hrumki Syrah Melnik 55 Mourvèdre Marselan</td>\n",
       "      <td>88</td>\n",
       "      <td>19.0</td>\n",
       "      <td>NaN</td>\n",
       "      <td>NaN</td>\n",
       "      <td>NaN</td>\n",
       "      <td>Jeff Jenssen</td>\n",
       "      <td>@worldwineguys</td>\n",
       "      <td>Orbelus 2013 Hrumki Syrah Melnik 55 Mourvèdre ...</td>\n",
       "      <td>Red Blend</td>\n",
       "      <td>Orbelus</td>\n",
       "    </tr>\n",
       "    <tr>\n",
       "      <th>49510</th>\n",
       "      <td>NaN</td>\n",
       "      <td>Aromas of cherry, blueberry and rose petal pre...</td>\n",
       "      <td>NaN</td>\n",
       "      <td>91</td>\n",
       "      <td>34.0</td>\n",
       "      <td>NaN</td>\n",
       "      <td>NaN</td>\n",
       "      <td>NaN</td>\n",
       "      <td>Mike DeSimone</td>\n",
       "      <td>@worldwineguys</td>\n",
       "      <td>Psagot 2013 Cabernet Sauvignon</td>\n",
       "      <td>Cabernet Sauvignon</td>\n",
       "      <td>Psagot</td>\n",
       "    </tr>\n",
       "    <tr>\n",
       "      <th>54222</th>\n",
       "      <td>NaN</td>\n",
       "      <td>Almost caramel in color, this wine offers arom...</td>\n",
       "      <td>Babaneuri Valley</td>\n",
       "      <td>87</td>\n",
       "      <td>30.0</td>\n",
       "      <td>NaN</td>\n",
       "      <td>NaN</td>\n",
       "      <td>NaN</td>\n",
       "      <td>Mike DeSimone</td>\n",
       "      <td>@worldwineguys</td>\n",
       "      <td>Gotsa Family Wines 2013 Babaneuri Valley Mtsvane</td>\n",
       "      <td>Mtsvane</td>\n",
       "      <td>Gotsa Family Wines</td>\n",
       "    </tr>\n",
       "    <tr>\n",
       "      <th>57612</th>\n",
       "      <td>NaN</td>\n",
       "      <td>Winemaker: Gordon Newton Johnson. This is such...</td>\n",
       "      <td>Cape Winemakers Guild Windansea</td>\n",
       "      <td>92</td>\n",
       "      <td>NaN</td>\n",
       "      <td>NaN</td>\n",
       "      <td>NaN</td>\n",
       "      <td>NaN</td>\n",
       "      <td>Lauren Buzzeo</td>\n",
       "      <td>@laurbuzz</td>\n",
       "      <td>Newton Johnson 2016 Cape Winemakers Guild Wind...</td>\n",
       "      <td>Pinot Noir</td>\n",
       "      <td>Newton Johnson</td>\n",
       "    </tr>\n",
       "    <tr>\n",
       "      <th>...</th>\n",
       "      <td>...</td>\n",
       "      <td>...</td>\n",
       "      <td>...</td>\n",
       "      <td>...</td>\n",
       "      <td>...</td>\n",
       "      <td>...</td>\n",
       "      <td>...</td>\n",
       "      <td>...</td>\n",
       "      <td>...</td>\n",
       "      <td>...</td>\n",
       "      <td>...</td>\n",
       "      <td>...</td>\n",
       "      <td>...</td>\n",
       "    </tr>\n",
       "    <tr>\n",
       "      <th>68322</th>\n",
       "      <td>NaN</td>\n",
       "      <td>This Bulgarian Chardonnay is fermented in egg-...</td>\n",
       "      <td>Nikolaevo</td>\n",
       "      <td>89</td>\n",
       "      <td>20.0</td>\n",
       "      <td>NaN</td>\n",
       "      <td>NaN</td>\n",
       "      <td>NaN</td>\n",
       "      <td>Jeff Jenssen</td>\n",
       "      <td>@worldwineguys</td>\n",
       "      <td>Ross-idi 2015 Nikolaevo Chardonnay</td>\n",
       "      <td>Chardonnay</td>\n",
       "      <td>Ross-idi</td>\n",
       "    </tr>\n",
       "    <tr>\n",
       "      <th>72581</th>\n",
       "      <td>NaN</td>\n",
       "      <td>This dry Furmint from Hungary's Balaton region...</td>\n",
       "      <td>Estate</td>\n",
       "      <td>89</td>\n",
       "      <td>21.0</td>\n",
       "      <td>NaN</td>\n",
       "      <td>NaN</td>\n",
       "      <td>NaN</td>\n",
       "      <td>Jeff Jenssen</td>\n",
       "      <td>@worldwineguys</td>\n",
       "      <td>St. Donat 2014 Estate Furmint</td>\n",
       "      <td>Furmint</td>\n",
       "      <td>St. Donat</td>\n",
       "    </tr>\n",
       "    <tr>\n",
       "      <th>79270</th>\n",
       "      <td>NaN</td>\n",
       "      <td>This 100% Vranac is garnet in color, with arom...</td>\n",
       "      <td>Premium</td>\n",
       "      <td>86</td>\n",
       "      <td>11.0</td>\n",
       "      <td>NaN</td>\n",
       "      <td>NaN</td>\n",
       "      <td>NaN</td>\n",
       "      <td>Jeff Jenssen</td>\n",
       "      <td>@worldwineguys</td>\n",
       "      <td>Stone Castle 2014 Premium Vranac</td>\n",
       "      <td>Vranac</td>\n",
       "      <td>Stone Castle</td>\n",
       "    </tr>\n",
       "    <tr>\n",
       "      <th>79827</th>\n",
       "      <td>NaN</td>\n",
       "      <td>An interesting blend of indigenous Bulgarian a...</td>\n",
       "      <td>Hrumki Melnik 55 Mourvèdre Marselan</td>\n",
       "      <td>89</td>\n",
       "      <td>25.0</td>\n",
       "      <td>NaN</td>\n",
       "      <td>NaN</td>\n",
       "      <td>NaN</td>\n",
       "      <td>Jeff Jenssen</td>\n",
       "      <td>@worldwineguys</td>\n",
       "      <td>Orbelus 2012 Hrumki Melnik 55 Mourvèdre Marsel...</td>\n",
       "      <td>Red Blend</td>\n",
       "      <td>Orbelus</td>\n",
       "    </tr>\n",
       "    <tr>\n",
       "      <th>81955</th>\n",
       "      <td>NaN</td>\n",
       "      <td>This white blend is comprised of 50% Chardonna...</td>\n",
       "      <td>Nikolaevo Unison Chardonnay-Gewürtztraminer</td>\n",
       "      <td>89</td>\n",
       "      <td>16.0</td>\n",
       "      <td>NaN</td>\n",
       "      <td>NaN</td>\n",
       "      <td>NaN</td>\n",
       "      <td>Jeff Jenssen</td>\n",
       "      <td>@worldwineguys</td>\n",
       "      <td>Ross-idi 2014 Nikolaevo Unison Chardonnay-Gewü...</td>\n",
       "      <td>White Blend</td>\n",
       "      <td>Ross-idi</td>\n",
       "    </tr>\n",
       "    <tr>\n",
       "      <th>81957</th>\n",
       "      <td>NaN</td>\n",
       "      <td>This wine is made from grapes grown in the Lak...</td>\n",
       "      <td>Márga</td>\n",
       "      <td>89</td>\n",
       "      <td>18.0</td>\n",
       "      <td>NaN</td>\n",
       "      <td>NaN</td>\n",
       "      <td>NaN</td>\n",
       "      <td>Jeff Jenssen</td>\n",
       "      <td>@worldwineguys</td>\n",
       "      <td>St. Donat 2015 Márga Furmint</td>\n",
       "      <td>Furmint</td>\n",
       "      <td>St. Donat</td>\n",
       "    </tr>\n",
       "    <tr>\n",
       "      <th>85602</th>\n",
       "      <td>NaN</td>\n",
       "      <td>There's a pleasant fruity richness to this win...</td>\n",
       "      <td>NaN</td>\n",
       "      <td>88</td>\n",
       "      <td>36.0</td>\n",
       "      <td>NaN</td>\n",
       "      <td>NaN</td>\n",
       "      <td>NaN</td>\n",
       "      <td>Lauren Buzzeo</td>\n",
       "      <td>@laurbuzz</td>\n",
       "      <td>Lismore 2014 Chardonnay</td>\n",
       "      <td>Chardonnay</td>\n",
       "      <td>Lismore</td>\n",
       "    </tr>\n",
       "    <tr>\n",
       "      <th>85603</th>\n",
       "      <td>NaN</td>\n",
       "      <td>Made from 100% Melnick this garnet-colored win...</td>\n",
       "      <td>Nobile</td>\n",
       "      <td>88</td>\n",
       "      <td>23.0</td>\n",
       "      <td>NaN</td>\n",
       "      <td>NaN</td>\n",
       "      <td>NaN</td>\n",
       "      <td>Jeff Jenssen</td>\n",
       "      <td>@worldwineguys</td>\n",
       "      <td>Logodaj 2013 Nobile Melnik</td>\n",
       "      <td>Melnik</td>\n",
       "      <td>Logodaj</td>\n",
       "    </tr>\n",
       "    <tr>\n",
       "      <th>85821</th>\n",
       "      <td>NaN</td>\n",
       "      <td>A neutral nose leads onto an apple-fresh palat...</td>\n",
       "      <td>Steirische Klassik</td>\n",
       "      <td>90</td>\n",
       "      <td>22.0</td>\n",
       "      <td>NaN</td>\n",
       "      <td>NaN</td>\n",
       "      <td>NaN</td>\n",
       "      <td>Anne Krebiehl MW</td>\n",
       "      <td>@AnneInVino</td>\n",
       "      <td>Neumeister 2015 Steirische Klassik Morillon</td>\n",
       "      <td>Morillon</td>\n",
       "      <td>Neumeister</td>\n",
       "    </tr>\n",
       "    <tr>\n",
       "      <th>90146</th>\n",
       "      <td>NaN</td>\n",
       "      <td>Aromas of cut grass, lemongrass and honeysuckl...</td>\n",
       "      <td>Nikolaevo Vineyard</td>\n",
       "      <td>89</td>\n",
       "      <td>16.0</td>\n",
       "      <td>NaN</td>\n",
       "      <td>NaN</td>\n",
       "      <td>NaN</td>\n",
       "      <td>Jeff Jenssen</td>\n",
       "      <td>@worldwineguys</td>\n",
       "      <td>Ross-idi 2015 Nikolaevo Vineyard Gewürztraminer</td>\n",
       "      <td>Gewürztraminer</td>\n",
       "      <td>Ross-idi</td>\n",
       "    </tr>\n",
       "    <tr>\n",
       "      <th>90151</th>\n",
       "      <td>NaN</td>\n",
       "      <td>This medium-straw-colored wine has aromas of c...</td>\n",
       "      <td>NaN</td>\n",
       "      <td>89</td>\n",
       "      <td>25.0</td>\n",
       "      <td>NaN</td>\n",
       "      <td>NaN</td>\n",
       "      <td>NaN</td>\n",
       "      <td>Jeff Jenssen</td>\n",
       "      <td>@worldwineguys</td>\n",
       "      <td>Somlói Vándor 2015 Furmint</td>\n",
       "      <td>Furmint</td>\n",
       "      <td>Somlói Vándor</td>\n",
       "    </tr>\n",
       "    <tr>\n",
       "      <th>95176</th>\n",
       "      <td>NaN</td>\n",
       "      <td>Aromatic hints of tomato leaf and pea shoots m...</td>\n",
       "      <td>Klausen</td>\n",
       "      <td>91</td>\n",
       "      <td>38.0</td>\n",
       "      <td>NaN</td>\n",
       "      <td>NaN</td>\n",
       "      <td>NaN</td>\n",
       "      <td>Anne Krebiehl MW</td>\n",
       "      <td>@AnneInVino</td>\n",
       "      <td>Neumeister 2015 Klausen Sauvignon Blanc</td>\n",
       "      <td>Sauvignon Blanc</td>\n",
       "      <td>Neumeister</td>\n",
       "    </tr>\n",
       "    <tr>\n",
       "      <th>97850</th>\n",
       "      <td>NaN</td>\n",
       "      <td>Streaks of blossom, citrus and pear can be dis...</td>\n",
       "      <td>Gemischter Satz</td>\n",
       "      <td>89</td>\n",
       "      <td>17.0</td>\n",
       "      <td>NaN</td>\n",
       "      <td>NaN</td>\n",
       "      <td>NaN</td>\n",
       "      <td>Anne Krebiehl MW</td>\n",
       "      <td>@AnneInVino</td>\n",
       "      <td>Neumeister 2016 Gemischter Satz White</td>\n",
       "      <td>Austrian white blend</td>\n",
       "      <td>Neumeister</td>\n",
       "    </tr>\n",
       "    <tr>\n",
       "      <th>98094</th>\n",
       "      <td>NaN</td>\n",
       "      <td>This organically produced wine is comprised of...</td>\n",
       "      <td>Made With Organic Grapes</td>\n",
       "      <td>89</td>\n",
       "      <td>24.0</td>\n",
       "      <td>NaN</td>\n",
       "      <td>NaN</td>\n",
       "      <td>NaN</td>\n",
       "      <td>Jeff Jenssen</td>\n",
       "      <td>@worldwineguys</td>\n",
       "      <td>Orbelus 2013 Made With Organic Grapes Melnik</td>\n",
       "      <td>Melnik</td>\n",
       "      <td>Orbelus</td>\n",
       "    </tr>\n",
       "    <tr>\n",
       "      <th>100570</th>\n",
       "      <td>NaN</td>\n",
       "      <td>Plum, black cherry and anise lead the nose of ...</td>\n",
       "      <td>Theopetra Estate</td>\n",
       "      <td>87</td>\n",
       "      <td>37.0</td>\n",
       "      <td>NaN</td>\n",
       "      <td>NaN</td>\n",
       "      <td>NaN</td>\n",
       "      <td>Susan Kostrzewa</td>\n",
       "      <td>@suskostrzewa</td>\n",
       "      <td>Tsililis 2012 Theopetra Estate Red</td>\n",
       "      <td>Red Blend</td>\n",
       "      <td>Tsililis</td>\n",
       "    </tr>\n",
       "    <tr>\n",
       "      <th>100722</th>\n",
       "      <td>NaN</td>\n",
       "      <td>This Pinot Gris from Switzerland has aromas of...</td>\n",
       "      <td>Domaine de la Treille</td>\n",
       "      <td>89</td>\n",
       "      <td>25.0</td>\n",
       "      <td>NaN</td>\n",
       "      <td>NaN</td>\n",
       "      <td>NaN</td>\n",
       "      <td>Jeff Jenssen</td>\n",
       "      <td>@worldwineguys</td>\n",
       "      <td>Les Frères Dutruy 2014 Domaine de la Treille P...</td>\n",
       "      <td>Pinot Gris</td>\n",
       "      <td>Les Frères Dutruy</td>\n",
       "    </tr>\n",
       "    <tr>\n",
       "      <th>105167</th>\n",
       "      <td>NaN</td>\n",
       "      <td>A lively whiff of white blossom, Muscat grapes...</td>\n",
       "      <td>Steirische Klassik</td>\n",
       "      <td>92</td>\n",
       "      <td>21.0</td>\n",
       "      <td>NaN</td>\n",
       "      <td>NaN</td>\n",
       "      <td>NaN</td>\n",
       "      <td>Anne Krebiehl MW</td>\n",
       "      <td>@AnneInVino</td>\n",
       "      <td>Neumeister 2016 Steirische Klassik Gelber Musk...</td>\n",
       "      <td>Gelber Muskateller</td>\n",
       "      <td>Neumeister</td>\n",
       "    </tr>\n",
       "    <tr>\n",
       "      <th>105715</th>\n",
       "      <td>NaN</td>\n",
       "      <td>Aromas of blackberry, strawberry and chocolate...</td>\n",
       "      <td>Peak</td>\n",
       "      <td>92</td>\n",
       "      <td>50.0</td>\n",
       "      <td>NaN</td>\n",
       "      <td>NaN</td>\n",
       "      <td>NaN</td>\n",
       "      <td>Mike DeSimone</td>\n",
       "      <td>@worldwineguys</td>\n",
       "      <td>Psagot 2014 Peak Red</td>\n",
       "      <td>Rhône-style Red Blend</td>\n",
       "      <td>Psagot</td>\n",
       "    </tr>\n",
       "    <tr>\n",
       "      <th>106170</th>\n",
       "      <td>NaN</td>\n",
       "      <td>This is a reasonably rich, concentrated exampl...</td>\n",
       "      <td>NaN</td>\n",
       "      <td>86</td>\n",
       "      <td>19.0</td>\n",
       "      <td>NaN</td>\n",
       "      <td>NaN</td>\n",
       "      <td>NaN</td>\n",
       "      <td>Joe Czerwinski</td>\n",
       "      <td>@JoeCz</td>\n",
       "      <td>Mt. Beautiful 2014 Pinot Gris</td>\n",
       "      <td>Pinot Gris</td>\n",
       "      <td>Mt. Beautiful</td>\n",
       "    </tr>\n",
       "    <tr>\n",
       "      <th>113520</th>\n",
       "      <td>NaN</td>\n",
       "      <td>Aromas of crushed stone and graphite lead toas...</td>\n",
       "      <td>Reserve</td>\n",
       "      <td>90</td>\n",
       "      <td>22.0</td>\n",
       "      <td>NaN</td>\n",
       "      <td>NaN</td>\n",
       "      <td>NaN</td>\n",
       "      <td>Michael Schachner</td>\n",
       "      <td>@wineschach</td>\n",
       "      <td>El Capricho 2015 Reserve Tannat</td>\n",
       "      <td>Tannat</td>\n",
       "      <td>El Capricho</td>\n",
       "    </tr>\n",
       "    <tr>\n",
       "      <th>116307</th>\n",
       "      <td>NaN</td>\n",
       "      <td>A lively whiff of white blossom, Muscat grapes...</td>\n",
       "      <td>Steirische Klassik</td>\n",
       "      <td>92</td>\n",
       "      <td>21.0</td>\n",
       "      <td>NaN</td>\n",
       "      <td>NaN</td>\n",
       "      <td>NaN</td>\n",
       "      <td>Anne Krebiehl MW</td>\n",
       "      <td>@AnneInVino</td>\n",
       "      <td>Neumeister 2016 Steirische Klassik Gelber Musk...</td>\n",
       "      <td>Gelber Muskateller</td>\n",
       "      <td>Neumeister</td>\n",
       "    </tr>\n",
       "    <tr>\n",
       "      <th>118118</th>\n",
       "      <td>NaN</td>\n",
       "      <td>Amber to the eye, this wine features an entici...</td>\n",
       "      <td>Dry Unfiltered Rkatsiteli Mtsvane</td>\n",
       "      <td>88</td>\n",
       "      <td>25.0</td>\n",
       "      <td>NaN</td>\n",
       "      <td>NaN</td>\n",
       "      <td>NaN</td>\n",
       "      <td>Mike DeSimone</td>\n",
       "      <td>@worldwineguys</td>\n",
       "      <td>Gotsa Family Wines 2015 Dry Unfiltered Rkatsit...</td>\n",
       "      <td>White Blend</td>\n",
       "      <td>Gotsa Family Wines</td>\n",
       "    </tr>\n",
       "    <tr>\n",
       "      <th>119787</th>\n",
       "      <td>NaN</td>\n",
       "      <td>This deep red-violet wine has a nose of blackb...</td>\n",
       "      <td>NaN</td>\n",
       "      <td>90</td>\n",
       "      <td>30.0</td>\n",
       "      <td>NaN</td>\n",
       "      <td>NaN</td>\n",
       "      <td>NaN</td>\n",
       "      <td>Mike DeSimone</td>\n",
       "      <td>@worldwineguys</td>\n",
       "      <td>Amiran Vepkhvadze 2014 Otskhanuri Sapere</td>\n",
       "      <td>Otskhanuri Sapere</td>\n",
       "      <td>Amiran Vepkhvadze</td>\n",
       "    </tr>\n",
       "    <tr>\n",
       "      <th>120248</th>\n",
       "      <td>NaN</td>\n",
       "      <td>Dark ruby in the glass, this wine offers a bou...</td>\n",
       "      <td>M Series</td>\n",
       "      <td>92</td>\n",
       "      <td>36.0</td>\n",
       "      <td>NaN</td>\n",
       "      <td>NaN</td>\n",
       "      <td>NaN</td>\n",
       "      <td>Mike DeSimone</td>\n",
       "      <td>@worldwineguys</td>\n",
       "      <td>Psagot 2013 M Series Cabernet Franc</td>\n",
       "      <td>Cabernet Franc</td>\n",
       "      <td>Psagot</td>\n",
       "    </tr>\n",
       "    <tr>\n",
       "      <th>120799</th>\n",
       "      <td>NaN</td>\n",
       "      <td>Cigar box, cedar and red fruit aromas start th...</td>\n",
       "      <td>NaN</td>\n",
       "      <td>90</td>\n",
       "      <td>27.0</td>\n",
       "      <td>NaN</td>\n",
       "      <td>NaN</td>\n",
       "      <td>NaN</td>\n",
       "      <td>Susan Kostrzewa</td>\n",
       "      <td>@suskostrzewa</td>\n",
       "      <td>Ktima Voyatzi 2014 Tsapournakos</td>\n",
       "      <td>Tsapournakos</td>\n",
       "      <td>Ktima Voyatzi</td>\n",
       "    </tr>\n",
       "    <tr>\n",
       "      <th>124176</th>\n",
       "      <td>NaN</td>\n",
       "      <td>This Swiss red blend is composed of four varie...</td>\n",
       "      <td>Les Romaines</td>\n",
       "      <td>90</td>\n",
       "      <td>30.0</td>\n",
       "      <td>NaN</td>\n",
       "      <td>NaN</td>\n",
       "      <td>NaN</td>\n",
       "      <td>Jeff Jenssen</td>\n",
       "      <td>@worldwineguys</td>\n",
       "      <td>Les Frères Dutruy 2014 Les Romaines Red</td>\n",
       "      <td>Red Blend</td>\n",
       "      <td>Les Frères Dutruy</td>\n",
       "    </tr>\n",
       "    <tr>\n",
       "      <th>129407</th>\n",
       "      <td>NaN</td>\n",
       "      <td>Dry spicy aromas of dusty plum and tomato add ...</td>\n",
       "      <td>Reserve</td>\n",
       "      <td>89</td>\n",
       "      <td>22.0</td>\n",
       "      <td>NaN</td>\n",
       "      <td>NaN</td>\n",
       "      <td>NaN</td>\n",
       "      <td>Michael Schachner</td>\n",
       "      <td>@wineschach</td>\n",
       "      <td>El Capricho 2015 Reserve Cabernet Sauvignon</td>\n",
       "      <td>Cabernet Sauvignon</td>\n",
       "      <td>El Capricho</td>\n",
       "    </tr>\n",
       "    <tr>\n",
       "      <th>129408</th>\n",
       "      <td>NaN</td>\n",
       "      <td>El Capricho is one of Uruguay's more consisten...</td>\n",
       "      <td>Reserve</td>\n",
       "      <td>89</td>\n",
       "      <td>22.0</td>\n",
       "      <td>NaN</td>\n",
       "      <td>NaN</td>\n",
       "      <td>NaN</td>\n",
       "      <td>Michael Schachner</td>\n",
       "      <td>@wineschach</td>\n",
       "      <td>El Capricho 2015 Reserve Tempranillo</td>\n",
       "      <td>Tempranillo</td>\n",
       "      <td>El Capricho</td>\n",
       "    </tr>\n",
       "    <tr>\n",
       "      <th>129590</th>\n",
       "      <td>NaN</td>\n",
       "      <td>A blend of 60% Syrah, 30% Cabernet Sauvignon a...</td>\n",
       "      <td>Shah</td>\n",
       "      <td>90</td>\n",
       "      <td>30.0</td>\n",
       "      <td>NaN</td>\n",
       "      <td>NaN</td>\n",
       "      <td>NaN</td>\n",
       "      <td>Mike DeSimone</td>\n",
       "      <td>@worldwineguys</td>\n",
       "      <td>Büyülübağ 2012 Shah Red</td>\n",
       "      <td>Red Blend</td>\n",
       "      <td>Büyülübağ</td>\n",
       "    </tr>\n",
       "    <tr>\n",
       "      <th>129900</th>\n",
       "      <td>NaN</td>\n",
       "      <td>This wine offers a delightful bouquet of black...</td>\n",
       "      <td>NaN</td>\n",
       "      <td>91</td>\n",
       "      <td>32.0</td>\n",
       "      <td>NaN</td>\n",
       "      <td>NaN</td>\n",
       "      <td>NaN</td>\n",
       "      <td>Mike DeSimone</td>\n",
       "      <td>@worldwineguys</td>\n",
       "      <td>Psagot 2014 Merlot</td>\n",
       "      <td>Merlot</td>\n",
       "      <td>Psagot</td>\n",
       "    </tr>\n",
       "  </tbody>\n",
       "</table>\n",
       "<p>63 rows × 13 columns</p>\n",
       "</div>"
      ],
      "text/plain": [
       "       country                                        description  \\\n",
       "913        NaN  Amber in color, this wine has aromas of peach ...   \n",
       "3131       NaN  Soft, fruity and juicy, this is a pleasant, si...   \n",
       "4243       NaN  Violet-red in color, this semisweet wine has a...   \n",
       "9509       NaN  This mouthwatering blend starts with a nose of...   \n",
       "9750       NaN  This orange-style wine has a cloudy yellow-gol...   \n",
       "11150      NaN  A blend of 85% Melnik, 10% Grenache Noir and 5...   \n",
       "11348      NaN  Light and fruity, this is a wine that has some...   \n",
       "14030      NaN  This Furmint, grown in marl soils, has aromas ...   \n",
       "16000      NaN  Jumpy, jammy aromas of foxy black fruits are s...   \n",
       "16749      NaN  Winemaker: Bartho Eksteen. This wooded Sauvy s...   \n",
       "18075      NaN  Delicate white flowers and a spin of lemon pee...   \n",
       "26485      NaN  This wine has aromas of black berry, dried red...   \n",
       "26486      NaN  Aromas of green apple and white flowers prepar...   \n",
       "26489      NaN  Balanced aromas of green herbs and citrus zest...   \n",
       "27822      NaN  This is a reasonably rich, concentrated exampl...   \n",
       "36112      NaN  An interesting blend of indigenous Bulgarian a...   \n",
       "38240      NaN  Subdued citrus and pear notes on the nose find...   \n",
       "38898      NaN  Scents of clover, stem, green herb and red cur...   \n",
       "44674      NaN  Crisp apple freshness almost tips into full ci...   \n",
       "44850      NaN  This blend of Gamay and Prokupe has aromas of ...   \n",
       "44851      NaN  This wine has aromas of honeysuckle and lemon ...   \n",
       "45247      NaN  Just a whiff of citrus shows on the restrained...   \n",
       "45402      NaN  Basic cherry aromas turn more earthy and soupy...   \n",
       "46352      NaN  A dark color and rich, jammy, baked aromas of ...   \n",
       "49425      NaN  This blend is comprised of 55% Merlot, 21% Cab...   \n",
       "49426      NaN  Enticing aromas of blueberry syrup open this b...   \n",
       "49427      NaN  This dark-garnet wine has aromas of eucalyptus...   \n",
       "49510      NaN  Aromas of cherry, blueberry and rose petal pre...   \n",
       "54222      NaN  Almost caramel in color, this wine offers arom...   \n",
       "57612      NaN  Winemaker: Gordon Newton Johnson. This is such...   \n",
       "...        ...                                                ...   \n",
       "68322      NaN  This Bulgarian Chardonnay is fermented in egg-...   \n",
       "72581      NaN  This dry Furmint from Hungary's Balaton region...   \n",
       "79270      NaN  This 100% Vranac is garnet in color, with arom...   \n",
       "79827      NaN  An interesting blend of indigenous Bulgarian a...   \n",
       "81955      NaN  This white blend is comprised of 50% Chardonna...   \n",
       "81957      NaN  This wine is made from grapes grown in the Lak...   \n",
       "85602      NaN  There's a pleasant fruity richness to this win...   \n",
       "85603      NaN  Made from 100% Melnick this garnet-colored win...   \n",
       "85821      NaN  A neutral nose leads onto an apple-fresh palat...   \n",
       "90146      NaN  Aromas of cut grass, lemongrass and honeysuckl...   \n",
       "90151      NaN  This medium-straw-colored wine has aromas of c...   \n",
       "95176      NaN  Aromatic hints of tomato leaf and pea shoots m...   \n",
       "97850      NaN  Streaks of blossom, citrus and pear can be dis...   \n",
       "98094      NaN  This organically produced wine is comprised of...   \n",
       "100570     NaN  Plum, black cherry and anise lead the nose of ...   \n",
       "100722     NaN  This Pinot Gris from Switzerland has aromas of...   \n",
       "105167     NaN  A lively whiff of white blossom, Muscat grapes...   \n",
       "105715     NaN  Aromas of blackberry, strawberry and chocolate...   \n",
       "106170     NaN  This is a reasonably rich, concentrated exampl...   \n",
       "113520     NaN  Aromas of crushed stone and graphite lead toas...   \n",
       "116307     NaN  A lively whiff of white blossom, Muscat grapes...   \n",
       "118118     NaN  Amber to the eye, this wine features an entici...   \n",
       "119787     NaN  This deep red-violet wine has a nose of blackb...   \n",
       "120248     NaN  Dark ruby in the glass, this wine offers a bou...   \n",
       "120799     NaN  Cigar box, cedar and red fruit aromas start th...   \n",
       "124176     NaN  This Swiss red blend is composed of four varie...   \n",
       "129407     NaN  Dry spicy aromas of dusty plum and tomato add ...   \n",
       "129408     NaN  El Capricho is one of Uruguay's more consisten...   \n",
       "129590     NaN  A blend of 60% Syrah, 30% Cabernet Sauvignon a...   \n",
       "129900     NaN  This wine offers a delightful bouquet of black...   \n",
       "\n",
       "                                        designation  points  price province  \\\n",
       "913                                  Asureti Valley      87   30.0      NaN   \n",
       "3131                                       Partager      83    NaN      NaN   \n",
       "4243                       Red Naturally Semi-Sweet      88   18.0      NaN   \n",
       "9509                 Theopetra Malagouzia-Assyrtiko      92   28.0      NaN   \n",
       "9750                      Orange Nikolaevo Vineyard      89   28.0      NaN   \n",
       "11150                                           NaN      89   20.0      NaN   \n",
       "11348                                      Partager      82    NaN      NaN   \n",
       "14030                                         Márga      88   25.0      NaN   \n",
       "16000             Valle de los Manantiales Vineyard      86   40.0      NaN   \n",
       "16749       Cape Winemakers Guild Vloekskoot Wooded      91    NaN      NaN   \n",
       "18075                                     Askitikos      90   17.0      NaN   \n",
       "26485                                           NaN      87   13.0      NaN   \n",
       "26486                                           NaN      87   14.0      NaN   \n",
       "26489                                Aliwen Reserva      87   12.0      NaN   \n",
       "27822                                           NaN      86   19.0      NaN   \n",
       "36112           Hrumki Melnik 55 Mourvèdre Marselan      89   25.0      NaN   \n",
       "38240                            Steirische Klassik      89   24.0      NaN   \n",
       "38898                         Wismer-Parke Vineyard      89   34.0      NaN   \n",
       "44674                            Steirische Klassik      91   25.0      NaN   \n",
       "44850                                       Amphora      84    6.0      NaN   \n",
       "44851                                         Royal      84    6.0      NaN   \n",
       "45247                            Steirische Klassik      89   25.0      NaN   \n",
       "45402                        Reserva Estate Bottled      85   12.0      NaN   \n",
       "46352                                      Catalina      91   50.0      NaN   \n",
       "49425               Getika Made With Organic Grapes      88   28.0      NaN   \n",
       "49426               Getika Made With Organic Grapes      88   28.0      NaN   \n",
       "49427     Hrumki Syrah Melnik 55 Mourvèdre Marselan      88   19.0      NaN   \n",
       "49510                                           NaN      91   34.0      NaN   \n",
       "54222                              Babaneuri Valley      87   30.0      NaN   \n",
       "57612               Cape Winemakers Guild Windansea      92    NaN      NaN   \n",
       "...                                             ...     ...    ...      ...   \n",
       "68322                                     Nikolaevo      89   20.0      NaN   \n",
       "72581                                        Estate      89   21.0      NaN   \n",
       "79270                                       Premium      86   11.0      NaN   \n",
       "79827           Hrumki Melnik 55 Mourvèdre Marselan      89   25.0      NaN   \n",
       "81955   Nikolaevo Unison Chardonnay-Gewürtztraminer      89   16.0      NaN   \n",
       "81957                                         Márga      89   18.0      NaN   \n",
       "85602                                           NaN      88   36.0      NaN   \n",
       "85603                                        Nobile      88   23.0      NaN   \n",
       "85821                            Steirische Klassik      90   22.0      NaN   \n",
       "90146                            Nikolaevo Vineyard      89   16.0      NaN   \n",
       "90151                                           NaN      89   25.0      NaN   \n",
       "95176                                       Klausen      91   38.0      NaN   \n",
       "97850                               Gemischter Satz      89   17.0      NaN   \n",
       "98094                      Made With Organic Grapes      89   24.0      NaN   \n",
       "100570                             Theopetra Estate      87   37.0      NaN   \n",
       "100722                        Domaine de la Treille      89   25.0      NaN   \n",
       "105167                           Steirische Klassik      92   21.0      NaN   \n",
       "105715                                         Peak      92   50.0      NaN   \n",
       "106170                                          NaN      86   19.0      NaN   \n",
       "113520                                      Reserve      90   22.0      NaN   \n",
       "116307                           Steirische Klassik      92   21.0      NaN   \n",
       "118118            Dry Unfiltered Rkatsiteli Mtsvane      88   25.0      NaN   \n",
       "119787                                          NaN      90   30.0      NaN   \n",
       "120248                                     M Series      92   36.0      NaN   \n",
       "120799                                          NaN      90   27.0      NaN   \n",
       "124176                                 Les Romaines      90   30.0      NaN   \n",
       "129407                                      Reserve      89   22.0      NaN   \n",
       "129408                                      Reserve      89   22.0      NaN   \n",
       "129590                                         Shah      90   30.0      NaN   \n",
       "129900                                          NaN      91   32.0      NaN   \n",
       "\n",
       "       region_1 region_2        taster_name taster_twitter_handle  \\\n",
       "913         NaN      NaN      Mike DeSimone        @worldwineguys   \n",
       "3131        NaN      NaN         Roger Voss            @vossroger   \n",
       "4243        NaN      NaN      Mike DeSimone        @worldwineguys   \n",
       "9509        NaN      NaN    Susan Kostrzewa         @suskostrzewa   \n",
       "9750        NaN      NaN       Jeff Jenssen        @worldwineguys   \n",
       "11150       NaN      NaN       Jeff Jenssen        @worldwineguys   \n",
       "11348       NaN      NaN         Roger Voss            @vossroger   \n",
       "14030       NaN      NaN       Jeff Jenssen        @worldwineguys   \n",
       "16000       NaN      NaN  Michael Schachner           @wineschach   \n",
       "16749       NaN      NaN      Lauren Buzzeo             @laurbuzz   \n",
       "18075       NaN      NaN    Susan Kostrzewa         @suskostrzewa   \n",
       "26485       NaN      NaN       Jeff Jenssen        @worldwineguys   \n",
       "26486       NaN      NaN      Mike DeSimone        @worldwineguys   \n",
       "26489       NaN      NaN  Michael Schachner           @wineschach   \n",
       "27822       NaN      NaN     Joe Czerwinski                @JoeCz   \n",
       "36112       NaN      NaN       Jeff Jenssen        @worldwineguys   \n",
       "38240       NaN      NaN   Anne Krebiehl MW           @AnneInVino   \n",
       "38898       NaN      NaN       Paul Gregutt           @paulgwine    \n",
       "44674       NaN      NaN   Anne Krebiehl MW           @AnneInVino   \n",
       "44850       NaN      NaN       Jeff Jenssen        @worldwineguys   \n",
       "44851       NaN      NaN       Jeff Jenssen        @worldwineguys   \n",
       "45247       NaN      NaN   Anne Krebiehl MW           @AnneInVino   \n",
       "45402       NaN      NaN  Michael Schachner           @wineschach   \n",
       "46352       NaN      NaN  Michael Schachner           @wineschach   \n",
       "49425       NaN      NaN       Jeff Jenssen        @worldwineguys   \n",
       "49426       NaN      NaN       Jeff Jenssen        @worldwineguys   \n",
       "49427       NaN      NaN       Jeff Jenssen        @worldwineguys   \n",
       "49510       NaN      NaN      Mike DeSimone        @worldwineguys   \n",
       "54222       NaN      NaN      Mike DeSimone        @worldwineguys   \n",
       "57612       NaN      NaN      Lauren Buzzeo             @laurbuzz   \n",
       "...         ...      ...                ...                   ...   \n",
       "68322       NaN      NaN       Jeff Jenssen        @worldwineguys   \n",
       "72581       NaN      NaN       Jeff Jenssen        @worldwineguys   \n",
       "79270       NaN      NaN       Jeff Jenssen        @worldwineguys   \n",
       "79827       NaN      NaN       Jeff Jenssen        @worldwineguys   \n",
       "81955       NaN      NaN       Jeff Jenssen        @worldwineguys   \n",
       "81957       NaN      NaN       Jeff Jenssen        @worldwineguys   \n",
       "85602       NaN      NaN      Lauren Buzzeo             @laurbuzz   \n",
       "85603       NaN      NaN       Jeff Jenssen        @worldwineguys   \n",
       "85821       NaN      NaN   Anne Krebiehl MW           @AnneInVino   \n",
       "90146       NaN      NaN       Jeff Jenssen        @worldwineguys   \n",
       "90151       NaN      NaN       Jeff Jenssen        @worldwineguys   \n",
       "95176       NaN      NaN   Anne Krebiehl MW           @AnneInVino   \n",
       "97850       NaN      NaN   Anne Krebiehl MW           @AnneInVino   \n",
       "98094       NaN      NaN       Jeff Jenssen        @worldwineguys   \n",
       "100570      NaN      NaN    Susan Kostrzewa         @suskostrzewa   \n",
       "100722      NaN      NaN       Jeff Jenssen        @worldwineguys   \n",
       "105167      NaN      NaN   Anne Krebiehl MW           @AnneInVino   \n",
       "105715      NaN      NaN      Mike DeSimone        @worldwineguys   \n",
       "106170      NaN      NaN     Joe Czerwinski                @JoeCz   \n",
       "113520      NaN      NaN  Michael Schachner           @wineschach   \n",
       "116307      NaN      NaN   Anne Krebiehl MW           @AnneInVino   \n",
       "118118      NaN      NaN      Mike DeSimone        @worldwineguys   \n",
       "119787      NaN      NaN      Mike DeSimone        @worldwineguys   \n",
       "120248      NaN      NaN      Mike DeSimone        @worldwineguys   \n",
       "120799      NaN      NaN    Susan Kostrzewa         @suskostrzewa   \n",
       "124176      NaN      NaN       Jeff Jenssen        @worldwineguys   \n",
       "129407      NaN      NaN  Michael Schachner           @wineschach   \n",
       "129408      NaN      NaN  Michael Schachner           @wineschach   \n",
       "129590      NaN      NaN      Mike DeSimone        @worldwineguys   \n",
       "129900      NaN      NaN      Mike DeSimone        @worldwineguys   \n",
       "\n",
       "                                                    title  \\\n",
       "913        Gotsa Family Wines 2014 Asureti Valley Chinuri   \n",
       "3131                    Barton & Guestier NV Partager Red   \n",
       "4243    Kakhetia Traditional Winemaking 2012 Red Natur...   \n",
       "9509    Tsililis 2015 Theopetra Malagouzia-Assyrtiko W...   \n",
       "9750    Ross-idi 2015 Orange Nikolaevo Vineyard Chardo...   \n",
       "11150                                 Orbelus 2013 Melnik   \n",
       "11348                 Barton & Guestier NV Partager White   \n",
       "14030                          St. Donat 2013 Márga White   \n",
       "16000   Familia Deicas 2015 Valle de los Manantiales V...   \n",
       "16749   Bartho Eksteen 2016 Cape Winemakers Guild Vloe...   \n",
       "18075                   Tsililis 2015 Askitikos Assyrtiko   \n",
       "26485                            Stone Castle 2013 Shiraz   \n",
       "26486                      Teliani Valley 2015 Tsolikouri   \n",
       "26489       Undurraga 2016 Aliwen Reserva Sauvignon Blanc   \n",
       "27822                       Mt. Beautiful 2014 Pinot Gris   \n",
       "36112   Orbelus 2012 Hrumki Melnik 55 Mourvèdre Marsel...   \n",
       "38240    Neumeister 2015 Steirische Klassik Grauburgunder   \n",
       "38898     Bachelder 2014 Wismer-Parke Vineyard Pinot Noir   \n",
       "44674    Neumeister 2016 Steirische Klassik Grauburgunder   \n",
       "44850                       Stone Castle 2014 Amphora Red   \n",
       "44851                    Stone Castle 2015 Royal Riesling   \n",
       "45247   Neumeister 2016 Steirische Klassik Sauvignon B...   \n",
       "45402      Chilcas 2015 Reserva Estate Bottled Pinot Noir   \n",
       "46352                         Santa Ema 2014 Catalina Red   \n",
       "49425    Orbelus 2011 Getika Made With Organic Grapes Red   \n",
       "49426    Orbelus 2012 Getika Made With Organic Grapes Red   \n",
       "49427   Orbelus 2013 Hrumki Syrah Melnik 55 Mourvèdre ...   \n",
       "49510                      Psagot 2013 Cabernet Sauvignon   \n",
       "54222    Gotsa Family Wines 2013 Babaneuri Valley Mtsvane   \n",
       "57612   Newton Johnson 2016 Cape Winemakers Guild Wind...   \n",
       "...                                                   ...   \n",
       "68322                  Ross-idi 2015 Nikolaevo Chardonnay   \n",
       "72581                       St. Donat 2014 Estate Furmint   \n",
       "79270                    Stone Castle 2014 Premium Vranac   \n",
       "79827   Orbelus 2012 Hrumki Melnik 55 Mourvèdre Marsel...   \n",
       "81955   Ross-idi 2014 Nikolaevo Unison Chardonnay-Gewü...   \n",
       "81957                        St. Donat 2015 Márga Furmint   \n",
       "85602                             Lismore 2014 Chardonnay   \n",
       "85603                          Logodaj 2013 Nobile Melnik   \n",
       "85821         Neumeister 2015 Steirische Klassik Morillon   \n",
       "90146     Ross-idi 2015 Nikolaevo Vineyard Gewürztraminer   \n",
       "90151                          Somlói Vándor 2015 Furmint   \n",
       "95176             Neumeister 2015 Klausen Sauvignon Blanc   \n",
       "97850               Neumeister 2016 Gemischter Satz White   \n",
       "98094        Orbelus 2013 Made With Organic Grapes Melnik   \n",
       "100570                 Tsililis 2012 Theopetra Estate Red   \n",
       "100722  Les Frères Dutruy 2014 Domaine de la Treille P...   \n",
       "105167  Neumeister 2016 Steirische Klassik Gelber Musk...   \n",
       "105715                               Psagot 2014 Peak Red   \n",
       "106170                      Mt. Beautiful 2014 Pinot Gris   \n",
       "113520                    El Capricho 2015 Reserve Tannat   \n",
       "116307  Neumeister 2016 Steirische Klassik Gelber Musk...   \n",
       "118118  Gotsa Family Wines 2015 Dry Unfiltered Rkatsit...   \n",
       "119787           Amiran Vepkhvadze 2014 Otskhanuri Sapere   \n",
       "120248                Psagot 2013 M Series Cabernet Franc   \n",
       "120799                    Ktima Voyatzi 2014 Tsapournakos   \n",
       "124176            Les Frères Dutruy 2014 Les Romaines Red   \n",
       "129407        El Capricho 2015 Reserve Cabernet Sauvignon   \n",
       "129408               El Capricho 2015 Reserve Tempranillo   \n",
       "129590                            Büyülübağ 2012 Shah Red   \n",
       "129900                                 Psagot 2014 Merlot   \n",
       "\n",
       "                      variety                           winery  \n",
       "913                   Chinuri               Gotsa Family Wines  \n",
       "3131                Red Blend                Barton & Guestier  \n",
       "4243                 Ojaleshi  Kakhetia Traditional Winemaking  \n",
       "9509              White Blend                         Tsililis  \n",
       "9750               Chardonnay                         Ross-idi  \n",
       "11150                  Melnik                          Orbelus  \n",
       "11348             White Blend                Barton & Guestier  \n",
       "14030             White Blend                        St. Donat  \n",
       "16000                  Tannat                   Familia Deicas  \n",
       "16749         Sauvignon Blanc                   Bartho Eksteen  \n",
       "18075               Assyrtiko                         Tsililis  \n",
       "26485                  Shiraz                     Stone Castle  \n",
       "26486              Tsolikouri                   Teliani Valley  \n",
       "26489         Sauvignon Blanc                        Undurraga  \n",
       "27822              Pinot Gris                    Mt. Beautiful  \n",
       "36112               Red Blend                          Orbelus  \n",
       "38240           Grauburgunder                       Neumeister  \n",
       "38898              Pinot Noir                        Bachelder  \n",
       "44674           Grauburgunder                       Neumeister  \n",
       "44850               Red Blend                     Stone Castle  \n",
       "44851                Riesling                     Stone Castle  \n",
       "45247         Sauvignon Blanc                       Neumeister  \n",
       "45402              Pinot Noir                          Chilcas  \n",
       "46352               Red Blend                        Santa Ema  \n",
       "49425               Red Blend                          Orbelus  \n",
       "49426               Red Blend                          Orbelus  \n",
       "49427               Red Blend                          Orbelus  \n",
       "49510      Cabernet Sauvignon                           Psagot  \n",
       "54222                 Mtsvane               Gotsa Family Wines  \n",
       "57612              Pinot Noir                   Newton Johnson  \n",
       "...                       ...                              ...  \n",
       "68322              Chardonnay                         Ross-idi  \n",
       "72581                 Furmint                        St. Donat  \n",
       "79270                  Vranac                     Stone Castle  \n",
       "79827               Red Blend                          Orbelus  \n",
       "81955             White Blend                         Ross-idi  \n",
       "81957                 Furmint                        St. Donat  \n",
       "85602              Chardonnay                          Lismore  \n",
       "85603                  Melnik                          Logodaj  \n",
       "85821                Morillon                       Neumeister  \n",
       "90146          Gewürztraminer                         Ross-idi  \n",
       "90151                 Furmint                    Somlói Vándor  \n",
       "95176         Sauvignon Blanc                       Neumeister  \n",
       "97850    Austrian white blend                       Neumeister  \n",
       "98094                  Melnik                          Orbelus  \n",
       "100570              Red Blend                         Tsililis  \n",
       "100722             Pinot Gris                Les Frères Dutruy  \n",
       "105167     Gelber Muskateller                       Neumeister  \n",
       "105715  Rhône-style Red Blend                           Psagot  \n",
       "106170             Pinot Gris                    Mt. Beautiful  \n",
       "113520                 Tannat                      El Capricho  \n",
       "116307     Gelber Muskateller                       Neumeister  \n",
       "118118            White Blend               Gotsa Family Wines  \n",
       "119787      Otskhanuri Sapere                Amiran Vepkhvadze  \n",
       "120248         Cabernet Franc                           Psagot  \n",
       "120799           Tsapournakos                    Ktima Voyatzi  \n",
       "124176              Red Blend                Les Frères Dutruy  \n",
       "129407     Cabernet Sauvignon                      El Capricho  \n",
       "129408            Tempranillo                      El Capricho  \n",
       "129590              Red Blend                        Büyülübağ  \n",
       "129900                 Merlot                           Psagot  \n",
       "\n",
       "[63 rows x 13 columns]"
      ]
     },
     "execution_count": 37,
     "metadata": {},
     "output_type": "execute_result"
    }
   ],
   "source": [
    "# 查找缺失的Country列数据\n",
    "wine_data[wine_data.country.isnull()]"
   ]
  },
  {
   "cell_type": "code",
   "execution_count": 38,
   "metadata": {
    "collapsed": false
   },
   "outputs": [
    {
     "data": {
      "text/plain": [
       "(129971, 13)"
      ]
     },
     "execution_count": 38,
     "metadata": {},
     "output_type": "execute_result"
    }
   ],
   "source": [
    "wine_data.shape"
   ]
  },
  {
   "cell_type": "markdown",
   "metadata": {
    "collapsed": true
   },
   "source": [
    "剔除Country中的空值，更新数据"
   ]
  },
  {
   "cell_type": "code",
   "execution_count": 39,
   "metadata": {
    "collapsed": true
   },
   "outputs": [],
   "source": [
    "loss_country_data = wine_data.dropna(how=\"any\", subset=[\"country\"])"
   ]
  },
  {
   "cell_type": "code",
   "execution_count": 40,
   "metadata": {
    "collapsed": false
   },
   "outputs": [
    {
     "data": {
      "text/plain": [
       "(129908, 13)"
      ]
     },
     "execution_count": 40,
     "metadata": {},
     "output_type": "execute_result"
    }
   ],
   "source": [
    "loss_country_data.shape"
   ]
  },
  {
   "cell_type": "code",
   "execution_count": 41,
   "metadata": {
    "collapsed": false
   },
   "outputs": [
    {
     "data": {
      "text/html": [
       "<div>\n",
       "<style scoped>\n",
       "    .dataframe tbody tr th:only-of-type {\n",
       "        vertical-align: middle;\n",
       "    }\n",
       "\n",
       "    .dataframe tbody tr th {\n",
       "        vertical-align: top;\n",
       "    }\n",
       "\n",
       "    .dataframe thead th {\n",
       "        text-align: right;\n",
       "    }\n",
       "</style>\n",
       "<table border=\"1\" class=\"dataframe\">\n",
       "  <thead>\n",
       "    <tr style=\"text-align: right;\">\n",
       "      <th></th>\n",
       "      <th>country</th>\n",
       "      <th>description</th>\n",
       "      <th>designation</th>\n",
       "      <th>points</th>\n",
       "      <th>price</th>\n",
       "      <th>province</th>\n",
       "      <th>region_1</th>\n",
       "      <th>region_2</th>\n",
       "      <th>taster_name</th>\n",
       "      <th>taster_twitter_handle</th>\n",
       "      <th>title</th>\n",
       "      <th>variety</th>\n",
       "      <th>winery</th>\n",
       "    </tr>\n",
       "  </thead>\n",
       "  <tbody>\n",
       "  </tbody>\n",
       "</table>\n",
       "</div>"
      ],
      "text/plain": [
       "Empty DataFrame\n",
       "Columns: [country, description, designation, points, price, province, region_1, region_2, taster_name, taster_twitter_handle, title, variety, winery]\n",
       "Index: []"
      ]
     },
     "execution_count": 41,
     "metadata": {},
     "output_type": "execute_result"
    }
   ],
   "source": [
    "loss_country_data[loss_country_data.country.isnull()]"
   ]
  },
  {
   "cell_type": "markdown",
   "metadata": {
    "collapsed": true
   },
   "source": [
    "可以看到，Country的缺失值已不存在，同理，其他的标称数据也可以做类似处理。"
   ]
  }
 ],
 "metadata": {
  "anaconda-cloud": {},
  "kernelspec": {
   "display_name": "Python [default]",
   "language": "python",
   "name": "python3"
  },
  "language_info": {
   "codemirror_mode": {
    "name": "ipython",
    "version": 3
   },
   "file_extension": ".py",
   "mimetype": "text/x-python",
   "name": "python",
   "nbconvert_exporter": "python",
   "pygments_lexer": "ipython3",
   "version": "3.5.6"
  }
 },
 "nbformat": 4,
 "nbformat_minor": 1
}
